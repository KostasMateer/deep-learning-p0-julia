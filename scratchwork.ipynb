{
 "cells": [
  {
   "cell_type": "code",
   "execution_count": 1,
   "id": "4b5ca404-fbe5-4ceb-9694-a069754b0775",
   "metadata": {},
   "outputs": [
    {
     "name": "stderr",
     "output_type": "stream",
     "text": [
      "\u001b[32m\u001b[1m  Activating\u001b[22m\u001b[39m project at `~/Workspace/CSC381`\n"
     ]
    }
   ],
   "source": [
    "using Pkg\n",
    "Pkg.activate(\"..\")\n",
    "using Revise\n",
    "includet(\"gradients.jl\")\n",
    "includet(\"matrices.jl\")\n",
    "using LinearAlgebra"
   ]
  },
  {
   "cell_type": "code",
   "execution_count": 2,
   "id": "bbd87a69-8874-4a25-9f10-06cfa7fdf603",
   "metadata": {},
   "outputs": [],
   "source": [
    "using TypedPolynomials"
   ]
  },
  {
   "cell_type": "code",
   "execution_count": 3,
   "id": "4f7ab08c-9e59-4418-a164-1b8cd80dc6ef",
   "metadata": {},
   "outputs": [
    {
     "data": {
      "text/latex": [
       "$$ x1 + x2 $$"
      ],
      "text/plain": [
       "x1 + x2"
      ]
     },
     "execution_count": 3,
     "metadata": {},
     "output_type": "execute_result"
    }
   ],
   "source": [
    "d=4\n",
    "z = ntuple(i -> Variable{Symbol(\"x\", i)}(), d)\n",
    "\n",
    "z[1] + z[2]"
   ]
  },
  {
   "cell_type": "code",
   "execution_count": 4,
   "id": "06634a7f-42ad-4511-98c5-b01dc0c8b354",
   "metadata": {},
   "outputs": [
    {
     "ename": "LoadError",
     "evalue": "UndefVarError: x not defined",
     "output_type": "error",
     "traceback": [
      "UndefVarError: x not defined",
      "",
      "Stacktrace:",
      " [1] top-level scope",
      "   @ In[4]:1",
      " [2] eval",
      "   @ ./boot.jl:373 [inlined]",
      " [3] include_string(mapexpr::typeof(REPL.softscope), mod::Module, code::String, filename::String)",
      "   @ Base ./loading.jl:1196"
     ]
    }
   ],
   "source": [
    "p = 2x + 3.0x^2*y^2 - y*z^4"
   ]
  },
  {
   "cell_type": "code",
   "execution_count": 5,
   "id": "c1b1a978-72a8-4900-b61d-85161baeff85",
   "metadata": {},
   "outputs": [
    {
     "data": {
      "text/latex": [
       "$$ -yz^{4} + 3.0x^{2}y^{2} + 2.0x $$"
      ],
      "text/plain": [
       "-yz⁴ + 3.0x²y² + 2.0x"
      ]
     },
     "execution_count": 5,
     "metadata": {},
     "output_type": "execute_result"
    }
   ],
   "source": [
    "p = 2x + 3.0x^2*y^2 - y*z^4"
   ]
  },
  {
   "cell_type": "code",
   "execution_count": 6,
   "id": "6932d5ec-64ee-435c-811c-85cd135e03ab",
   "metadata": {},
   "outputs": [
    {
     "data": {
      "text/latex": [
       "$$ 6.0xy^{2} + 2.0 $$"
      ],
      "text/plain": [
       "6.0xy² + 2.0"
      ]
     },
     "execution_count": 6,
     "metadata": {},
     "output_type": "execute_result"
    }
   ],
   "source": [
    "differentiate(p, x)"
   ]
  },
  {
   "cell_type": "code",
   "execution_count": 7,
   "id": "c8c52fc7-966f-4083-9b54-69e8ad9d72a2",
   "metadata": {},
   "outputs": [
    {
     "data": {
      "text/plain": [
       "(x, y, z)"
      ]
     },
     "execution_count": 7,
     "metadata": {},
     "output_type": "execute_result"
    }
   ],
   "source": [
    "variables(p)"
   ]
  },
  {
   "cell_type": "code",
   "execution_count": 8,
   "id": "5d946fb8-e71b-4396-bcdf-6d93ef93fe1b",
   "metadata": {},
   "outputs": [
    {
     "data": {
      "text/plain": [
       "3-element Vector{Term{Float64, Monomial{(x, y, z), 3}}}:\n",
       " -yz⁴\n",
       " 3.0x²y²\n",
       " 2.0x"
      ]
     },
     "execution_count": 8,
     "metadata": {},
     "output_type": "execute_result"
    }
   ],
   "source": [
    "p.terms"
   ]
  },
  {
   "cell_type": "code",
   "execution_count": 9,
   "id": "f25c465c-ed9b-497e-b8bb-1e39fc997136",
   "metadata": {},
   "outputs": [
    {
     "ename": "LoadError",
     "evalue": "type Term has no field coeffecient",
     "output_type": "error",
     "traceback": [
      "type Term has no field coeffecient",
      "",
      "Stacktrace:",
      " [1] getproperty(x::Term{Float64, Monomial{(x, y, z), 3}}, f::Symbol)",
      "   @ Base ./Base.jl:42",
      " [2] top-level scope",
      "   @ In[9]:1",
      " [3] eval",
      "   @ ./boot.jl:373 [inlined]",
      " [4] include_string(mapexpr::typeof(REPL.softscope), mod::Module, code::String, filename::String)",
      "   @ Base ./loading.jl:1196"
     ]
    }
   ],
   "source": [
    "p.terms[1].coeffecient"
   ]
  },
  {
   "cell_type": "code",
   "execution_count": 10,
   "id": "9ca9a8a6-0f2a-4418-85b2-9eea659bf6e8",
   "metadata": {},
   "outputs": [
    {
     "data": {
      "text/plain": [
       "-1.0"
      ]
     },
     "execution_count": 10,
     "metadata": {},
     "output_type": "execute_result"
    }
   ],
   "source": [
    "p.terms[1].coefficient"
   ]
  },
  {
   "cell_type": "code",
   "execution_count": 11,
   "id": "5218fbab-286e-44c8-a337-50c8f297ec8d",
   "metadata": {},
   "outputs": [
    {
     "data": {
      "text/latex": [
       "$$ yz^{4} $$"
      ],
      "text/plain": [
       "yz⁴"
      ]
     },
     "execution_count": 11,
     "metadata": {},
     "output_type": "execute_result"
    }
   ],
   "source": [
    "p.terms[1].monomial"
   ]
  },
  {
   "cell_type": "code",
   "execution_count": 12,
   "id": "304f8296-6163-4cfc-ad9a-7e3834cdea03",
   "metadata": {},
   "outputs": [
    {
     "data": {
      "text/latex": [
       "$$ yz^{4} $$"
      ],
      "text/plain": [
       "yz⁴"
      ]
     },
     "execution_count": 12,
     "metadata": {},
     "output_type": "execute_result"
    }
   ],
   "source": [
    "p.terms[1].monomial"
   ]
  },
  {
   "cell_type": "code",
   "execution_count": 13,
   "id": "db07a417-cf77-43a2-ad0a-2d3f7e83f330",
   "metadata": {},
   "outputs": [
    {
     "data": {
      "text/plain": [
       "(0, 1, 4)"
      ]
     },
     "execution_count": 13,
     "metadata": {},
     "output_type": "execute_result"
    }
   ],
   "source": [
    "p.terms[1].monomial.exponents"
   ]
  },
  {
   "cell_type": "code",
   "execution_count": 2,
   "id": "99635e04-f2f6-4fbf-8f3b-4a3ddf85855a",
   "metadata": {},
   "outputs": [
    {
     "name": "stderr",
     "output_type": "stream",
     "text": [
      "┌ Error: Failed to revise /home/DAVIDSON/komateer/Workspace/CSC381/dl_f22_project-0-KostasMateerStudent/matrices.jl\n",
      "│   exception = (LoadError(\"/home/DAVIDSON/komateer/Workspace/CSC381/dl_f22_project-0-KostasMateerStudent/matrices.jl\", 5, \"line break in \\\":\\\" expression\"), Union{Ptr{Nothing}, Base.InterpreterIP}[Ptr{Nothing} @0x0000152362b60230])\n",
      "└ @ Revise /home/DAVIDSON/komateer/.julia/packages/Revise/VskYC/src/packagedef.jl:710\n",
      "┌ Warning: The running code does not match the saved version for the following files:\n",
      "│ \n",
      "│   /home/DAVIDSON/komateer/Workspace/CSC381/dl_f22_project-0-KostasMateerStudent/matrices.jl\n",
      "│ \n",
      "│ If the error was due to evaluation order, it can sometimes be resolved by calling `Revise.retry()`.\n",
      "│ Use Revise.errors() to report errors again. Only the first error in each file is shown.\n",
      "│ Your prompt color may be yellow until the errors are resolved.\n",
      "└ @ Revise /home/DAVIDSON/komateer/.julia/packages/Revise/VskYC/src/packagedef.jl:818\n"
     ]
    },
    {
     "data": {
      "text/plain": [
       "5×5 Matrix{Float64}:\n",
       " 0.228636  0.573435  0.611485  0.995619  0.931872\n",
       " 0.663651  0.150334  0.510023  0.851406  0.851764\n",
       " 0.59894   0.615654  0.779372  0.894771  0.571519\n",
       " 0.695809  0.808321  0.202628  0.17757   0.383017\n",
       " 0.451322  0.861504  0.550817  0.248059  0.354303"
      ]
     },
     "execution_count": 2,
     "metadata": {},
     "output_type": "execute_result"
    }
   ],
   "source": [
    "x = rand(5, 5)"
   ]
  },
  {
   "cell_type": "code",
   "execution_count": 3,
   "id": "91dbfc47-aa6e-4b39-928f-e67474ae5e61",
   "metadata": {},
   "outputs": [
    {
     "data": {
      "text/plain": [
       "5×5 Matrix{Float64}:\n",
       " 1.0  1.0  1.0  1.0  1.0\n",
       " 1.0  1.0  1.0  1.0  1.0\n",
       " 1.0  1.0  1.0  1.0  1.0\n",
       " 1.0  1.0  1.0  1.0  1.0\n",
       " 1.0  1.0  1.0  1.0  1.0"
      ]
     },
     "execution_count": 3,
     "metadata": {},
     "output_type": "execute_result"
    }
   ],
   "source": [
    "x = ones(5, 5)"
   ]
  },
  {
   "cell_type": "code",
   "execution_count": 4,
   "id": "ca399e72-baa3-4604-ae38-3d8c4150f692",
   "metadata": {},
   "outputs": [
    {
     "data": {
      "text/plain": [
       "5×2 Matrix{Float64}:\n",
       " 1.0  1.0\n",
       " 1.0  1.0\n",
       " 1.0  1.0\n",
       " 1.0  1.0\n",
       " 1.0  1.0"
      ]
     },
     "execution_count": 4,
     "metadata": {},
     "output_type": "execute_result"
    }
   ],
   "source": [
    "y = ones(5, 2)"
   ]
  },
  {
   "cell_type": "code",
   "execution_count": 6,
   "id": "c8d53662-1f90-41cd-a792-648ff697f62f",
   "metadata": {},
   "outputs": [
    {
     "data": {
      "text/plain": [
       "3×3 Matrix{Int64}:\n",
       " 1  2  3\n",
       " 4  1  6\n",
       " 7  8  1"
      ]
     },
     "execution_count": 6,
     "metadata": {},
     "output_type": "execute_result"
    }
   ],
   "source": [
    "A = [1 2 3; 4 1 6; 7 8 1]"
   ]
  },
  {
   "cell_type": "code",
   "execution_count": 7,
   "id": "26d984a2-25c7-4287-b891-228ada49c11a",
   "metadata": {},
   "outputs": [
    {
     "data": {
      "text/plain": [
       "3×3 Matrix{Int64}:\n",
       " 10  11  12\n",
       "  1   1   6\n",
       "  7   8   1"
      ]
     },
     "execution_count": 7,
     "metadata": {},
     "output_type": "execute_result"
    }
   ],
   "source": [
    "B = A = [10 11 12; 1 1 6; 7 8 1]"
   ]
  },
  {
   "cell_type": "code",
   "execution_count": 8,
   "id": "922a5b8d-2a16-40e0-9665-20bbdcc55597",
   "metadata": {},
   "outputs": [
    {
     "data": {
      "text/plain": [
       "3×3 Matrix{Int64}:\n",
       " 195  217  198\n",
       "  53   60   24\n",
       "  85   93  133"
      ]
     },
     "execution_count": 8,
     "metadata": {},
     "output_type": "execute_result"
    }
   ],
   "source": [
    "A*B"
   ]
  },
  {
   "cell_type": "code",
   "execution_count": 11,
   "id": "ed1b0fed-07fe-4f6c-9b8c-170880c505eb",
   "metadata": {},
   "outputs": [
    {
     "name": "stdout",
     "output_type": "stream",
     "text": [
      "10\n",
      "1\n",
      "7\n",
      "11\n",
      "1\n",
      "8\n",
      "12\n",
      "6\n",
      "1\n"
     ]
    }
   ],
   "source": [
    "for i in A\n",
    "    print(i)\n",
    "    print('\\n')\n",
    "end"
   ]
  },
  {
   "cell_type": "code",
   "execution_count": 14,
   "id": "73c8dd1f-3762-4a88-b6ae-e8025dfbfcaf",
   "metadata": {},
   "outputs": [
    {
     "data": {
      "text/plain": [
       "(3, 3)"
      ]
     },
     "execution_count": 14,
     "metadata": {},
     "output_type": "execute_result"
    }
   ],
   "source": [
    "size(A)"
   ]
  },
  {
   "cell_type": "code",
   "execution_count": 15,
   "id": "ff25a65a-3a62-4123-95bf-3c58f541dd0f",
   "metadata": {},
   "outputs": [
    {
     "data": {
      "text/plain": [
       "(3, 3)"
      ]
     },
     "execution_count": 15,
     "metadata": {},
     "output_type": "execute_result"
    }
   ],
   "source": [
    "x = size(A)"
   ]
  },
  {
   "cell_type": "code",
   "execution_count": 16,
   "id": "ff8d0955-532d-4efc-97a7-a47ee66297f9",
   "metadata": {},
   "outputs": [
    {
     "data": {
      "text/plain": [
       "3"
      ]
     },
     "execution_count": 16,
     "metadata": {},
     "output_type": "execute_result"
    }
   ],
   "source": [
    "x[2]"
   ]
  },
  {
   "cell_type": "code",
   "execution_count": 17,
   "id": "3baa89ef-a98e-4bcc-ae95-145601c3107b",
   "metadata": {},
   "outputs": [
    {
     "data": {
      "text/plain": [
       "3"
      ]
     },
     "execution_count": 17,
     "metadata": {},
     "output_type": "execute_result"
    }
   ],
   "source": [
    "x = size(A)[2]"
   ]
  },
  {
   "cell_type": "code",
   "execution_count": 18,
   "id": "339c6c19-9657-4b21-86a4-1e237e720527",
   "metadata": {},
   "outputs": [
    {
     "name": "stderr",
     "output_type": "stream",
     "text": [
      "┌ Error: Failed to revise /home/DAVIDSON/komateer/Workspace/CSC381/dl_f22_project-0-KostasMateerStudent/matrices.jl\n",
      "│   exception = (LoadError(\"/home/DAVIDSON/komateer/Workspace/CSC381/dl_f22_project-0-KostasMateerStudent/matrices.jl\", 8, \"line break in \\\":\\\" expression\"), Union{Ptr{Nothing}, Base.InterpreterIP}[Ptr{Nothing} @0x0000152362b60230])\n",
      "└ @ Revise /home/DAVIDSON/komateer/.julia/packages/Revise/VskYC/src/packagedef.jl:710\n"
     ]
    },
    {
     "data": {
      "text/plain": [
       "2×2 Matrix{Float64}:\n",
       " 1.0  1.0\n",
       " 1.0  1.0"
      ]
     },
     "execution_count": 18,
     "metadata": {},
     "output_type": "execute_result"
    }
   ],
   "source": [
    "v = ones(2,2)"
   ]
  },
  {
   "cell_type": "code",
   "execution_count": 20,
   "id": "0da10b27-049c-41c5-96ca-f793f9a85564",
   "metadata": {},
   "outputs": [
    {
     "data": {
      "text/plain": [
       "2"
      ]
     },
     "execution_count": 20,
     "metadata": {},
     "output_type": "execute_result"
    }
   ],
   "source": [
    "size(v)[2]"
   ]
  },
  {
   "cell_type": "code",
   "execution_count": 21,
   "id": "baa52176-f665-4eb5-9e93-be13936a1ecb",
   "metadata": {},
   "outputs": [
    {
     "name": "stderr",
     "output_type": "stream",
     "text": [
      "┌ Error: Failed to revise /home/DAVIDSON/komateer/Workspace/CSC381/dl_f22_project-0-KostasMateerStudent/matrices.jl\n",
      "│   exception = (LoadError(\"/home/DAVIDSON/komateer/Workspace/CSC381/dl_f22_project-0-KostasMateerStudent/matrices.jl\", 6, \"line break in \\\":\\\" expression\"), Union{Ptr{Nothing}, Base.InterpreterIP}[Ptr{Nothing} @0x0000152362b60230])\n",
      "└ @ Revise /home/DAVIDSON/komateer/.julia/packages/Revise/VskYC/src/packagedef.jl:710\n"
     ]
    },
    {
     "data": {
      "text/plain": [
       "2-element Vector{Float64}:\n",
       " 1.0\n",
       " 1.0"
      ]
     },
     "execution_count": 21,
     "metadata": {},
     "output_type": "execute_result"
    }
   ],
   "source": [
    "v = ones(2)"
   ]
  },
  {
   "cell_type": "code",
   "execution_count": 22,
   "id": "6211b3d2-4c8f-450e-928c-6f684336c391",
   "metadata": {},
   "outputs": [
    {
     "data": {
      "text/plain": [
       "(2,)"
      ]
     },
     "execution_count": 22,
     "metadata": {},
     "output_type": "execute_result"
    }
   ],
   "source": [
    "size(v)"
   ]
  },
  {
   "cell_type": "code",
   "execution_count": 15,
   "id": "f198880a-038a-4126-828b-9a01e0baca38",
   "metadata": {},
   "outputs": [
    {
     "ename": "LoadError",
     "evalue": "AssertionError: size(vec1) == size(vec2)",
     "output_type": "error",
     "traceback": [
      "AssertionError: size(vec1) == size(vec2)",
      "",
      "Stacktrace:",
      " [1] dot_product(vec1::Vector{Int64}, vec2::Vector{Int64})",
      "   @ Main ~/Workspace/CSC381/dl_f22_project-0-KostasMateerStudent/matrices.jl:4",
      " [2] top-level scope",
      "   @ In[15]:4",
      " [3] eval",
      "   @ ./boot.jl:373 [inlined]",
      " [4] include_string(mapexpr::typeof(REPL.softscope), mod::Module, code::String, filename::String)",
      "   @ Base ./loading.jl:1196"
     ]
    }
   ],
   "source": [
    "v1 = [1, 2, 3]\n",
    "v2 = [5, 6, 7, 6]\n",
    "#println(dot(v1, v2))\n",
    "println(dot_product(v1, v2))"
   ]
  },
  {
   "cell_type": "code",
   "execution_count": 41,
   "id": "adeb735d-c654-44fa-8c56-d91a78973f6b",
   "metadata": {},
   "outputs": [
    {
     "data": {
      "text/plain": [
       "(3,)"
      ]
     },
     "execution_count": 41,
     "metadata": {},
     "output_type": "execute_result"
    }
   ],
   "source": [
    "size(v1)"
   ]
  },
  {
   "cell_type": "code",
   "execution_count": 7,
   "id": "6ad2da3d-7d37-4f98-9609-252135559abb",
   "metadata": {},
   "outputs": [
    {
     "data": {
      "text/plain": [
       "3-element Vector{Int64}:\n",
       " 1\n",
       " 2\n",
       " 3"
      ]
     },
     "execution_count": 7,
     "metadata": {},
     "output_type": "execute_result"
    }
   ],
   "source": [
    "v1 = [1, 2, 3]"
   ]
  },
  {
   "cell_type": "code",
   "execution_count": 8,
   "id": "acd72229-7a71-4aeb-bd89-59e420830b35",
   "metadata": {},
   "outputs": [
    {
     "ename": "LoadError",
     "evalue": "AssertionError: size(vec1) == size(vec2)",
     "output_type": "error",
     "traceback": [
      "AssertionError: size(vec1) == size(vec2)",
      "",
      "Stacktrace:",
      " [1] dot_product(vec1::Vector{Int64}, vec2::Vector{Int64})",
      "   @ Main ~/Workspace/CSC381/dl_f22_project-0-KostasMateerStudent/matrices.jl:4",
      " [2] top-level scope",
      "   @ In[8]:1",
      " [3] eval",
      "   @ ./boot.jl:373 [inlined]",
      " [4] include_string(mapexpr::typeof(REPL.softscope), mod::Module, code::String, filename::String)",
      "   @ Base ./loading.jl:1196"
     ]
    }
   ],
   "source": [
    "println(dot_product(v1, v2))"
   ]
  },
  {
   "cell_type": "code",
   "execution_count": 16,
   "id": "57ff2761-ca28-4876-86ed-faf314a81d83",
   "metadata": {},
   "outputs": [
    {
     "data": {
      "text/plain": [
       "3-element Vector{Float64}:\n",
       " 1.0\n",
       " 1.0\n",
       " 1.0"
      ]
     },
     "execution_count": 16,
     "metadata": {},
     "output_type": "execute_result"
    }
   ],
   "source": [
    "ones(size(v1)[1])"
   ]
  },
  {
   "cell_type": "code",
   "execution_count": 24,
   "id": "81d70609-4e48-4e73-a496-96b3f6f517dc",
   "metadata": {},
   "outputs": [
    {
     "data": {
      "text/plain": [
       "3×3 Matrix{Int64}:\n",
       " 1  2  3\n",
       " 4  5  6\n",
       " 7  8  9"
      ]
     },
     "execution_count": 24,
     "metadata": {},
     "output_type": "execute_result"
    }
   ],
   "source": [
    "matrix = [1 2 3; 4 5 6; 7 8 9]"
   ]
  },
  {
   "cell_type": "code",
   "execution_count": 37,
   "id": "9cd65b05-f1a5-4823-b334-417aaaafa082",
   "metadata": {},
   "outputs": [
    {
     "data": {
      "text/plain": [
       "2"
      ]
     },
     "execution_count": 37,
     "metadata": {},
     "output_type": "execute_result"
    }
   ],
   "source": [
    "matrix[4]"
   ]
  },
  {
   "cell_type": "code",
   "execution_count": 38,
   "id": "3dfa56f0-8bed-458c-b271-258201c98071",
   "metadata": {},
   "outputs": [
    {
     "data": {
      "text/plain": [
       "3×3 Matrix{Float64}:\n",
       " 1.1566e-310   1.15664e-310    5.0e-324\n",
       " 1.1566e-310   1.15665e-310  NaN\n",
       " 1.15665e-310  1.15665e-310    1.14078e-310"
      ]
     },
     "execution_count": 38,
     "metadata": {},
     "output_type": "execute_result"
    }
   ],
   "source": [
    "product_vector = Array{Float64}(undef, size(v1)[1], size(matrix)[2])"
   ]
  },
  {
   "cell_type": "code",
   "execution_count": 46,
   "id": "bae83b8a-cb5d-4b6c-99ee-c3a4588d2568",
   "metadata": {},
   "outputs": [
    {
     "name": "stdout",
     "output_type": "stream",
     "text": [
      "[1, 2, 3]\n",
      "[4, 5, 6]\n",
      "[7, 8, 9]\n"
     ]
    }
   ],
   "source": [
    "for i in 1:size(matrix)[1]\n",
    "    println(matrix[i, :])\n",
    "end"
   ]
  },
  {
   "cell_type": "code",
   "execution_count": 26,
   "id": "caed4c8e-b36d-45d4-af2d-ccd7783f5361",
   "metadata": {},
   "outputs": [
    {
     "data": {
      "text/plain": [
       "3-element Vector{Int64}:\n",
       " 1\n",
       " 2\n",
       " 3"
      ]
     },
     "execution_count": 26,
     "metadata": {},
     "output_type": "execute_result"
    }
   ],
   "source": [
    "v1 = [1, 2, 3]"
   ]
  },
  {
   "cell_type": "code",
   "execution_count": 14,
   "id": "9c1ae9bb-6a1f-423a-8911-fa3f4b0b6256",
   "metadata": {},
   "outputs": [
    {
     "name": "stdout",
     "output_type": "stream",
     "text": [
      "14\n"
     ]
    }
   ],
   "source": [
    "println(dot_product(matrix[1, :], v1))"
   ]
  },
  {
   "cell_type": "code",
   "execution_count": 51,
   "id": "7d155b0d-6bbe-420c-879c-069db10de9af",
   "metadata": {},
   "outputs": [
    {
     "name": "stdout",
     "output_type": "stream",
     "text": [
      "14\n"
     ]
    }
   ],
   "source": [
    "println(dot(matrix[1,:], v1))"
   ]
  },
  {
   "cell_type": "code",
   "execution_count": 27,
   "id": "e4f6f824-655d-44db-9882-f5acad2766f6",
   "metadata": {},
   "outputs": [
    {
     "name": "stdout",
     "output_type": "stream",
     "text": [
      "[14.0, 32.0, 50.0]"
     ]
    }
   ],
   "source": [
    "print(multiply(matrix, v1))"
   ]
  },
  {
   "cell_type": "code",
   "execution_count": null,
   "id": "54099e1c-8d01-40e7-9e43-bc3682684058",
   "metadata": {},
   "outputs": [],
   "source": [
    "println(typeof(multiply(matrix, v1)))"
   ]
  },
  {
   "cell_type": "code",
   "execution_count": 30,
   "id": "eb9a2f10-2016-4cb2-be08-ba3206bec1e5",
   "metadata": {},
   "outputs": [
    {
     "data": {
      "text/plain": [
       "2×3 Matrix{Int64}:\n",
       " 1  2  3\n",
       " 4  5  6"
      ]
     },
     "execution_count": 30,
     "metadata": {},
     "output_type": "execute_result"
    }
   ],
   "source": [
    "mat1 = [1 2 3; 4 5 6; 7 8 9]\n",
    "mat2 = [1 2 3; 4 5 6]"
   ]
  },
  {
   "cell_type": "code",
   "execution_count": 31,
   "id": "180597d1-688d-4dad-abe8-98bec46f2e3d",
   "metadata": {},
   "outputs": [
    {
     "ename": "LoadError",
     "evalue": "AssertionError: (size(mat1))[2] == (size(mat2))[1]",
     "output_type": "error",
     "traceback": [
      "AssertionError: (size(mat1))[2] == (size(mat2))[1]",
      "",
      "Stacktrace:",
      " [1] multiply(mat1::Matrix{Int64}, mat2::Matrix{Int64})",
      "   @ Main ~/Workspace/CSC381/dl_f22_project-0-KostasMateerStudent/matrices.jl:41",
      " [2] top-level scope",
      "   @ In[31]:1",
      " [3] eval",
      "   @ ./boot.jl:373 [inlined]",
      " [4] include_string(mapexpr::typeof(REPL.softscope), mod::Module, code::String, filename::String)",
      "   @ Base ./loading.jl:1196"
     ]
    }
   ],
   "source": [
    "multiply(mat1, mat2)"
   ]
  },
  {
   "cell_type": "code",
   "execution_count": 4,
   "id": "1e15136c-83ab-47dd-8ffd-814c59828272",
   "metadata": {},
   "outputs": [
    {
     "data": {
      "text/plain": [
       "9"
      ]
     },
     "execution_count": 4,
     "metadata": {},
     "output_type": "execute_result"
    }
   ],
   "source": [
    "length(mat1)"
   ]
  },
  {
   "cell_type": "code",
   "execution_count": 9,
   "id": "1ec188a8-97b0-4311-8fb2-3c8062438781",
   "metadata": {},
   "outputs": [
    {
     "name": "stdout",
     "output_type": "stream",
     "text": [
      "1\n",
      "2\n",
      "3\n",
      "4\n",
      "5\n",
      "6\n",
      "7\n",
      "8\n",
      "9\n"
     ]
    }
   ],
   "source": [
    "for i in 1:length(mat1)\n",
    "    println(i)\n",
    "end"
   ]
  },
  {
   "cell_type": "code",
   "execution_count": 18,
   "id": "1dcaa094-4db6-4ac3-ba2b-154c0c6c12e3",
   "metadata": {},
   "outputs": [
    {
     "data": {
      "text/plain": [
       "2×2 Matrix{Float64}:\n",
       " 1.0  1.0\n",
       " 1.0  1.0"
      ]
     },
     "execution_count": 18,
     "metadata": {},
     "output_type": "execute_result"
    }
   ],
   "source": [
    "a = ones(2, 2)"
   ]
  },
  {
   "cell_type": "code",
   "execution_count": 20,
   "id": "8919c37a-a06b-44b3-80f4-af80afe9718a",
   "metadata": {},
   "outputs": [
    {
     "ename": "LoadError",
     "evalue": "UndefKeywordError: keyword argument dims not assigned",
     "output_type": "error",
     "traceback": [
      "UndefKeywordError: keyword argument dims not assigned",
      "",
      "Stacktrace:",
      " [1] cat(::Int64, ::Matrix{Float64}, ::Vararg{Any})",
      "   @ Base ./abstractarray.jl:1861",
      " [2] top-level scope",
      "   @ In[20]:1",
      " [3] eval",
      "   @ ./boot.jl:373 [inlined]",
      " [4] include_string(mapexpr::typeof(REPL.softscope), mod::Module, code::String, filename::String)",
      "   @ Base ./loading.jl:1196"
     ]
    }
   ],
   "source": [
    "a = cat(2, a, [2 2])"
   ]
  },
  {
   "cell_type": "code",
   "execution_count": 34,
   "id": "4fb90833-b7c6-4082-bf5d-835196ae7dff",
   "metadata": {},
   "outputs": [
    {
     "data": {
      "text/plain": [
       "(x, y, z)"
      ]
     },
     "execution_count": 34,
     "metadata": {},
     "output_type": "execute_result"
    }
   ],
   "source": [
    "@polyvar x y z"
   ]
  },
  {
   "cell_type": "code",
   "execution_count": 35,
   "id": "ea370125-a7b9-4bfc-a01a-d869efea671e",
   "metadata": {},
   "outputs": [
    {
     "data": {
      "text/latex": [
       "$$ -yz^{4} + 3.0x^{2}y^{2} + 2.0x $$"
      ],
      "text/plain": [
       "-yz⁴ + 3.0x²y² + 2.0x"
      ]
     },
     "execution_count": 35,
     "metadata": {},
     "output_type": "execute_result"
    }
   ],
   "source": [
    "p = 2x + 3.0x^2*y^2 - y*z^4"
   ]
  },
  {
   "cell_type": "code",
   "execution_count": 36,
   "id": "8ab9e256-f952-451e-953e-c307b9707852",
   "metadata": {},
   "outputs": [
    {
     "data": {
      "text/plain": [
       "438.000025"
      ]
     },
     "execution_count": 36,
     "metadata": {},
     "output_type": "execute_result"
    }
   ],
   "source": [
    "p(x=>3, y=>-4, z=>.05)"
   ]
  },
  {
   "cell_type": "code",
   "execution_count": 37,
   "id": "c9f2ae98-d8d1-4d6b-a594-1030fa549c05",
   "metadata": {},
   "outputs": [
    {
     "data": {
      "text/latex": [
       "$$ 6.0xy^{2} + 2.0 $$"
      ],
      "text/plain": [
       "6.0xy² + 2.0"
      ]
     },
     "execution_count": 37,
     "metadata": {},
     "output_type": "execute_result"
    }
   ],
   "source": [
    "differentiate(p, x)"
   ]
  },
  {
   "cell_type": "code",
   "execution_count": 41,
   "id": "baa492af-3f13-4e32-9e7c-434d609d5f67",
   "metadata": {},
   "outputs": [
    {
     "data": {
      "text/plain": [
       "3-element Vector{Int64}:\n",
       " 3\n",
       " 4\n",
       " 5"
      ]
     },
     "execution_count": 41,
     "metadata": {},
     "output_type": "execute_result"
    }
   ],
   "source": [
    "vector = [3, 4, 5]"
   ]
  },
  {
   "cell_type": "code",
   "execution_count": 49,
   "id": "1feb3ded-a32a-46a7-a269-aa6498a5b4ae",
   "metadata": {},
   "outputs": [
    {
     "data": {
      "text/plain": [
       "5.569212227823757"
      ]
     },
     "execution_count": 49,
     "metadata": {},
     "output_type": "execute_result"
    }
   ],
   "source": [
    "norm(vector, 4)"
   ]
  },
  {
   "cell_type": "code",
   "execution_count": 50,
   "id": "c3ea281b-552f-4e59-ae79-b24b31c79d2a",
   "metadata": {},
   "outputs": [
    {
     "data": {
      "text/plain": [
       "5.569212227823757"
      ]
     },
     "execution_count": 50,
     "metadata": {},
     "output_type": "execute_result"
    }
   ],
   "source": [
    "p_norm(vector, 4)"
   ]
  },
  {
   "cell_type": "code",
   "execution_count": 43,
   "id": "2f345ee8-0e9e-4a8a-b160-132a3d0c4fac",
   "metadata": {},
   "outputs": [
    {
     "data": {
      "text/plain": [
       "0.8"
      ]
     },
     "execution_count": 43,
     "metadata": {},
     "output_type": "execute_result"
    }
   ],
   "source": [
    "4^1/5"
   ]
  },
  {
   "cell_type": "code",
   "execution_count": 44,
   "id": "3af88564-7870-4ac0-b59d-73273aa61445",
   "metadata": {},
   "outputs": [
    {
     "ename": "LoadError",
     "evalue": "syntax: use \"x^y\" instead of \"x**y\" for exponentiation, and \"x...\" instead of \"**x\" for splatting.",
     "output_type": "error",
     "traceback": [
      "syntax: use \"x^y\" instead of \"x**y\" for exponentiation, and \"x...\" instead of \"**x\" for splatting.",
      "",
      "Stacktrace:",
      " [1] top-level scope",
      "   @ In[44]:1",
      " [2] eval",
      "   @ ./boot.jl:373 [inlined]",
      " [3] include_string(mapexpr::typeof(REPL.softscope), mod::Module, code::String, filename::String)",
      "   @ Base ./loading.jl:1196"
     ]
    }
   ],
   "source": [
    "4**2/5"
   ]
  },
  {
   "cell_type": "code",
   "execution_count": 45,
   "id": "7303c44e-4c2b-46da-8d15-5077a8d961fa",
   "metadata": {},
   "outputs": [
    {
     "data": {
      "text/plain": [
       "1.3195079107728942"
      ]
     },
     "execution_count": 45,
     "metadata": {},
     "output_type": "execute_result"
    }
   ],
   "source": [
    "4^(1/5)"
   ]
  },
  {
   "cell_type": "code",
   "execution_count": 51,
   "id": "c9a140a6-c5bd-468a-ae1d-b537795aab7f",
   "metadata": {},
   "outputs": [
    {
     "data": {
      "text/plain": [
       "3-element Vector{Int64}:\n",
       " 1\n",
       " 2\n",
       " 3"
      ]
     },
     "execution_count": 51,
     "metadata": {},
     "output_type": "execute_result"
    }
   ],
   "source": [
    "a = [1 2 3; 4 5 6; 7 8 9]\n",
    "b = [1, 2, 3]"
   ]
  },
  {
   "cell_type": "code",
   "execution_count": 56,
   "id": "f1aaecd6-bb5a-4597-84c7-4ee7ea3be742",
   "metadata": {},
   "outputs": [
    {
     "data": {
      "text/plain": [
       "3-element Vector{Float64}:\n",
       " 14.0\n",
       " 32.0\n",
       " 50.0"
      ]
     },
     "execution_count": 56,
     "metadata": {},
     "output_type": "execute_result"
    }
   ],
   "source": [
    "multiply(a, b)"
   ]
  },
  {
   "cell_type": "code",
   "execution_count": 57,
   "id": "098cbbd7-c786-4b43-a942-ca758deb8b3c",
   "metadata": {},
   "outputs": [
    {
     "data": {
      "text/plain": [
       "3-element Vector{Float64}:\n",
       " 14.0\n",
       " 32.0\n",
       " 50.0"
      ]
     },
     "execution_count": 57,
     "metadata": {},
     "output_type": "execute_result"
    }
   ],
   "source": [
    "multiply(a, b)"
   ]
  },
  {
   "cell_type": "code",
   "execution_count": 58,
   "id": "01b30be1-1db8-48e8-a6fd-693ad2977fa9",
   "metadata": {},
   "outputs": [
    {
     "data": {
      "text/plain": [
       "100×100 Matrix{Float64}:\n",
       " 1.0  1.0  1.0  1.0  1.0  1.0  1.0  1.0  …  1.0  1.0  1.0  1.0  1.0  1.0  1.0\n",
       " 1.0  1.0  1.0  1.0  1.0  1.0  1.0  1.0     1.0  1.0  1.0  1.0  1.0  1.0  1.0\n",
       " 1.0  1.0  1.0  1.0  1.0  1.0  1.0  1.0     1.0  1.0  1.0  1.0  1.0  1.0  1.0\n",
       " 1.0  1.0  1.0  1.0  1.0  1.0  1.0  1.0     1.0  1.0  1.0  1.0  1.0  1.0  1.0\n",
       " 1.0  1.0  1.0  1.0  1.0  1.0  1.0  1.0     1.0  1.0  1.0  1.0  1.0  1.0  1.0\n",
       " 1.0  1.0  1.0  1.0  1.0  1.0  1.0  1.0  …  1.0  1.0  1.0  1.0  1.0  1.0  1.0\n",
       " 1.0  1.0  1.0  1.0  1.0  1.0  1.0  1.0     1.0  1.0  1.0  1.0  1.0  1.0  1.0\n",
       " 1.0  1.0  1.0  1.0  1.0  1.0  1.0  1.0     1.0  1.0  1.0  1.0  1.0  1.0  1.0\n",
       " 1.0  1.0  1.0  1.0  1.0  1.0  1.0  1.0     1.0  1.0  1.0  1.0  1.0  1.0  1.0\n",
       " 1.0  1.0  1.0  1.0  1.0  1.0  1.0  1.0     1.0  1.0  1.0  1.0  1.0  1.0  1.0\n",
       " 1.0  1.0  1.0  1.0  1.0  1.0  1.0  1.0  …  1.0  1.0  1.0  1.0  1.0  1.0  1.0\n",
       " 1.0  1.0  1.0  1.0  1.0  1.0  1.0  1.0     1.0  1.0  1.0  1.0  1.0  1.0  1.0\n",
       " 1.0  1.0  1.0  1.0  1.0  1.0  1.0  1.0     1.0  1.0  1.0  1.0  1.0  1.0  1.0\n",
       " ⋮                        ⋮              ⋱            ⋮                   \n",
       " 1.0  1.0  1.0  1.0  1.0  1.0  1.0  1.0     1.0  1.0  1.0  1.0  1.0  1.0  1.0\n",
       " 1.0  1.0  1.0  1.0  1.0  1.0  1.0  1.0     1.0  1.0  1.0  1.0  1.0  1.0  1.0\n",
       " 1.0  1.0  1.0  1.0  1.0  1.0  1.0  1.0  …  1.0  1.0  1.0  1.0  1.0  1.0  1.0\n",
       " 1.0  1.0  1.0  1.0  1.0  1.0  1.0  1.0     1.0  1.0  1.0  1.0  1.0  1.0  1.0\n",
       " 1.0  1.0  1.0  1.0  1.0  1.0  1.0  1.0     1.0  1.0  1.0  1.0  1.0  1.0  1.0\n",
       " 1.0  1.0  1.0  1.0  1.0  1.0  1.0  1.0     1.0  1.0  1.0  1.0  1.0  1.0  1.0\n",
       " 1.0  1.0  1.0  1.0  1.0  1.0  1.0  1.0     1.0  1.0  1.0  1.0  1.0  1.0  1.0\n",
       " 1.0  1.0  1.0  1.0  1.0  1.0  1.0  1.0  …  1.0  1.0  1.0  1.0  1.0  1.0  1.0\n",
       " 1.0  1.0  1.0  1.0  1.0  1.0  1.0  1.0     1.0  1.0  1.0  1.0  1.0  1.0  1.0\n",
       " 1.0  1.0  1.0  1.0  1.0  1.0  1.0  1.0     1.0  1.0  1.0  1.0  1.0  1.0  1.0\n",
       " 1.0  1.0  1.0  1.0  1.0  1.0  1.0  1.0     1.0  1.0  1.0  1.0  1.0  1.0  1.0\n",
       " 1.0  1.0  1.0  1.0  1.0  1.0  1.0  1.0     1.0  1.0  1.0  1.0  1.0  1.0  1.0"
      ]
     },
     "execution_count": 58,
     "metadata": {},
     "output_type": "execute_result"
    }
   ],
   "source": [
    "a = ones(100, 100)"
   ]
  },
  {
   "cell_type": "code",
   "execution_count": 60,
   "id": "5dfc3b39-ab2e-4313-bb0c-ea906c1fb404",
   "metadata": {},
   "outputs": [
    {
     "data": {
      "text/plain": [
       "100-element Vector{Float64}:\n",
       " 1.0\n",
       " 1.0\n",
       " 1.0\n",
       " 1.0\n",
       " 1.0\n",
       " 1.0\n",
       " 1.0\n",
       " 1.0\n",
       " 1.0\n",
       " 1.0\n",
       " 1.0\n",
       " 1.0\n",
       " 1.0\n",
       " ⋮\n",
       " 1.0\n",
       " 1.0\n",
       " 1.0\n",
       " 1.0\n",
       " 1.0\n",
       " 1.0\n",
       " 1.0\n",
       " 1.0\n",
       " 1.0\n",
       " 1.0\n",
       " 1.0\n",
       " 1.0"
      ]
     },
     "execution_count": 60,
     "metadata": {},
     "output_type": "execute_result"
    }
   ],
   "source": [
    "b = ones(100)"
   ]
  },
  {
   "cell_type": "code",
   "execution_count": 61,
   "id": "390d1da8-806c-4462-b6fd-a626540854ef",
   "metadata": {},
   "outputs": [
    {
     "data": {
      "text/plain": [
       "100-element Vector{Float64}:\n",
       " 100.0\n",
       " 100.0\n",
       " 100.0\n",
       " 100.0\n",
       " 100.0\n",
       " 100.0\n",
       " 100.0\n",
       " 100.0\n",
       " 100.0\n",
       " 100.0\n",
       " 100.0\n",
       " 100.0\n",
       " 100.0\n",
       "   ⋮\n",
       " 100.0\n",
       " 100.0\n",
       " 100.0\n",
       " 100.0\n",
       " 100.0\n",
       " 100.0\n",
       " 100.0\n",
       " 100.0\n",
       " 100.0\n",
       " 100.0\n",
       " 100.0\n",
       " 100.0"
      ]
     },
     "execution_count": 61,
     "metadata": {},
     "output_type": "execute_result"
    }
   ],
   "source": [
    "multiply(a, b)"
   ]
  },
  {
   "cell_type": "code",
   "execution_count": 64,
   "id": "f64593b8-3a87-4b89-8b31-1bfb826d4893",
   "metadata": {},
   "outputs": [
    {
     "name": "stderr",
     "output_type": "stream",
     "text": [
      "\u001b[32m\u001b[1m   Resolving\u001b[22m\u001b[39m package versions...\n",
      "\u001b[32m\u001b[1m    Updating\u001b[22m\u001b[39m `~/Workspace/CSC381/Project.toml`\n",
      " \u001b[90m [31c24e10] \u001b[39m\u001b[92m+ Distributions v0.25.65\u001b[39m\n",
      "\u001b[32m\u001b[1m    Updating\u001b[22m\u001b[39m `~/Workspace/CSC381/Manifest.toml`\n",
      " \u001b[90m [49dc2e85] \u001b[39m\u001b[92m+ Calculus v0.5.1\u001b[39m\n",
      " \u001b[90m [9e997f8a] \u001b[39m\u001b[92m+ ChangesOfVariables v0.1.4\u001b[39m\n",
      " \u001b[90m [9a962f9c] \u001b[39m\u001b[92m+ DataAPI v1.10.0\u001b[39m\n",
      " \u001b[90m [b429d917] \u001b[39m\u001b[92m+ DensityInterface v0.4.0\u001b[39m\n",
      " \u001b[90m [31c24e10] \u001b[39m\u001b[92m+ Distributions v0.25.65\u001b[39m\n",
      " \u001b[90m [ffbed154] \u001b[39m\u001b[92m+ DocStringExtensions v0.8.6\u001b[39m\n",
      " \u001b[90m [fa6b7ba4] \u001b[39m\u001b[92m+ DualNumbers v0.6.8\u001b[39m\n",
      " \u001b[90m [1a297f60] \u001b[39m\u001b[92m+ FillArrays v0.13.2\u001b[39m\n",
      " \u001b[90m [34004b35] \u001b[39m\u001b[92m+ HypergeometricFunctions v0.3.11\u001b[39m\n",
      " \u001b[90m [3587e190] \u001b[39m\u001b[92m+ InverseFunctions v0.1.7\u001b[39m\n",
      " \u001b[90m [92d709cd] \u001b[39m\u001b[92m+ IrrationalConstants v0.1.1\u001b[39m\n",
      " \u001b[90m [692b3bcd] \u001b[39m\u001b[92m+ JLLWrappers v1.4.1\u001b[39m\n",
      " \u001b[90m [2ab3a3ac] \u001b[39m\u001b[92m+ LogExpFunctions v0.3.15\u001b[39m\n",
      " \u001b[90m [e1d29d7a] \u001b[39m\u001b[92m+ Missings v1.0.2\u001b[39m\n",
      " \u001b[90m [77ba4419] \u001b[39m\u001b[92m+ NaNMath v1.0.1\u001b[39m\n",
      " \u001b[90m [90014a1f] \u001b[39m\u001b[92m+ PDMats v0.11.16\u001b[39m\n",
      " \u001b[90m [21216c6a] \u001b[39m\u001b[92m+ Preferences v1.3.0\u001b[39m\n",
      " \u001b[90m [1fd47b50] \u001b[39m\u001b[92m+ QuadGK v2.4.2\u001b[39m\n",
      " \u001b[90m [189a3867] \u001b[39m\u001b[92m+ Reexport v1.2.2\u001b[39m\n",
      " \u001b[90m [79098fc4] \u001b[39m\u001b[92m+ Rmath v0.7.0\u001b[39m\n",
      " \u001b[90m [a2af1166] \u001b[39m\u001b[92m+ SortingAlgorithms v1.0.1\u001b[39m\n",
      " \u001b[90m [276daf66] \u001b[39m\u001b[92m+ SpecialFunctions v2.1.7\u001b[39m\n",
      " \u001b[90m [82ae8749] \u001b[39m\u001b[92m+ StatsAPI v1.4.0\u001b[39m\n",
      " \u001b[90m [2913bbd2] \u001b[39m\u001b[92m+ StatsBase v0.33.19\u001b[39m\n",
      " \u001b[90m [4c63d2b9] \u001b[39m\u001b[92m+ StatsFuns v1.0.1\u001b[39m\n",
      " \u001b[90m [efe28fd5] \u001b[39m\u001b[92m+ OpenSpecFun_jll v0.5.5+0\u001b[39m\n",
      " \u001b[90m [f50d1b31] \u001b[39m\u001b[92m+ Rmath_jll v0.3.0+0\u001b[39m\n",
      " \u001b[90m [10745b16] \u001b[39m\u001b[92m+ Statistics\u001b[39m\n",
      " \u001b[90m [4607b0f0] \u001b[39m\u001b[92m+ SuiteSparse\u001b[39m\n",
      " \u001b[90m [05823500] \u001b[39m\u001b[92m+ OpenLibm_jll\u001b[39m\n"
     ]
    },
    {
     "data": {
      "text/plain": [
       "100"
      ]
     },
     "execution_count": 64,
     "metadata": {},
     "output_type": "execute_result"
    }
   ],
   "source": [
    "Pkg.add(\"Distributions\")\n",
    "using Test\n",
    "using Distributions\n",
    "using LinearAlgebra\n",
    "\n",
    "NUM_GOOD_TESTS = 20\n",
    "NUM_BAD_TESTS = 10\n",
    "MAX_DIM = 100"
   ]
  },
  {
   "cell_type": "code",
   "execution_count": 65,
   "id": "b3bffed3-8e58-415b-ad68-0ae2cedcd3b1",
   "metadata": {},
   "outputs": [
    {
     "name": "stdout",
     "output_type": "stream",
     "text": [
      "vector_multiply: \u001b[91m\u001b[1mError During Test\u001b[22m\u001b[39m at \u001b[39m\u001b[1mIn[65]:7\u001b[22m\n",
      "  Test threw exception\n",
      "  Expression: isapprox(multiply(𝕄, v⃗), 𝕄 * v⃗)\n",
      "  DimensionMismatch(\"dimensions must match: a has dims (Base.OneTo(59),), b has dims (Base.OneTo(100),), mismatch at 1\")\n",
      "  Stacktrace:\n",
      "    [1] \u001b[0m\u001b[1mpromote_shape\u001b[22m\n",
      "  \u001b[90m    @ \u001b[39m\u001b[90m./\u001b[39m\u001b[90m\u001b[4mindices.jl:178\u001b[24m\u001b[39m\u001b[90m [inlined]\u001b[39m\n",
      "    [2] \u001b[0m\u001b[1mpromote_shape\u001b[22m\n",
      "  \u001b[90m    @ \u001b[39m\u001b[90m./\u001b[39m\u001b[90m\u001b[4mindices.jl:169\u001b[24m\u001b[39m\u001b[90m [inlined]\u001b[39m\n",
      "    [3] \u001b[0m\u001b[1m-\u001b[22m\u001b[0m\u001b[1m(\u001b[22m\u001b[90mA\u001b[39m::\u001b[0mVector\u001b[90m{Float64}\u001b[39m, \u001b[90mB\u001b[39m::\u001b[0mVector\u001b[90m{Float64}\u001b[39m\u001b[0m\u001b[1m)\u001b[22m\n",
      "  \u001b[90m    @ \u001b[39m\u001b[90mBase\u001b[39m \u001b[90m./\u001b[39m\u001b[90m\u001b[4marraymath.jl:38\u001b[24m\u001b[39m\n",
      "    [4] \u001b[0m\u001b[1misapprox\u001b[22m\u001b[0m\u001b[1m(\u001b[22m\u001b[90mx\u001b[39m::\u001b[0mVector\u001b[90m{Float64}\u001b[39m, \u001b[90my\u001b[39m::\u001b[0mVector\u001b[90m{Float64}\u001b[39m; \u001b[90matol\u001b[39m::\u001b[0mInt64, \u001b[90mrtol\u001b[39m::\u001b[0mFloat64, \u001b[90mnans\u001b[39m::\u001b[0mBool, \u001b[90mnorm\u001b[39m::\u001b[0mtypeof(norm)\u001b[0m\u001b[1m)\u001b[22m\n",
      "  \u001b[90m    @ \u001b[39m\u001b[35mLinearAlgebra\u001b[39m \u001b[90m/opt/pub/eb/apps/all/Julia/1.7.0/share/julia/stdlib/v1.7/LinearAlgebra/src/\u001b[39m\u001b[90m\u001b[4mgeneric.jl:1706\u001b[24m\u001b[39m\n",
      "    [5] \u001b[0m\u001b[1misapprox\u001b[22m\u001b[0m\u001b[1m(\u001b[22m\u001b[90mx\u001b[39m::\u001b[0mVector\u001b[90m{Float64}\u001b[39m, \u001b[90my\u001b[39m::\u001b[0mVector\u001b[90m{Float64}\u001b[39m\u001b[0m\u001b[1m)\u001b[22m\n",
      "  \u001b[90m    @ \u001b[39m\u001b[35mLinearAlgebra\u001b[39m \u001b[90m/opt/pub/eb/apps/all/Julia/1.7.0/share/julia/stdlib/v1.7/LinearAlgebra/src/\u001b[39m\u001b[90m\u001b[4mgeneric.jl:1706\u001b[24m\u001b[39m\n",
      "    [6] \u001b[0m\u001b[1meval_test\u001b[22m\u001b[0m\u001b[1m(\u001b[22m\u001b[90mevaluated\u001b[39m::\u001b[0mExpr, \u001b[90mquoted\u001b[39m::\u001b[0mExpr, \u001b[90msource\u001b[39m::\u001b[0mLineNumberNode, \u001b[90mnegate\u001b[39m::\u001b[0mBool\u001b[0m\u001b[1m)\u001b[22m\n",
      "  \u001b[90m    @ \u001b[39m\u001b[36mTest\u001b[39m \u001b[90m/opt/pub/eb/apps/all/Julia/1.7.0/share/julia/stdlib/v1.7/Test/src/\u001b[39m\u001b[90m\u001b[4mTest.jl:292\u001b[24m\u001b[39m\n",
      "    [7] \u001b[0m\u001b[1mmacro expansion\u001b[22m\n",
      "  \u001b[90m    @ \u001b[39m\u001b[90m/opt/pub/eb/apps/all/Julia/1.7.0/share/julia/stdlib/v1.7/Test/src/\u001b[39m\u001b[90m\u001b[4mTest.jl:445\u001b[24m\u001b[39m\u001b[90m [inlined]\u001b[39m\n",
      "    [8] \u001b[0m\u001b[1mmacro expansion\u001b[22m\n",
      "  \u001b[90m    @ \u001b[39m\u001b[90m./\u001b[39m\u001b[90m\u001b[4mIn[65]:7\u001b[24m\u001b[39m\u001b[90m [inlined]\u001b[39m\n",
      "    [9] \u001b[0m\u001b[1mmacro expansion\u001b[22m\n",
      "  \u001b[90m    @ \u001b[39m\u001b[90m/opt/pub/eb/apps/all/Julia/1.7.0/share/julia/stdlib/v1.7/Test/src/\u001b[39m\u001b[90m\u001b[4mTest.jl:1283\u001b[24m\u001b[39m\u001b[90m [inlined]\u001b[39m\n",
      "   [10] top-level scope\n",
      "  \u001b[90m    @ \u001b[39m\u001b[90m./\u001b[39m\u001b[90m\u001b[4mIn[65]:2\u001b[24m\u001b[39m\n",
      "vector_multiply: \u001b[91m\u001b[1mError During Test\u001b[22m\u001b[39m at \u001b[39m\u001b[1mIn[65]:7\u001b[22m\n",
      "  Test threw exception\n",
      "  Expression: isapprox(multiply(𝕄, v⃗), 𝕄 * v⃗)\n",
      "  DimensionMismatch(\"dimensions must match: a has dims (Base.OneTo(65),), b has dims (Base.OneTo(81),), mismatch at 1\")\n",
      "  Stacktrace:\n",
      "    [1] \u001b[0m\u001b[1mpromote_shape\u001b[22m\n",
      "  \u001b[90m    @ \u001b[39m\u001b[90m./\u001b[39m\u001b[90m\u001b[4mindices.jl:178\u001b[24m\u001b[39m\u001b[90m [inlined]\u001b[39m\n",
      "    [2] \u001b[0m\u001b[1mpromote_shape\u001b[22m\n",
      "  \u001b[90m    @ \u001b[39m\u001b[90m./\u001b[39m\u001b[90m\u001b[4mindices.jl:169\u001b[24m\u001b[39m\u001b[90m [inlined]\u001b[39m\n",
      "    [3] \u001b[0m\u001b[1m-\u001b[22m\u001b[0m\u001b[1m(\u001b[22m\u001b[90mA\u001b[39m::\u001b[0mVector\u001b[90m{Float64}\u001b[39m, \u001b[90mB\u001b[39m::\u001b[0mVector\u001b[90m{Float64}\u001b[39m\u001b[0m\u001b[1m)\u001b[22m\n",
      "  \u001b[90m    @ \u001b[39m\u001b[90mBase\u001b[39m \u001b[90m./\u001b[39m\u001b[90m\u001b[4marraymath.jl:38\u001b[24m\u001b[39m\n",
      "    [4] \u001b[0m\u001b[1misapprox\u001b[22m\u001b[0m\u001b[1m(\u001b[22m\u001b[90mx\u001b[39m::\u001b[0mVector\u001b[90m{Float64}\u001b[39m, \u001b[90my\u001b[39m::\u001b[0mVector\u001b[90m{Float64}\u001b[39m; \u001b[90matol\u001b[39m::\u001b[0mInt64, \u001b[90mrtol\u001b[39m::\u001b[0mFloat64, \u001b[90mnans\u001b[39m::\u001b[0mBool, \u001b[90mnorm\u001b[39m::\u001b[0mtypeof(norm)\u001b[0m\u001b[1m)\u001b[22m\n",
      "  \u001b[90m    @ \u001b[39m\u001b[35mLinearAlgebra\u001b[39m \u001b[90m/opt/pub/eb/apps/all/Julia/1.7.0/share/julia/stdlib/v1.7/LinearAlgebra/src/\u001b[39m\u001b[90m\u001b[4mgeneric.jl:1706\u001b[24m\u001b[39m\n",
      "    [5] \u001b[0m\u001b[1misapprox\u001b[22m\u001b[0m\u001b[1m(\u001b[22m\u001b[90mx\u001b[39m::\u001b[0mVector\u001b[90m{Float64}\u001b[39m, \u001b[90my\u001b[39m::\u001b[0mVector\u001b[90m{Float64}\u001b[39m\u001b[0m\u001b[1m)\u001b[22m\n",
      "  \u001b[90m    @ \u001b[39m\u001b[35mLinearAlgebra\u001b[39m \u001b[90m/opt/pub/eb/apps/all/Julia/1.7.0/share/julia/stdlib/v1.7/LinearAlgebra/src/\u001b[39m\u001b[90m\u001b[4mgeneric.jl:1706\u001b[24m\u001b[39m\n",
      "    [6] \u001b[0m\u001b[1meval_test\u001b[22m\u001b[0m\u001b[1m(\u001b[22m\u001b[90mevaluated\u001b[39m::\u001b[0mExpr, \u001b[90mquoted\u001b[39m::\u001b[0mExpr, \u001b[90msource\u001b[39m::\u001b[0mLineNumberNode, \u001b[90mnegate\u001b[39m::\u001b[0mBool\u001b[0m\u001b[1m)\u001b[22m\n",
      "  \u001b[90m    @ \u001b[39m\u001b[36mTest\u001b[39m \u001b[90m/opt/pub/eb/apps/all/Julia/1.7.0/share/julia/stdlib/v1.7/Test/src/\u001b[39m\u001b[90m\u001b[4mTest.jl:292\u001b[24m\u001b[39m\n",
      "    [7] \u001b[0m\u001b[1mmacro expansion\u001b[22m\n",
      "  \u001b[90m    @ \u001b[39m\u001b[90m/opt/pub/eb/apps/all/Julia/1.7.0/share/julia/stdlib/v1.7/Test/src/\u001b[39m\u001b[90m\u001b[4mTest.jl:445\u001b[24m\u001b[39m\u001b[90m [inlined]\u001b[39m\n",
      "    [8] \u001b[0m\u001b[1mmacro expansion\u001b[22m\n",
      "  \u001b[90m    @ \u001b[39m\u001b[90m./\u001b[39m\u001b[90m\u001b[4mIn[65]:7\u001b[24m\u001b[39m\u001b[90m [inlined]\u001b[39m\n",
      "    [9] \u001b[0m\u001b[1mmacro expansion\u001b[22m\n",
      "  \u001b[90m    @ \u001b[39m\u001b[90m/opt/pub/eb/apps/all/Julia/1.7.0/share/julia/stdlib/v1.7/Test/src/\u001b[39m\u001b[90m\u001b[4mTest.jl:1283\u001b[24m\u001b[39m\u001b[90m [inlined]\u001b[39m\n",
      "   [10] top-level scope\n",
      "  \u001b[90m    @ \u001b[39m\u001b[90m./\u001b[39m\u001b[90m\u001b[4mIn[65]:2\u001b[24m\u001b[39m\n",
      "vector_multiply: \u001b[91m\u001b[1mError During Test\u001b[22m\u001b[39m at \u001b[39m\u001b[1mIn[65]:7\u001b[22m\n",
      "  Test threw exception\n",
      "  Expression: isapprox(multiply(𝕄, v⃗), 𝕄 * v⃗)\n",
      "  BoundsError: attempt to access 4×25 Matrix{Float64} at index [5, 1:25]\n",
      "  Stacktrace:\n",
      "   [1] \u001b[0m\u001b[1mthrow_boundserror\u001b[22m\u001b[0m\u001b[1m(\u001b[22m\u001b[90mA\u001b[39m::\u001b[0mMatrix\u001b[90m{Float64}\u001b[39m, \u001b[90mI\u001b[39m::\u001b[0mTuple\u001b[90m{Int64, Base.Slice{Base.OneTo{Int64}}}\u001b[39m\u001b[0m\u001b[1m)\u001b[22m\n",
      "  \u001b[90m   @ \u001b[39m\u001b[90mBase\u001b[39m \u001b[90m./\u001b[39m\u001b[90m\u001b[4mabstractarray.jl:691\u001b[24m\u001b[39m\n",
      "   [2] \u001b[0m\u001b[1mcheckbounds\u001b[22m\n",
      "  \u001b[90m   @ \u001b[39m\u001b[90m./\u001b[39m\u001b[90m\u001b[4mabstractarray.jl:656\u001b[24m\u001b[39m\u001b[90m [inlined]\u001b[39m\n",
      "   [3] \u001b[0m\u001b[1m_getindex\u001b[22m\n",
      "  \u001b[90m   @ \u001b[39m\u001b[90m./\u001b[39m\u001b[90m\u001b[4mmultidimensional.jl:838\u001b[24m\u001b[39m\u001b[90m [inlined]\u001b[39m\n",
      "   [4] \u001b[0m\u001b[1mgetindex\u001b[22m\n",
      "  \u001b[90m   @ \u001b[39m\u001b[90m./\u001b[39m\u001b[90m\u001b[4mabstractarray.jl:1218\u001b[24m\u001b[39m\u001b[90m [inlined]\u001b[39m\n",
      "   [5] \u001b[0m\u001b[1mmultiply\u001b[22m\u001b[0m\u001b[1m(\u001b[22m\u001b[90mmat\u001b[39m::\u001b[0mMatrix\u001b[90m{Float64}\u001b[39m, \u001b[90mvec\u001b[39m::\u001b[0mVector\u001b[90m{Float64}\u001b[39m\u001b[0m\u001b[1m)\u001b[22m\n",
      "  \u001b[90m   @ \u001b[39m\u001b[35mMain\u001b[39m \u001b[90m~/Workspace/CSC381/dl_f22_project-0-KostasMateerStudent/\u001b[39m\u001b[90m\u001b[4mmatrices.jl:29\u001b[24m\u001b[39m\n",
      "   [6] \u001b[0m\u001b[1mmacro expansion\u001b[22m\n",
      "  \u001b[90m   @ \u001b[39m\u001b[90m/opt/pub/eb/apps/all/Julia/1.7.0/share/julia/stdlib/v1.7/Test/src/\u001b[39m\u001b[90m\u001b[4mTest.jl:445\u001b[24m\u001b[39m\u001b[90m [inlined]\u001b[39m\n",
      "   [7] \u001b[0m\u001b[1mmacro expansion\u001b[22m\n",
      "  \u001b[90m   @ \u001b[39m\u001b[90m./\u001b[39m\u001b[90m\u001b[4mIn[65]:7\u001b[24m\u001b[39m\u001b[90m [inlined]\u001b[39m\n",
      "   [8] \u001b[0m\u001b[1mmacro expansion\u001b[22m\n",
      "  \u001b[90m   @ \u001b[39m\u001b[90m/opt/pub/eb/apps/all/Julia/1.7.0/share/julia/stdlib/v1.7/Test/src/\u001b[39m\u001b[90m\u001b[4mTest.jl:1283\u001b[24m\u001b[39m\u001b[90m [inlined]\u001b[39m\n",
      "   [9] top-level scope\n",
      "  \u001b[90m   @ \u001b[39m\u001b[90m./\u001b[39m\u001b[90m\u001b[4mIn[65]:2\u001b[24m\u001b[39m\n",
      "vector_multiply: \u001b[91m\u001b[1mError During Test\u001b[22m\u001b[39m at \u001b[39m\u001b[1mIn[65]:7\u001b[22m\n",
      "  Test threw exception\n",
      "  Expression: isapprox(multiply(𝕄, v⃗), 𝕄 * v⃗)\n",
      "  DimensionMismatch(\"dimensions must match: a has dims (Base.OneTo(44),), b has dims (Base.OneTo(84),), mismatch at 1\")\n",
      "  Stacktrace:\n",
      "    [1] \u001b[0m\u001b[1mpromote_shape\u001b[22m\n",
      "  \u001b[90m    @ \u001b[39m\u001b[90m./\u001b[39m\u001b[90m\u001b[4mindices.jl:178\u001b[24m\u001b[39m\u001b[90m [inlined]\u001b[39m\n",
      "    [2] \u001b[0m\u001b[1mpromote_shape\u001b[22m\n",
      "  \u001b[90m    @ \u001b[39m\u001b[90m./\u001b[39m\u001b[90m\u001b[4mindices.jl:169\u001b[24m\u001b[39m\u001b[90m [inlined]\u001b[39m\n",
      "    [3] \u001b[0m\u001b[1m-\u001b[22m\u001b[0m\u001b[1m(\u001b[22m\u001b[90mA\u001b[39m::\u001b[0mVector\u001b[90m{Float64}\u001b[39m, \u001b[90mB\u001b[39m::\u001b[0mVector\u001b[90m{Float64}\u001b[39m\u001b[0m\u001b[1m)\u001b[22m\n",
      "  \u001b[90m    @ \u001b[39m\u001b[90mBase\u001b[39m \u001b[90m./\u001b[39m\u001b[90m\u001b[4marraymath.jl:38\u001b[24m\u001b[39m\n",
      "    [4] \u001b[0m\u001b[1misapprox\u001b[22m\u001b[0m\u001b[1m(\u001b[22m\u001b[90mx\u001b[39m::\u001b[0mVector\u001b[90m{Float64}\u001b[39m, \u001b[90my\u001b[39m::\u001b[0mVector\u001b[90m{Float64}\u001b[39m; \u001b[90matol\u001b[39m::\u001b[0mInt64, \u001b[90mrtol\u001b[39m::\u001b[0mFloat64, \u001b[90mnans\u001b[39m::\u001b[0mBool, \u001b[90mnorm\u001b[39m::\u001b[0mtypeof(norm)\u001b[0m\u001b[1m)\u001b[22m\n",
      "  \u001b[90m    @ \u001b[39m\u001b[35mLinearAlgebra\u001b[39m \u001b[90m/opt/pub/eb/apps/all/Julia/1.7.0/share/julia/stdlib/v1.7/LinearAlgebra/src/\u001b[39m\u001b[90m\u001b[4mgeneric.jl:1706\u001b[24m\u001b[39m\n",
      "    [5] \u001b[0m\u001b[1misapprox\u001b[22m\u001b[0m\u001b[1m(\u001b[22m\u001b[90mx\u001b[39m::\u001b[0mVector\u001b[90m{Float64}\u001b[39m, \u001b[90my\u001b[39m::\u001b[0mVector\u001b[90m{Float64}\u001b[39m\u001b[0m\u001b[1m)\u001b[22m\n",
      "  \u001b[90m    @ \u001b[39m\u001b[35mLinearAlgebra\u001b[39m \u001b[90m/opt/pub/eb/apps/all/Julia/1.7.0/share/julia/stdlib/v1.7/LinearAlgebra/src/\u001b[39m\u001b[90m\u001b[4mgeneric.jl:1706\u001b[24m\u001b[39m\n",
      "    [6] \u001b[0m\u001b[1meval_test\u001b[22m\u001b[0m\u001b[1m(\u001b[22m\u001b[90mevaluated\u001b[39m::\u001b[0mExpr, \u001b[90mquoted\u001b[39m::\u001b[0mExpr, \u001b[90msource\u001b[39m::\u001b[0mLineNumberNode, \u001b[90mnegate\u001b[39m::\u001b[0mBool\u001b[0m\u001b[1m)\u001b[22m\n",
      "  \u001b[90m    @ \u001b[39m\u001b[36mTest\u001b[39m \u001b[90m/opt/pub/eb/apps/all/Julia/1.7.0/share/julia/stdlib/v1.7/Test/src/\u001b[39m\u001b[90m\u001b[4mTest.jl:292\u001b[24m\u001b[39m\n",
      "    [7] \u001b[0m\u001b[1mmacro expansion\u001b[22m\n",
      "  \u001b[90m    @ \u001b[39m\u001b[90m/opt/pub/eb/apps/all/Julia/1.7.0/share/julia/stdlib/v1.7/Test/src/\u001b[39m\u001b[90m\u001b[4mTest.jl:445\u001b[24m\u001b[39m\u001b[90m [inlined]\u001b[39m\n",
      "    [8] \u001b[0m\u001b[1mmacro expansion\u001b[22m\n",
      "  \u001b[90m    @ \u001b[39m\u001b[90m./\u001b[39m\u001b[90m\u001b[4mIn[65]:7\u001b[24m\u001b[39m\u001b[90m [inlined]\u001b[39m\n",
      "    [9] \u001b[0m\u001b[1mmacro expansion\u001b[22m\n",
      "  \u001b[90m    @ \u001b[39m\u001b[90m/opt/pub/eb/apps/all/Julia/1.7.0/share/julia/stdlib/v1.7/Test/src/\u001b[39m\u001b[90m\u001b[4mTest.jl:1283\u001b[24m\u001b[39m\u001b[90m [inlined]\u001b[39m\n",
      "   [10] top-level scope\n",
      "  \u001b[90m    @ \u001b[39m\u001b[90m./\u001b[39m\u001b[90m\u001b[4mIn[65]:2\u001b[24m\u001b[39m\n",
      "vector_multiply: \u001b[91m\u001b[1mError During Test\u001b[22m\u001b[39m at \u001b[39m\u001b[1mIn[65]:7\u001b[22m\n",
      "  Test threw exception\n",
      "  Expression: isapprox(multiply(𝕄, v⃗), 𝕄 * v⃗)\n",
      "  BoundsError: attempt to access 4×79 Matrix{Float64} at index [5, 1:79]\n",
      "  Stacktrace:\n",
      "   [1] \u001b[0m\u001b[1mthrow_boundserror\u001b[22m\u001b[0m\u001b[1m(\u001b[22m\u001b[90mA\u001b[39m::\u001b[0mMatrix\u001b[90m{Float64}\u001b[39m, \u001b[90mI\u001b[39m::\u001b[0mTuple\u001b[90m{Int64, Base.Slice{Base.OneTo{Int64}}}\u001b[39m\u001b[0m\u001b[1m)\u001b[22m\n",
      "  \u001b[90m   @ \u001b[39m\u001b[90mBase\u001b[39m \u001b[90m./\u001b[39m\u001b[90m\u001b[4mabstractarray.jl:691\u001b[24m\u001b[39m\n",
      "   [2] \u001b[0m\u001b[1mcheckbounds\u001b[22m\n",
      "  \u001b[90m   @ \u001b[39m\u001b[90m./\u001b[39m\u001b[90m\u001b[4mabstractarray.jl:656\u001b[24m\u001b[39m\u001b[90m [inlined]\u001b[39m\n",
      "   [3] \u001b[0m\u001b[1m_getindex\u001b[22m\n",
      "  \u001b[90m   @ \u001b[39m\u001b[90m./\u001b[39m\u001b[90m\u001b[4mmultidimensional.jl:838\u001b[24m\u001b[39m\u001b[90m [inlined]\u001b[39m\n",
      "   [4] \u001b[0m\u001b[1mgetindex\u001b[22m\n",
      "  \u001b[90m   @ \u001b[39m\u001b[90m./\u001b[39m\u001b[90m\u001b[4mabstractarray.jl:1218\u001b[24m\u001b[39m\u001b[90m [inlined]\u001b[39m\n",
      "   [5] \u001b[0m\u001b[1mmultiply\u001b[22m\u001b[0m\u001b[1m(\u001b[22m\u001b[90mmat\u001b[39m::\u001b[0mMatrix\u001b[90m{Float64}\u001b[39m, \u001b[90mvec\u001b[39m::\u001b[0mVector\u001b[90m{Float64}\u001b[39m\u001b[0m\u001b[1m)\u001b[22m\n",
      "  \u001b[90m   @ \u001b[39m\u001b[35mMain\u001b[39m \u001b[90m~/Workspace/CSC381/dl_f22_project-0-KostasMateerStudent/\u001b[39m\u001b[90m\u001b[4mmatrices.jl:29\u001b[24m\u001b[39m\n",
      "   [6] \u001b[0m\u001b[1mmacro expansion\u001b[22m\n",
      "  \u001b[90m   @ \u001b[39m\u001b[90m/opt/pub/eb/apps/all/Julia/1.7.0/share/julia/stdlib/v1.7/Test/src/\u001b[39m\u001b[90m\u001b[4mTest.jl:445\u001b[24m\u001b[39m\u001b[90m [inlined]\u001b[39m\n",
      "   [7] \u001b[0m\u001b[1mmacro expansion\u001b[22m\n",
      "  \u001b[90m   @ \u001b[39m\u001b[90m./\u001b[39m\u001b[90m\u001b[4mIn[65]:7\u001b[24m\u001b[39m\u001b[90m [inlined]\u001b[39m\n",
      "   [8] \u001b[0m\u001b[1mmacro expansion\u001b[22m\n",
      "  \u001b[90m   @ \u001b[39m\u001b[90m/opt/pub/eb/apps/all/Julia/1.7.0/share/julia/stdlib/v1.7/Test/src/\u001b[39m\u001b[90m\u001b[4mTest.jl:1283\u001b[24m\u001b[39m\u001b[90m [inlined]\u001b[39m\n",
      "   [9] top-level scope\n",
      "  \u001b[90m   @ \u001b[39m\u001b[90m./\u001b[39m\u001b[90m\u001b[4mIn[65]:2\u001b[24m\u001b[39m\n",
      "vector_multiply: \u001b[91m\u001b[1mError During Test\u001b[22m\u001b[39m at \u001b[39m\u001b[1mIn[65]:7\u001b[22m\n",
      "  Test threw exception\n",
      "  Expression: isapprox(multiply(𝕄, v⃗), 𝕄 * v⃗)\n",
      "  BoundsError: attempt to access 65×94 Matrix{Float64} at index [66, 1:94]\n",
      "  Stacktrace:\n",
      "   [1] \u001b[0m\u001b[1mthrow_boundserror\u001b[22m\u001b[0m\u001b[1m(\u001b[22m\u001b[90mA\u001b[39m::\u001b[0mMatrix\u001b[90m{Float64}\u001b[39m, \u001b[90mI\u001b[39m::\u001b[0mTuple\u001b[90m{Int64, Base.Slice{Base.OneTo{Int64}}}\u001b[39m\u001b[0m\u001b[1m)\u001b[22m\n",
      "  \u001b[90m   @ \u001b[39m\u001b[90mBase\u001b[39m \u001b[90m./\u001b[39m\u001b[90m\u001b[4mabstractarray.jl:691\u001b[24m\u001b[39m\n",
      "   [2] \u001b[0m\u001b[1mcheckbounds\u001b[22m\n",
      "  \u001b[90m   @ \u001b[39m\u001b[90m./\u001b[39m\u001b[90m\u001b[4mabstractarray.jl:656\u001b[24m\u001b[39m\u001b[90m [inlined]\u001b[39m\n",
      "   [3] \u001b[0m\u001b[1m_getindex\u001b[22m\n",
      "  \u001b[90m   @ \u001b[39m\u001b[90m./\u001b[39m\u001b[90m\u001b[4mmultidimensional.jl:838\u001b[24m\u001b[39m\u001b[90m [inlined]\u001b[39m\n",
      "   [4] \u001b[0m\u001b[1mgetindex\u001b[22m\n",
      "  \u001b[90m   @ \u001b[39m\u001b[90m./\u001b[39m\u001b[90m\u001b[4mabstractarray.jl:1218\u001b[24m\u001b[39m\u001b[90m [inlined]\u001b[39m\n",
      "   [5] \u001b[0m\u001b[1mmultiply\u001b[22m\u001b[0m\u001b[1m(\u001b[22m\u001b[90mmat\u001b[39m::\u001b[0mMatrix\u001b[90m{Float64}\u001b[39m, \u001b[90mvec\u001b[39m::\u001b[0mVector\u001b[90m{Float64}\u001b[39m\u001b[0m\u001b[1m)\u001b[22m\n",
      "  \u001b[90m   @ \u001b[39m\u001b[35mMain\u001b[39m \u001b[90m~/Workspace/CSC381/dl_f22_project-0-KostasMateerStudent/\u001b[39m\u001b[90m\u001b[4mmatrices.jl:29\u001b[24m\u001b[39m\n",
      "   [6] \u001b[0m\u001b[1mmacro expansion\u001b[22m\n",
      "  \u001b[90m   @ \u001b[39m\u001b[90m/opt/pub/eb/apps/all/Julia/1.7.0/share/julia/stdlib/v1.7/Test/src/\u001b[39m\u001b[90m\u001b[4mTest.jl:445\u001b[24m\u001b[39m\u001b[90m [inlined]\u001b[39m\n",
      "   [7] \u001b[0m\u001b[1mmacro expansion\u001b[22m\n",
      "  \u001b[90m   @ \u001b[39m\u001b[90m./\u001b[39m\u001b[90m\u001b[4mIn[65]:7\u001b[24m\u001b[39m\u001b[90m [inlined]\u001b[39m\n",
      "   [8] \u001b[0m\u001b[1mmacro expansion\u001b[22m\n",
      "  \u001b[90m   @ \u001b[39m\u001b[90m/opt/pub/eb/apps/all/Julia/1.7.0/share/julia/stdlib/v1.7/Test/src/\u001b[39m\u001b[90m\u001b[4mTest.jl:1283\u001b[24m\u001b[39m\u001b[90m [inlined]\u001b[39m\n",
      "   [9] top-level scope\n",
      "  \u001b[90m   @ \u001b[39m\u001b[90m./\u001b[39m\u001b[90m\u001b[4mIn[65]:2\u001b[24m\u001b[39m\n",
      "vector_multiply: \u001b[91m\u001b[1mError During Test\u001b[22m\u001b[39m at \u001b[39m\u001b[1mIn[65]:7\u001b[22m\n",
      "  Test threw exception\n",
      "  Expression: isapprox(multiply(𝕄, v⃗), 𝕄 * v⃗)\n",
      "  DimensionMismatch(\"dimensions must match: a has dims (Base.OneTo(25),), b has dims (Base.OneTo(87),), mismatch at 1\")\n",
      "  Stacktrace:\n",
      "    [1] \u001b[0m\u001b[1mpromote_shape\u001b[22m\n",
      "  \u001b[90m    @ \u001b[39m\u001b[90m./\u001b[39m\u001b[90m\u001b[4mindices.jl:178\u001b[24m\u001b[39m\u001b[90m [inlined]\u001b[39m\n",
      "    [2] \u001b[0m\u001b[1mpromote_shape\u001b[22m\n",
      "  \u001b[90m    @ \u001b[39m\u001b[90m./\u001b[39m\u001b[90m\u001b[4mindices.jl:169\u001b[24m\u001b[39m\u001b[90m [inlined]\u001b[39m\n",
      "    [3] \u001b[0m\u001b[1m-\u001b[22m\u001b[0m\u001b[1m(\u001b[22m\u001b[90mA\u001b[39m::\u001b[0mVector\u001b[90m{Float64}\u001b[39m, \u001b[90mB\u001b[39m::\u001b[0mVector\u001b[90m{Float64}\u001b[39m\u001b[0m\u001b[1m)\u001b[22m\n",
      "  \u001b[90m    @ \u001b[39m\u001b[90mBase\u001b[39m \u001b[90m./\u001b[39m\u001b[90m\u001b[4marraymath.jl:38\u001b[24m\u001b[39m\n",
      "    [4] \u001b[0m\u001b[1misapprox\u001b[22m\u001b[0m\u001b[1m(\u001b[22m\u001b[90mx\u001b[39m::\u001b[0mVector\u001b[90m{Float64}\u001b[39m, \u001b[90my\u001b[39m::\u001b[0mVector\u001b[90m{Float64}\u001b[39m; \u001b[90matol\u001b[39m::\u001b[0mInt64, \u001b[90mrtol\u001b[39m::\u001b[0mFloat64, \u001b[90mnans\u001b[39m::\u001b[0mBool, \u001b[90mnorm\u001b[39m::\u001b[0mtypeof(norm)\u001b[0m\u001b[1m)\u001b[22m\n",
      "  \u001b[90m    @ \u001b[39m\u001b[35mLinearAlgebra\u001b[39m \u001b[90m/opt/pub/eb/apps/all/Julia/1.7.0/share/julia/stdlib/v1.7/LinearAlgebra/src/\u001b[39m\u001b[90m\u001b[4mgeneric.jl:1706\u001b[24m\u001b[39m\n",
      "    [5] \u001b[0m\u001b[1misapprox\u001b[22m\u001b[0m\u001b[1m(\u001b[22m\u001b[90mx\u001b[39m::\u001b[0mVector\u001b[90m{Float64}\u001b[39m, \u001b[90my\u001b[39m::\u001b[0mVector\u001b[90m{Float64}\u001b[39m\u001b[0m\u001b[1m)\u001b[22m\n",
      "  \u001b[90m    @ \u001b[39m\u001b[35mLinearAlgebra\u001b[39m \u001b[90m/opt/pub/eb/apps/all/Julia/1.7.0/share/julia/stdlib/v1.7/LinearAlgebra/src/\u001b[39m\u001b[90m\u001b[4mgeneric.jl:1706\u001b[24m\u001b[39m\n",
      "    [6] \u001b[0m\u001b[1meval_test\u001b[22m\u001b[0m\u001b[1m(\u001b[22m\u001b[90mevaluated\u001b[39m::\u001b[0mExpr, \u001b[90mquoted\u001b[39m::\u001b[0mExpr, \u001b[90msource\u001b[39m::\u001b[0mLineNumberNode, \u001b[90mnegate\u001b[39m::\u001b[0mBool\u001b[0m\u001b[1m)\u001b[22m\n",
      "  \u001b[90m    @ \u001b[39m\u001b[36mTest\u001b[39m \u001b[90m/opt/pub/eb/apps/all/Julia/1.7.0/share/julia/stdlib/v1.7/Test/src/\u001b[39m\u001b[90m\u001b[4mTest.jl:292\u001b[24m\u001b[39m\n",
      "    [7] \u001b[0m\u001b[1mmacro expansion\u001b[22m\n",
      "  \u001b[90m    @ \u001b[39m\u001b[90m/opt/pub/eb/apps/all/Julia/1.7.0/share/julia/stdlib/v1.7/Test/src/\u001b[39m\u001b[90m\u001b[4mTest.jl:445\u001b[24m\u001b[39m\u001b[90m [inlined]\u001b[39m\n",
      "    [8] \u001b[0m\u001b[1mmacro expansion\u001b[22m\n",
      "  \u001b[90m    @ \u001b[39m\u001b[90m./\u001b[39m\u001b[90m\u001b[4mIn[65]:7\u001b[24m\u001b[39m\u001b[90m [inlined]\u001b[39m\n",
      "    [9] \u001b[0m\u001b[1mmacro expansion\u001b[22m\n",
      "  \u001b[90m    @ \u001b[39m\u001b[90m/opt/pub/eb/apps/all/Julia/1.7.0/share/julia/stdlib/v1.7/Test/src/\u001b[39m\u001b[90m\u001b[4mTest.jl:1283\u001b[24m\u001b[39m\u001b[90m [inlined]\u001b[39m\n",
      "   [10] top-level scope\n",
      "  \u001b[90m    @ \u001b[39m\u001b[90m./\u001b[39m\u001b[90m\u001b[4mIn[65]:2\u001b[24m\u001b[39m\n",
      "vector_multiply: \u001b[91m\u001b[1mError During Test\u001b[22m\u001b[39m at \u001b[39m\u001b[1mIn[65]:7\u001b[22m\n",
      "  Test threw exception\n",
      "  Expression: isapprox(multiply(𝕄, v⃗), 𝕄 * v⃗)\n",
      "  BoundsError: attempt to access 77×80 Matrix{Float64} at index [78, 1:80]\n",
      "  Stacktrace:\n",
      "   [1] \u001b[0m\u001b[1mthrow_boundserror\u001b[22m\u001b[0m\u001b[1m(\u001b[22m\u001b[90mA\u001b[39m::\u001b[0mMatrix\u001b[90m{Float64}\u001b[39m, \u001b[90mI\u001b[39m::\u001b[0mTuple\u001b[90m{Int64, Base.Slice{Base.OneTo{Int64}}}\u001b[39m\u001b[0m\u001b[1m)\u001b[22m\n",
      "  \u001b[90m   @ \u001b[39m\u001b[90mBase\u001b[39m \u001b[90m./\u001b[39m\u001b[90m\u001b[4mabstractarray.jl:691\u001b[24m\u001b[39m\n",
      "   [2] \u001b[0m\u001b[1mcheckbounds\u001b[22m\n",
      "  \u001b[90m   @ \u001b[39m\u001b[90m./\u001b[39m\u001b[90m\u001b[4mabstractarray.jl:656\u001b[24m\u001b[39m\u001b[90m [inlined]\u001b[39m\n",
      "   [3] \u001b[0m\u001b[1m_getindex\u001b[22m\n",
      "  \u001b[90m   @ \u001b[39m\u001b[90m./\u001b[39m\u001b[90m\u001b[4mmultidimensional.jl:838\u001b[24m\u001b[39m\u001b[90m [inlined]\u001b[39m\n",
      "   [4] \u001b[0m\u001b[1mgetindex\u001b[22m\n",
      "  \u001b[90m   @ \u001b[39m\u001b[90m./\u001b[39m\u001b[90m\u001b[4mabstractarray.jl:1218\u001b[24m\u001b[39m\u001b[90m [inlined]\u001b[39m\n",
      "   [5] \u001b[0m\u001b[1mmultiply\u001b[22m\u001b[0m\u001b[1m(\u001b[22m\u001b[90mmat\u001b[39m::\u001b[0mMatrix\u001b[90m{Float64}\u001b[39m, \u001b[90mvec\u001b[39m::\u001b[0mVector\u001b[90m{Float64}\u001b[39m\u001b[0m\u001b[1m)\u001b[22m\n",
      "  \u001b[90m   @ \u001b[39m\u001b[35mMain\u001b[39m \u001b[90m~/Workspace/CSC381/dl_f22_project-0-KostasMateerStudent/\u001b[39m\u001b[90m\u001b[4mmatrices.jl:29\u001b[24m\u001b[39m\n",
      "   [6] \u001b[0m\u001b[1mmacro expansion\u001b[22m\n",
      "  \u001b[90m   @ \u001b[39m\u001b[90m/opt/pub/eb/apps/all/Julia/1.7.0/share/julia/stdlib/v1.7/Test/src/\u001b[39m\u001b[90m\u001b[4mTest.jl:445\u001b[24m\u001b[39m\u001b[90m [inlined]\u001b[39m\n",
      "   [7] \u001b[0m\u001b[1mmacro expansion\u001b[22m\n",
      "  \u001b[90m   @ \u001b[39m\u001b[90m./\u001b[39m\u001b[90m\u001b[4mIn[65]:7\u001b[24m\u001b[39m\u001b[90m [inlined]\u001b[39m\n",
      "   [8] \u001b[0m\u001b[1mmacro expansion\u001b[22m\n",
      "  \u001b[90m   @ \u001b[39m\u001b[90m/opt/pub/eb/apps/all/Julia/1.7.0/share/julia/stdlib/v1.7/Test/src/\u001b[39m\u001b[90m\u001b[4mTest.jl:1283\u001b[24m\u001b[39m\u001b[90m [inlined]\u001b[39m\n",
      "   [9] top-level scope\n",
      "  \u001b[90m   @ \u001b[39m\u001b[90m./\u001b[39m\u001b[90m\u001b[4mIn[65]:2\u001b[24m\u001b[39m\n",
      "vector_multiply: \u001b[91m\u001b[1mError During Test\u001b[22m\u001b[39m at \u001b[39m\u001b[1mIn[65]:7\u001b[22m\n",
      "  Test threw exception\n",
      "  Expression: isapprox(multiply(𝕄, v⃗), 𝕄 * v⃗)\n",
      "  DimensionMismatch(\"dimensions must match: a has dims (Base.OneTo(24),), b has dims (Base.OneTo(74),), mismatch at 1\")\n",
      "  Stacktrace:\n",
      "    [1] \u001b[0m\u001b[1mpromote_shape\u001b[22m\n",
      "  \u001b[90m    @ \u001b[39m\u001b[90m./\u001b[39m\u001b[90m\u001b[4mindices.jl:178\u001b[24m\u001b[39m\u001b[90m [inlined]\u001b[39m\n",
      "    [2] \u001b[0m\u001b[1mpromote_shape\u001b[22m\n",
      "  \u001b[90m    @ \u001b[39m\u001b[90m./\u001b[39m\u001b[90m\u001b[4mindices.jl:169\u001b[24m\u001b[39m\u001b[90m [inlined]\u001b[39m\n",
      "    [3] \u001b[0m\u001b[1m-\u001b[22m\u001b[0m\u001b[1m(\u001b[22m\u001b[90mA\u001b[39m::\u001b[0mVector\u001b[90m{Float64}\u001b[39m, \u001b[90mB\u001b[39m::\u001b[0mVector\u001b[90m{Float64}\u001b[39m\u001b[0m\u001b[1m)\u001b[22m\n",
      "  \u001b[90m    @ \u001b[39m\u001b[90mBase\u001b[39m \u001b[90m./\u001b[39m\u001b[90m\u001b[4marraymath.jl:38\u001b[24m\u001b[39m\n",
      "    [4] \u001b[0m\u001b[1misapprox\u001b[22m\u001b[0m\u001b[1m(\u001b[22m\u001b[90mx\u001b[39m::\u001b[0mVector\u001b[90m{Float64}\u001b[39m, \u001b[90my\u001b[39m::\u001b[0mVector\u001b[90m{Float64}\u001b[39m; \u001b[90matol\u001b[39m::\u001b[0mInt64, \u001b[90mrtol\u001b[39m::\u001b[0mFloat64, \u001b[90mnans\u001b[39m::\u001b[0mBool, \u001b[90mnorm\u001b[39m::\u001b[0mtypeof(norm)\u001b[0m\u001b[1m)\u001b[22m\n",
      "  \u001b[90m    @ \u001b[39m\u001b[35mLinearAlgebra\u001b[39m \u001b[90m/opt/pub/eb/apps/all/Julia/1.7.0/share/julia/stdlib/v1.7/LinearAlgebra/src/\u001b[39m\u001b[90m\u001b[4mgeneric.jl:1706\u001b[24m\u001b[39m\n",
      "    [5] \u001b[0m\u001b[1misapprox\u001b[22m\u001b[0m\u001b[1m(\u001b[22m\u001b[90mx\u001b[39m::\u001b[0mVector\u001b[90m{Float64}\u001b[39m, \u001b[90my\u001b[39m::\u001b[0mVector\u001b[90m{Float64}\u001b[39m\u001b[0m\u001b[1m)\u001b[22m\n",
      "  \u001b[90m    @ \u001b[39m\u001b[35mLinearAlgebra\u001b[39m \u001b[90m/opt/pub/eb/apps/all/Julia/1.7.0/share/julia/stdlib/v1.7/LinearAlgebra/src/\u001b[39m\u001b[90m\u001b[4mgeneric.jl:1706\u001b[24m\u001b[39m\n",
      "    [6] \u001b[0m\u001b[1meval_test\u001b[22m\u001b[0m\u001b[1m(\u001b[22m\u001b[90mevaluated\u001b[39m::\u001b[0mExpr, \u001b[90mquoted\u001b[39m::\u001b[0mExpr, \u001b[90msource\u001b[39m::\u001b[0mLineNumberNode, \u001b[90mnegate\u001b[39m::\u001b[0mBool\u001b[0m\u001b[1m)\u001b[22m\n",
      "  \u001b[90m    @ \u001b[39m\u001b[36mTest\u001b[39m \u001b[90m/opt/pub/eb/apps/all/Julia/1.7.0/share/julia/stdlib/v1.7/Test/src/\u001b[39m\u001b[90m\u001b[4mTest.jl:292\u001b[24m\u001b[39m\n",
      "    [7] \u001b[0m\u001b[1mmacro expansion\u001b[22m\n",
      "  \u001b[90m    @ \u001b[39m\u001b[90m/opt/pub/eb/apps/all/Julia/1.7.0/share/julia/stdlib/v1.7/Test/src/\u001b[39m\u001b[90m\u001b[4mTest.jl:445\u001b[24m\u001b[39m\u001b[90m [inlined]\u001b[39m\n",
      "    [8] \u001b[0m\u001b[1mmacro expansion\u001b[22m\n",
      "  \u001b[90m    @ \u001b[39m\u001b[90m./\u001b[39m\u001b[90m\u001b[4mIn[65]:7\u001b[24m\u001b[39m\u001b[90m [inlined]\u001b[39m\n",
      "    [9] \u001b[0m\u001b[1mmacro expansion\u001b[22m\n",
      "  \u001b[90m    @ \u001b[39m\u001b[90m/opt/pub/eb/apps/all/Julia/1.7.0/share/julia/stdlib/v1.7/Test/src/\u001b[39m\u001b[90m\u001b[4mTest.jl:1283\u001b[24m\u001b[39m\u001b[90m [inlined]\u001b[39m\n",
      "   [10] top-level scope\n",
      "  \u001b[90m    @ \u001b[39m\u001b[90m./\u001b[39m\u001b[90m\u001b[4mIn[65]:2\u001b[24m\u001b[39m\n",
      "vector_multiply: \u001b[91m\u001b[1mError During Test\u001b[22m\u001b[39m at \u001b[39m\u001b[1mIn[65]:7\u001b[22m\n",
      "  Test threw exception\n",
      "  Expression: isapprox(multiply(𝕄, v⃗), 𝕄 * v⃗)\n",
      "  BoundsError: attempt to access 30×85 Matrix{Float64} at index [31, 1:85]\n",
      "  Stacktrace:\n",
      "   [1] \u001b[0m\u001b[1mthrow_boundserror\u001b[22m\u001b[0m\u001b[1m(\u001b[22m\u001b[90mA\u001b[39m::\u001b[0mMatrix\u001b[90m{Float64}\u001b[39m, \u001b[90mI\u001b[39m::\u001b[0mTuple\u001b[90m{Int64, Base.Slice{Base.OneTo{Int64}}}\u001b[39m\u001b[0m\u001b[1m)\u001b[22m\n",
      "  \u001b[90m   @ \u001b[39m\u001b[90mBase\u001b[39m \u001b[90m./\u001b[39m\u001b[90m\u001b[4mabstractarray.jl:691\u001b[24m\u001b[39m\n",
      "   [2] \u001b[0m\u001b[1mcheckbounds\u001b[22m\n",
      "  \u001b[90m   @ \u001b[39m\u001b[90m./\u001b[39m\u001b[90m\u001b[4mabstractarray.jl:656\u001b[24m\u001b[39m\u001b[90m [inlined]\u001b[39m\n",
      "   [3] \u001b[0m\u001b[1m_getindex\u001b[22m\n",
      "  \u001b[90m   @ \u001b[39m\u001b[90m./\u001b[39m\u001b[90m\u001b[4mmultidimensional.jl:838\u001b[24m\u001b[39m\u001b[90m [inlined]\u001b[39m\n",
      "   [4] \u001b[0m\u001b[1mgetindex\u001b[22m\n",
      "  \u001b[90m   @ \u001b[39m\u001b[90m./\u001b[39m\u001b[90m\u001b[4mabstractarray.jl:1218\u001b[24m\u001b[39m\u001b[90m [inlined]\u001b[39m\n",
      "   [5] \u001b[0m\u001b[1mmultiply\u001b[22m\u001b[0m\u001b[1m(\u001b[22m\u001b[90mmat\u001b[39m::\u001b[0mMatrix\u001b[90m{Float64}\u001b[39m, \u001b[90mvec\u001b[39m::\u001b[0mVector\u001b[90m{Float64}\u001b[39m\u001b[0m\u001b[1m)\u001b[22m\n",
      "  \u001b[90m   @ \u001b[39m\u001b[35mMain\u001b[39m \u001b[90m~/Workspace/CSC381/dl_f22_project-0-KostasMateerStudent/\u001b[39m\u001b[90m\u001b[4mmatrices.jl:29\u001b[24m\u001b[39m\n",
      "   [6] \u001b[0m\u001b[1mmacro expansion\u001b[22m\n",
      "  \u001b[90m   @ \u001b[39m\u001b[90m/opt/pub/eb/apps/all/Julia/1.7.0/share/julia/stdlib/v1.7/Test/src/\u001b[39m\u001b[90m\u001b[4mTest.jl:445\u001b[24m\u001b[39m\u001b[90m [inlined]\u001b[39m\n",
      "   [7] \u001b[0m\u001b[1mmacro expansion\u001b[22m\n",
      "  \u001b[90m   @ \u001b[39m\u001b[90m./\u001b[39m\u001b[90m\u001b[4mIn[65]:7\u001b[24m\u001b[39m\u001b[90m [inlined]\u001b[39m\n",
      "   [8] \u001b[0m\u001b[1mmacro expansion\u001b[22m\n",
      "  \u001b[90m   @ \u001b[39m\u001b[90m/opt/pub/eb/apps/all/Julia/1.7.0/share/julia/stdlib/v1.7/Test/src/\u001b[39m\u001b[90m\u001b[4mTest.jl:1283\u001b[24m\u001b[39m\u001b[90m [inlined]\u001b[39m\n",
      "   [9] top-level scope\n",
      "  \u001b[90m   @ \u001b[39m\u001b[90m./\u001b[39m\u001b[90m\u001b[4mIn[65]:2\u001b[24m\u001b[39m\n",
      "vector_multiply: \u001b[91m\u001b[1mError During Test\u001b[22m\u001b[39m at \u001b[39m\u001b[1mIn[65]:7\u001b[22m\n",
      "  Test threw exception\n",
      "  Expression: isapprox(multiply(𝕄, v⃗), 𝕄 * v⃗)\n",
      "  BoundsError: attempt to access 9×40 Matrix{Float64} at index [10, 1:40]\n",
      "  Stacktrace:\n",
      "   [1] \u001b[0m\u001b[1mthrow_boundserror\u001b[22m\u001b[0m\u001b[1m(\u001b[22m\u001b[90mA\u001b[39m::\u001b[0mMatrix\u001b[90m{Float64}\u001b[39m, \u001b[90mI\u001b[39m::\u001b[0mTuple\u001b[90m{Int64, Base.Slice{Base.OneTo{Int64}}}\u001b[39m\u001b[0m\u001b[1m)\u001b[22m\n",
      "  \u001b[90m   @ \u001b[39m\u001b[90mBase\u001b[39m \u001b[90m./\u001b[39m\u001b[90m\u001b[4mabstractarray.jl:691\u001b[24m\u001b[39m\n",
      "   [2] \u001b[0m\u001b[1mcheckbounds\u001b[22m\n",
      "  \u001b[90m   @ \u001b[39m\u001b[90m./\u001b[39m\u001b[90m\u001b[4mabstractarray.jl:656\u001b[24m\u001b[39m\u001b[90m [inlined]\u001b[39m\n",
      "   [3] \u001b[0m\u001b[1m_getindex\u001b[22m\n",
      "  \u001b[90m   @ \u001b[39m\u001b[90m./\u001b[39m\u001b[90m\u001b[4mmultidimensional.jl:838\u001b[24m\u001b[39m\u001b[90m [inlined]\u001b[39m\n",
      "   [4] \u001b[0m\u001b[1mgetindex\u001b[22m\n",
      "  \u001b[90m   @ \u001b[39m\u001b[90m./\u001b[39m\u001b[90m\u001b[4mabstractarray.jl:1218\u001b[24m\u001b[39m\u001b[90m [inlined]\u001b[39m\n",
      "   [5] \u001b[0m\u001b[1mmultiply\u001b[22m\u001b[0m\u001b[1m(\u001b[22m\u001b[90mmat\u001b[39m::\u001b[0mMatrix\u001b[90m{Float64}\u001b[39m, \u001b[90mvec\u001b[39m::\u001b[0mVector\u001b[90m{Float64}\u001b[39m\u001b[0m\u001b[1m)\u001b[22m\n",
      "  \u001b[90m   @ \u001b[39m\u001b[35mMain\u001b[39m \u001b[90m~/Workspace/CSC381/dl_f22_project-0-KostasMateerStudent/\u001b[39m\u001b[90m\u001b[4mmatrices.jl:29\u001b[24m\u001b[39m\n",
      "   [6] \u001b[0m\u001b[1mmacro expansion\u001b[22m\n",
      "  \u001b[90m   @ \u001b[39m\u001b[90m/opt/pub/eb/apps/all/Julia/1.7.0/share/julia/stdlib/v1.7/Test/src/\u001b[39m\u001b[90m\u001b[4mTest.jl:445\u001b[24m\u001b[39m\u001b[90m [inlined]\u001b[39m\n",
      "   [7] \u001b[0m\u001b[1mmacro expansion\u001b[22m\n",
      "  \u001b[90m   @ \u001b[39m\u001b[90m./\u001b[39m\u001b[90m\u001b[4mIn[65]:7\u001b[24m\u001b[39m\u001b[90m [inlined]\u001b[39m\n",
      "   [8] \u001b[0m\u001b[1mmacro expansion\u001b[22m\n",
      "  \u001b[90m   @ \u001b[39m\u001b[90m/opt/pub/eb/apps/all/Julia/1.7.0/share/julia/stdlib/v1.7/Test/src/\u001b[39m\u001b[90m\u001b[4mTest.jl:1283\u001b[24m\u001b[39m\u001b[90m [inlined]\u001b[39m\n",
      "   [9] top-level scope\n",
      "  \u001b[90m   @ \u001b[39m\u001b[90m./\u001b[39m\u001b[90m\u001b[4mIn[65]:2\u001b[24m\u001b[39m\n",
      "vector_multiply: \u001b[91m\u001b[1mError During Test\u001b[22m\u001b[39m at \u001b[39m\u001b[1mIn[65]:7\u001b[22m\n",
      "  Test threw exception\n",
      "  Expression: isapprox(multiply(𝕄, v⃗), 𝕄 * v⃗)\n",
      "  BoundsError: attempt to access 23×67 Matrix{Float64} at index [24, 1:67]\n",
      "  Stacktrace:\n",
      "   [1] \u001b[0m\u001b[1mthrow_boundserror\u001b[22m\u001b[0m\u001b[1m(\u001b[22m\u001b[90mA\u001b[39m::\u001b[0mMatrix\u001b[90m{Float64}\u001b[39m, \u001b[90mI\u001b[39m::\u001b[0mTuple\u001b[90m{Int64, Base.Slice{Base.OneTo{Int64}}}\u001b[39m\u001b[0m\u001b[1m)\u001b[22m\n",
      "  \u001b[90m   @ \u001b[39m\u001b[90mBase\u001b[39m \u001b[90m./\u001b[39m\u001b[90m\u001b[4mabstractarray.jl:691\u001b[24m\u001b[39m\n",
      "   [2] \u001b[0m\u001b[1mcheckbounds\u001b[22m\n",
      "  \u001b[90m   @ \u001b[39m\u001b[90m./\u001b[39m\u001b[90m\u001b[4mabstractarray.jl:656\u001b[24m\u001b[39m\u001b[90m [inlined]\u001b[39m\n",
      "   [3] \u001b[0m\u001b[1m_getindex\u001b[22m\n",
      "  \u001b[90m   @ \u001b[39m\u001b[90m./\u001b[39m\u001b[90m\u001b[4mmultidimensional.jl:838\u001b[24m\u001b[39m\u001b[90m [inlined]\u001b[39m\n",
      "   [4] \u001b[0m\u001b[1mgetindex\u001b[22m\n",
      "  \u001b[90m   @ \u001b[39m\u001b[90m./\u001b[39m\u001b[90m\u001b[4mabstractarray.jl:1218\u001b[24m\u001b[39m\u001b[90m [inlined]\u001b[39m\n",
      "   [5] \u001b[0m\u001b[1mmultiply\u001b[22m\u001b[0m\u001b[1m(\u001b[22m\u001b[90mmat\u001b[39m::\u001b[0mMatrix\u001b[90m{Float64}\u001b[39m, \u001b[90mvec\u001b[39m::\u001b[0mVector\u001b[90m{Float64}\u001b[39m\u001b[0m\u001b[1m)\u001b[22m\n",
      "  \u001b[90m   @ \u001b[39m\u001b[35mMain\u001b[39m \u001b[90m~/Workspace/CSC381/dl_f22_project-0-KostasMateerStudent/\u001b[39m\u001b[90m\u001b[4mmatrices.jl:29\u001b[24m\u001b[39m\n",
      "   [6] \u001b[0m\u001b[1mmacro expansion\u001b[22m\n",
      "  \u001b[90m   @ \u001b[39m\u001b[90m/opt/pub/eb/apps/all/Julia/1.7.0/share/julia/stdlib/v1.7/Test/src/\u001b[39m\u001b[90m\u001b[4mTest.jl:445\u001b[24m\u001b[39m\u001b[90m [inlined]\u001b[39m\n",
      "   [7] \u001b[0m\u001b[1mmacro expansion\u001b[22m\n",
      "  \u001b[90m   @ \u001b[39m\u001b[90m./\u001b[39m\u001b[90m\u001b[4mIn[65]:7\u001b[24m\u001b[39m\u001b[90m [inlined]\u001b[39m\n",
      "   [8] \u001b[0m\u001b[1mmacro expansion\u001b[22m\n",
      "  \u001b[90m   @ \u001b[39m\u001b[90m/opt/pub/eb/apps/all/Julia/1.7.0/share/julia/stdlib/v1.7/Test/src/\u001b[39m\u001b[90m\u001b[4mTest.jl:1283\u001b[24m\u001b[39m\u001b[90m [inlined]\u001b[39m\n",
      "   [9] top-level scope\n",
      "  \u001b[90m   @ \u001b[39m\u001b[90m./\u001b[39m\u001b[90m\u001b[4mIn[65]:2\u001b[24m\u001b[39m\n",
      "vector_multiply: \u001b[91m\u001b[1mError During Test\u001b[22m\u001b[39m at \u001b[39m\u001b[1mIn[65]:7\u001b[22m\n",
      "  Test threw exception\n",
      "  Expression: isapprox(multiply(𝕄, v⃗), 𝕄 * v⃗)\n",
      "  BoundsError: attempt to access 3×44 Matrix{Float64} at index [4, 1:44]\n",
      "  Stacktrace:\n",
      "   [1] \u001b[0m\u001b[1mthrow_boundserror\u001b[22m\u001b[0m\u001b[1m(\u001b[22m\u001b[90mA\u001b[39m::\u001b[0mMatrix\u001b[90m{Float64}\u001b[39m, \u001b[90mI\u001b[39m::\u001b[0mTuple\u001b[90m{Int64, Base.Slice{Base.OneTo{Int64}}}\u001b[39m\u001b[0m\u001b[1m)\u001b[22m\n",
      "  \u001b[90m   @ \u001b[39m\u001b[90mBase\u001b[39m \u001b[90m./\u001b[39m\u001b[90m\u001b[4mabstractarray.jl:691\u001b[24m\u001b[39m\n",
      "   [2] \u001b[0m\u001b[1mcheckbounds\u001b[22m\n",
      "  \u001b[90m   @ \u001b[39m\u001b[90m./\u001b[39m\u001b[90m\u001b[4mabstractarray.jl:656\u001b[24m\u001b[39m\u001b[90m [inlined]\u001b[39m\n",
      "   [3] \u001b[0m\u001b[1m_getindex\u001b[22m\n",
      "  \u001b[90m   @ \u001b[39m\u001b[90m./\u001b[39m\u001b[90m\u001b[4mmultidimensional.jl:838\u001b[24m\u001b[39m\u001b[90m [inlined]\u001b[39m\n",
      "   [4] \u001b[0m\u001b[1mgetindex\u001b[22m\n",
      "  \u001b[90m   @ \u001b[39m\u001b[90m./\u001b[39m\u001b[90m\u001b[4mabstractarray.jl:1218\u001b[24m\u001b[39m\u001b[90m [inlined]\u001b[39m\n",
      "   [5] \u001b[0m\u001b[1mmultiply\u001b[22m\u001b[0m\u001b[1m(\u001b[22m\u001b[90mmat\u001b[39m::\u001b[0mMatrix\u001b[90m{Float64}\u001b[39m, \u001b[90mvec\u001b[39m::\u001b[0mVector\u001b[90m{Float64}\u001b[39m\u001b[0m\u001b[1m)\u001b[22m\n",
      "  \u001b[90m   @ \u001b[39m\u001b[35mMain\u001b[39m \u001b[90m~/Workspace/CSC381/dl_f22_project-0-KostasMateerStudent/\u001b[39m\u001b[90m\u001b[4mmatrices.jl:29\u001b[24m\u001b[39m\n",
      "   [6] \u001b[0m\u001b[1mmacro expansion\u001b[22m\n",
      "  \u001b[90m   @ \u001b[39m\u001b[90m/opt/pub/eb/apps/all/Julia/1.7.0/share/julia/stdlib/v1.7/Test/src/\u001b[39m\u001b[90m\u001b[4mTest.jl:445\u001b[24m\u001b[39m\u001b[90m [inlined]\u001b[39m\n",
      "   [7] \u001b[0m\u001b[1mmacro expansion\u001b[22m\n",
      "  \u001b[90m   @ \u001b[39m\u001b[90m./\u001b[39m\u001b[90m\u001b[4mIn[65]:7\u001b[24m\u001b[39m\u001b[90m [inlined]\u001b[39m\n",
      "   [8] \u001b[0m\u001b[1mmacro expansion\u001b[22m\n",
      "  \u001b[90m   @ \u001b[39m\u001b[90m/opt/pub/eb/apps/all/Julia/1.7.0/share/julia/stdlib/v1.7/Test/src/\u001b[39m\u001b[90m\u001b[4mTest.jl:1283\u001b[24m\u001b[39m\u001b[90m [inlined]\u001b[39m\n",
      "   [9] top-level scope\n",
      "  \u001b[90m   @ \u001b[39m\u001b[90m./\u001b[39m\u001b[90m\u001b[4mIn[65]:2\u001b[24m\u001b[39m\n",
      "vector_multiply: \u001b[91m\u001b[1mError During Test\u001b[22m\u001b[39m at \u001b[39m\u001b[1mIn[65]:7\u001b[22m\n",
      "  Test threw exception\n",
      "  Expression: isapprox(multiply(𝕄, v⃗), 𝕄 * v⃗)\n",
      "  BoundsError: attempt to access 22×79 Matrix{Float64} at index [23, 1:79]\n",
      "  Stacktrace:\n",
      "   [1] \u001b[0m\u001b[1mthrow_boundserror\u001b[22m\u001b[0m\u001b[1m(\u001b[22m\u001b[90mA\u001b[39m::\u001b[0mMatrix\u001b[90m{Float64}\u001b[39m, \u001b[90mI\u001b[39m::\u001b[0mTuple\u001b[90m{Int64, Base.Slice{Base.OneTo{Int64}}}\u001b[39m\u001b[0m\u001b[1m)\u001b[22m\n",
      "  \u001b[90m   @ \u001b[39m\u001b[90mBase\u001b[39m \u001b[90m./\u001b[39m\u001b[90m\u001b[4mabstractarray.jl:691\u001b[24m\u001b[39m\n",
      "   [2] \u001b[0m\u001b[1mcheckbounds\u001b[22m\n",
      "  \u001b[90m   @ \u001b[39m\u001b[90m./\u001b[39m\u001b[90m\u001b[4mabstractarray.jl:656\u001b[24m\u001b[39m\u001b[90m [inlined]\u001b[39m\n",
      "   [3] \u001b[0m\u001b[1m_getindex\u001b[22m\n",
      "  \u001b[90m   @ \u001b[39m\u001b[90m./\u001b[39m\u001b[90m\u001b[4mmultidimensional.jl:838\u001b[24m\u001b[39m\u001b[90m [inlined]\u001b[39m\n",
      "   [4] \u001b[0m\u001b[1mgetindex\u001b[22m\n",
      "  \u001b[90m   @ \u001b[39m\u001b[90m./\u001b[39m\u001b[90m\u001b[4mabstractarray.jl:1218\u001b[24m\u001b[39m\u001b[90m [inlined]\u001b[39m\n",
      "   [5] \u001b[0m\u001b[1mmultiply\u001b[22m\u001b[0m\u001b[1m(\u001b[22m\u001b[90mmat\u001b[39m::\u001b[0mMatrix\u001b[90m{Float64}\u001b[39m, \u001b[90mvec\u001b[39m::\u001b[0mVector\u001b[90m{Float64}\u001b[39m\u001b[0m\u001b[1m)\u001b[22m\n",
      "  \u001b[90m   @ \u001b[39m\u001b[35mMain\u001b[39m \u001b[90m~/Workspace/CSC381/dl_f22_project-0-KostasMateerStudent/\u001b[39m\u001b[90m\u001b[4mmatrices.jl:29\u001b[24m\u001b[39m\n",
      "   [6] \u001b[0m\u001b[1mmacro expansion\u001b[22m\n",
      "  \u001b[90m   @ \u001b[39m\u001b[90m/opt/pub/eb/apps/all/Julia/1.7.0/share/julia/stdlib/v1.7/Test/src/\u001b[39m\u001b[90m\u001b[4mTest.jl:445\u001b[24m\u001b[39m\u001b[90m [inlined]\u001b[39m\n",
      "   [7] \u001b[0m\u001b[1mmacro expansion\u001b[22m\n",
      "  \u001b[90m   @ \u001b[39m\u001b[90m./\u001b[39m\u001b[90m\u001b[4mIn[65]:7\u001b[24m\u001b[39m\u001b[90m [inlined]\u001b[39m\n",
      "   [8] \u001b[0m\u001b[1mmacro expansion\u001b[22m\n",
      "  \u001b[90m   @ \u001b[39m\u001b[90m/opt/pub/eb/apps/all/Julia/1.7.0/share/julia/stdlib/v1.7/Test/src/\u001b[39m\u001b[90m\u001b[4mTest.jl:1283\u001b[24m\u001b[39m\u001b[90m [inlined]\u001b[39m\n",
      "   [9] top-level scope\n",
      "  \u001b[90m   @ \u001b[39m\u001b[90m./\u001b[39m\u001b[90m\u001b[4mIn[65]:2\u001b[24m\u001b[39m\n",
      "vector_multiply: \u001b[91m\u001b[1mError During Test\u001b[22m\u001b[39m at \u001b[39m\u001b[1mIn[65]:7\u001b[22m\n",
      "  Test threw exception\n",
      "  Expression: isapprox(multiply(𝕄, v⃗), 𝕄 * v⃗)\n",
      "  BoundsError: attempt to access 67×98 Matrix{Float64} at index [68, 1:98]\n",
      "  Stacktrace:\n",
      "   [1] \u001b[0m\u001b[1mthrow_boundserror\u001b[22m\u001b[0m\u001b[1m(\u001b[22m\u001b[90mA\u001b[39m::\u001b[0mMatrix\u001b[90m{Float64}\u001b[39m, \u001b[90mI\u001b[39m::\u001b[0mTuple\u001b[90m{Int64, Base.Slice{Base.OneTo{Int64}}}\u001b[39m\u001b[0m\u001b[1m)\u001b[22m\n",
      "  \u001b[90m   @ \u001b[39m\u001b[90mBase\u001b[39m \u001b[90m./\u001b[39m\u001b[90m\u001b[4mabstractarray.jl:691\u001b[24m\u001b[39m\n",
      "   [2] \u001b[0m\u001b[1mcheckbounds\u001b[22m\n",
      "  \u001b[90m   @ \u001b[39m\u001b[90m./\u001b[39m\u001b[90m\u001b[4mabstractarray.jl:656\u001b[24m\u001b[39m\u001b[90m [inlined]\u001b[39m\n",
      "   [3] \u001b[0m\u001b[1m_getindex\u001b[22m\n",
      "  \u001b[90m   @ \u001b[39m\u001b[90m./\u001b[39m\u001b[90m\u001b[4mmultidimensional.jl:838\u001b[24m\u001b[39m\u001b[90m [inlined]\u001b[39m\n",
      "   [4] \u001b[0m\u001b[1mgetindex\u001b[22m\n",
      "  \u001b[90m   @ \u001b[39m\u001b[90m./\u001b[39m\u001b[90m\u001b[4mabstractarray.jl:1218\u001b[24m\u001b[39m\u001b[90m [inlined]\u001b[39m\n",
      "   [5] \u001b[0m\u001b[1mmultiply\u001b[22m\u001b[0m\u001b[1m(\u001b[22m\u001b[90mmat\u001b[39m::\u001b[0mMatrix\u001b[90m{Float64}\u001b[39m, \u001b[90mvec\u001b[39m::\u001b[0mVector\u001b[90m{Float64}\u001b[39m\u001b[0m\u001b[1m)\u001b[22m\n",
      "  \u001b[90m   @ \u001b[39m\u001b[35mMain\u001b[39m \u001b[90m~/Workspace/CSC381/dl_f22_project-0-KostasMateerStudent/\u001b[39m\u001b[90m\u001b[4mmatrices.jl:29\u001b[24m\u001b[39m\n",
      "   [6] \u001b[0m\u001b[1mmacro expansion\u001b[22m\n",
      "  \u001b[90m   @ \u001b[39m\u001b[90m/opt/pub/eb/apps/all/Julia/1.7.0/share/julia/stdlib/v1.7/Test/src/\u001b[39m\u001b[90m\u001b[4mTest.jl:445\u001b[24m\u001b[39m\u001b[90m [inlined]\u001b[39m\n",
      "   [7] \u001b[0m\u001b[1mmacro expansion\u001b[22m\n",
      "  \u001b[90m   @ \u001b[39m\u001b[90m./\u001b[39m\u001b[90m\u001b[4mIn[65]:7\u001b[24m\u001b[39m\u001b[90m [inlined]\u001b[39m\n",
      "   [8] \u001b[0m\u001b[1mmacro expansion\u001b[22m\n",
      "  \u001b[90m   @ \u001b[39m\u001b[90m/opt/pub/eb/apps/all/Julia/1.7.0/share/julia/stdlib/v1.7/Test/src/\u001b[39m\u001b[90m\u001b[4mTest.jl:1283\u001b[24m\u001b[39m\u001b[90m [inlined]\u001b[39m\n",
      "   [9] top-level scope\n",
      "  \u001b[90m   @ \u001b[39m\u001b[90m./\u001b[39m\u001b[90m\u001b[4mIn[65]:2\u001b[24m\u001b[39m\n",
      "vector_multiply: \u001b[91m\u001b[1mError During Test\u001b[22m\u001b[39m at \u001b[39m\u001b[1mIn[65]:7\u001b[22m\n",
      "  Test threw exception\n",
      "  Expression: isapprox(multiply(𝕄, v⃗), 𝕄 * v⃗)\n",
      "  DimensionMismatch(\"dimensions must match: a has dims (Base.OneTo(63),), b has dims (Base.OneTo(98),), mismatch at 1\")\n",
      "  Stacktrace:\n",
      "    [1] \u001b[0m\u001b[1mpromote_shape\u001b[22m\n",
      "  \u001b[90m    @ \u001b[39m\u001b[90m./\u001b[39m\u001b[90m\u001b[4mindices.jl:178\u001b[24m\u001b[39m\u001b[90m [inlined]\u001b[39m\n",
      "    [2] \u001b[0m\u001b[1mpromote_shape\u001b[22m\n",
      "  \u001b[90m    @ \u001b[39m\u001b[90m./\u001b[39m\u001b[90m\u001b[4mindices.jl:169\u001b[24m\u001b[39m\u001b[90m [inlined]\u001b[39m\n",
      "    [3] \u001b[0m\u001b[1m-\u001b[22m\u001b[0m\u001b[1m(\u001b[22m\u001b[90mA\u001b[39m::\u001b[0mVector\u001b[90m{Float64}\u001b[39m, \u001b[90mB\u001b[39m::\u001b[0mVector\u001b[90m{Float64}\u001b[39m\u001b[0m\u001b[1m)\u001b[22m\n",
      "  \u001b[90m    @ \u001b[39m\u001b[90mBase\u001b[39m \u001b[90m./\u001b[39m\u001b[90m\u001b[4marraymath.jl:38\u001b[24m\u001b[39m\n",
      "    [4] \u001b[0m\u001b[1misapprox\u001b[22m\u001b[0m\u001b[1m(\u001b[22m\u001b[90mx\u001b[39m::\u001b[0mVector\u001b[90m{Float64}\u001b[39m, \u001b[90my\u001b[39m::\u001b[0mVector\u001b[90m{Float64}\u001b[39m; \u001b[90matol\u001b[39m::\u001b[0mInt64, \u001b[90mrtol\u001b[39m::\u001b[0mFloat64, \u001b[90mnans\u001b[39m::\u001b[0mBool, \u001b[90mnorm\u001b[39m::\u001b[0mtypeof(norm)\u001b[0m\u001b[1m)\u001b[22m\n",
      "  \u001b[90m    @ \u001b[39m\u001b[35mLinearAlgebra\u001b[39m \u001b[90m/opt/pub/eb/apps/all/Julia/1.7.0/share/julia/stdlib/v1.7/LinearAlgebra/src/\u001b[39m\u001b[90m\u001b[4mgeneric.jl:1706\u001b[24m\u001b[39m\n",
      "    [5] \u001b[0m\u001b[1misapprox\u001b[22m\u001b[0m\u001b[1m(\u001b[22m\u001b[90mx\u001b[39m::\u001b[0mVector\u001b[90m{Float64}\u001b[39m, \u001b[90my\u001b[39m::\u001b[0mVector\u001b[90m{Float64}\u001b[39m\u001b[0m\u001b[1m)\u001b[22m\n",
      "  \u001b[90m    @ \u001b[39m\u001b[35mLinearAlgebra\u001b[39m \u001b[90m/opt/pub/eb/apps/all/Julia/1.7.0/share/julia/stdlib/v1.7/LinearAlgebra/src/\u001b[39m\u001b[90m\u001b[4mgeneric.jl:1706\u001b[24m\u001b[39m\n",
      "    [6] \u001b[0m\u001b[1meval_test\u001b[22m\u001b[0m\u001b[1m(\u001b[22m\u001b[90mevaluated\u001b[39m::\u001b[0mExpr, \u001b[90mquoted\u001b[39m::\u001b[0mExpr, \u001b[90msource\u001b[39m::\u001b[0mLineNumberNode, \u001b[90mnegate\u001b[39m::\u001b[0mBool\u001b[0m\u001b[1m)\u001b[22m\n",
      "  \u001b[90m    @ \u001b[39m\u001b[36mTest\u001b[39m \u001b[90m/opt/pub/eb/apps/all/Julia/1.7.0/share/julia/stdlib/v1.7/Test/src/\u001b[39m\u001b[90m\u001b[4mTest.jl:292\u001b[24m\u001b[39m\n",
      "    [7] \u001b[0m\u001b[1mmacro expansion\u001b[22m\n",
      "  \u001b[90m    @ \u001b[39m\u001b[90m/opt/pub/eb/apps/all/Julia/1.7.0/share/julia/stdlib/v1.7/Test/src/\u001b[39m\u001b[90m\u001b[4mTest.jl:445\u001b[24m\u001b[39m\u001b[90m [inlined]\u001b[39m\n",
      "    [8] \u001b[0m\u001b[1mmacro expansion\u001b[22m\n",
      "  \u001b[90m    @ \u001b[39m\u001b[90m./\u001b[39m\u001b[90m\u001b[4mIn[65]:7\u001b[24m\u001b[39m\u001b[90m [inlined]\u001b[39m\n",
      "    [9] \u001b[0m\u001b[1mmacro expansion\u001b[22m\n",
      "  \u001b[90m    @ \u001b[39m\u001b[90m/opt/pub/eb/apps/all/Julia/1.7.0/share/julia/stdlib/v1.7/Test/src/\u001b[39m\u001b[90m\u001b[4mTest.jl:1283\u001b[24m\u001b[39m\u001b[90m [inlined]\u001b[39m\n",
      "   [10] top-level scope\n",
      "  \u001b[90m    @ \u001b[39m\u001b[90m./\u001b[39m\u001b[90m\u001b[4mIn[65]:2\u001b[24m\u001b[39m\n",
      "vector_multiply: \u001b[91m\u001b[1mError During Test\u001b[22m\u001b[39m at \u001b[39m\u001b[1mIn[65]:7\u001b[22m\n",
      "  Test threw exception\n",
      "  Expression: isapprox(multiply(𝕄, v⃗), 𝕄 * v⃗)\n",
      "  DimensionMismatch(\"dimensions must match: a has dims (Base.OneTo(20),), b has dims (Base.OneTo(97),), mismatch at 1\")\n",
      "  Stacktrace:\n",
      "    [1] \u001b[0m\u001b[1mpromote_shape\u001b[22m\n",
      "  \u001b[90m    @ \u001b[39m\u001b[90m./\u001b[39m\u001b[90m\u001b[4mindices.jl:178\u001b[24m\u001b[39m\u001b[90m [inlined]\u001b[39m\n",
      "    [2] \u001b[0m\u001b[1mpromote_shape\u001b[22m\n",
      "  \u001b[90m    @ \u001b[39m\u001b[90m./\u001b[39m\u001b[90m\u001b[4mindices.jl:169\u001b[24m\u001b[39m\u001b[90m [inlined]\u001b[39m\n",
      "    [3] \u001b[0m\u001b[1m-\u001b[22m\u001b[0m\u001b[1m(\u001b[22m\u001b[90mA\u001b[39m::\u001b[0mVector\u001b[90m{Float64}\u001b[39m, \u001b[90mB\u001b[39m::\u001b[0mVector\u001b[90m{Float64}\u001b[39m\u001b[0m\u001b[1m)\u001b[22m\n",
      "  \u001b[90m    @ \u001b[39m\u001b[90mBase\u001b[39m \u001b[90m./\u001b[39m\u001b[90m\u001b[4marraymath.jl:38\u001b[24m\u001b[39m\n",
      "    [4] \u001b[0m\u001b[1misapprox\u001b[22m\u001b[0m\u001b[1m(\u001b[22m\u001b[90mx\u001b[39m::\u001b[0mVector\u001b[90m{Float64}\u001b[39m, \u001b[90my\u001b[39m::\u001b[0mVector\u001b[90m{Float64}\u001b[39m; \u001b[90matol\u001b[39m::\u001b[0mInt64, \u001b[90mrtol\u001b[39m::\u001b[0mFloat64, \u001b[90mnans\u001b[39m::\u001b[0mBool, \u001b[90mnorm\u001b[39m::\u001b[0mtypeof(norm)\u001b[0m\u001b[1m)\u001b[22m\n",
      "  \u001b[90m    @ \u001b[39m\u001b[35mLinearAlgebra\u001b[39m \u001b[90m/opt/pub/eb/apps/all/Julia/1.7.0/share/julia/stdlib/v1.7/LinearAlgebra/src/\u001b[39m\u001b[90m\u001b[4mgeneric.jl:1706\u001b[24m\u001b[39m\n",
      "    [5] \u001b[0m\u001b[1misapprox\u001b[22m\u001b[0m\u001b[1m(\u001b[22m\u001b[90mx\u001b[39m::\u001b[0mVector\u001b[90m{Float64}\u001b[39m, \u001b[90my\u001b[39m::\u001b[0mVector\u001b[90m{Float64}\u001b[39m\u001b[0m\u001b[1m)\u001b[22m\n",
      "  \u001b[90m    @ \u001b[39m\u001b[35mLinearAlgebra\u001b[39m \u001b[90m/opt/pub/eb/apps/all/Julia/1.7.0/share/julia/stdlib/v1.7/LinearAlgebra/src/\u001b[39m\u001b[90m\u001b[4mgeneric.jl:1706\u001b[24m\u001b[39m\n",
      "    [6] \u001b[0m\u001b[1meval_test\u001b[22m\u001b[0m\u001b[1m(\u001b[22m\u001b[90mevaluated\u001b[39m::\u001b[0mExpr, \u001b[90mquoted\u001b[39m::\u001b[0mExpr, \u001b[90msource\u001b[39m::\u001b[0mLineNumberNode, \u001b[90mnegate\u001b[39m::\u001b[0mBool\u001b[0m\u001b[1m)\u001b[22m\n",
      "  \u001b[90m    @ \u001b[39m\u001b[36mTest\u001b[39m \u001b[90m/opt/pub/eb/apps/all/Julia/1.7.0/share/julia/stdlib/v1.7/Test/src/\u001b[39m\u001b[90m\u001b[4mTest.jl:292\u001b[24m\u001b[39m\n",
      "    [7] \u001b[0m\u001b[1mmacro expansion\u001b[22m\n",
      "  \u001b[90m    @ \u001b[39m\u001b[90m/opt/pub/eb/apps/all/Julia/1.7.0/share/julia/stdlib/v1.7/Test/src/\u001b[39m\u001b[90m\u001b[4mTest.jl:445\u001b[24m\u001b[39m\u001b[90m [inlined]\u001b[39m\n",
      "    [8] \u001b[0m\u001b[1mmacro expansion\u001b[22m\n",
      "  \u001b[90m    @ \u001b[39m\u001b[90m./\u001b[39m\u001b[90m\u001b[4mIn[65]:7\u001b[24m\u001b[39m\u001b[90m [inlined]\u001b[39m\n",
      "    [9] \u001b[0m\u001b[1mmacro expansion\u001b[22m\n",
      "  \u001b[90m    @ \u001b[39m\u001b[90m/opt/pub/eb/apps/all/Julia/1.7.0/share/julia/stdlib/v1.7/Test/src/\u001b[39m\u001b[90m\u001b[4mTest.jl:1283\u001b[24m\u001b[39m\u001b[90m [inlined]\u001b[39m\n",
      "   [10] top-level scope\n",
      "  \u001b[90m    @ \u001b[39m\u001b[90m./\u001b[39m\u001b[90m\u001b[4mIn[65]:2\u001b[24m\u001b[39m\n",
      "vector_multiply: \u001b[91m\u001b[1mError During Test\u001b[22m\u001b[39m at \u001b[39m\u001b[1mIn[65]:7\u001b[22m\n",
      "  Test threw exception\n",
      "  Expression: isapprox(multiply(𝕄, v⃗), 𝕄 * v⃗)\n",
      "  DimensionMismatch(\"dimensions must match: a has dims (Base.OneTo(16),), b has dims (Base.OneTo(60),), mismatch at 1\")\n",
      "  Stacktrace:\n",
      "    [1] \u001b[0m\u001b[1mpromote_shape\u001b[22m\n",
      "  \u001b[90m    @ \u001b[39m\u001b[90m./\u001b[39m\u001b[90m\u001b[4mindices.jl:178\u001b[24m\u001b[39m\u001b[90m [inlined]\u001b[39m\n",
      "    [2] \u001b[0m\u001b[1mpromote_shape\u001b[22m\n",
      "  \u001b[90m    @ \u001b[39m\u001b[90m./\u001b[39m\u001b[90m\u001b[4mindices.jl:169\u001b[24m\u001b[39m\u001b[90m [inlined]\u001b[39m\n",
      "    [3] \u001b[0m\u001b[1m-\u001b[22m\u001b[0m\u001b[1m(\u001b[22m\u001b[90mA\u001b[39m::\u001b[0mVector\u001b[90m{Float64}\u001b[39m, \u001b[90mB\u001b[39m::\u001b[0mVector\u001b[90m{Float64}\u001b[39m\u001b[0m\u001b[1m)\u001b[22m\n",
      "  \u001b[90m    @ \u001b[39m\u001b[90mBase\u001b[39m \u001b[90m./\u001b[39m\u001b[90m\u001b[4marraymath.jl:38\u001b[24m\u001b[39m\n",
      "    [4] \u001b[0m\u001b[1misapprox\u001b[22m\u001b[0m\u001b[1m(\u001b[22m\u001b[90mx\u001b[39m::\u001b[0mVector\u001b[90m{Float64}\u001b[39m, \u001b[90my\u001b[39m::\u001b[0mVector\u001b[90m{Float64}\u001b[39m; \u001b[90matol\u001b[39m::\u001b[0mInt64, \u001b[90mrtol\u001b[39m::\u001b[0mFloat64, \u001b[90mnans\u001b[39m::\u001b[0mBool, \u001b[90mnorm\u001b[39m::\u001b[0mtypeof(norm)\u001b[0m\u001b[1m)\u001b[22m\n",
      "  \u001b[90m    @ \u001b[39m\u001b[35mLinearAlgebra\u001b[39m \u001b[90m/opt/pub/eb/apps/all/Julia/1.7.0/share/julia/stdlib/v1.7/LinearAlgebra/src/\u001b[39m\u001b[90m\u001b[4mgeneric.jl:1706\u001b[24m\u001b[39m\n",
      "    [5] \u001b[0m\u001b[1misapprox\u001b[22m\u001b[0m\u001b[1m(\u001b[22m\u001b[90mx\u001b[39m::\u001b[0mVector\u001b[90m{Float64}\u001b[39m, \u001b[90my\u001b[39m::\u001b[0mVector\u001b[90m{Float64}\u001b[39m\u001b[0m\u001b[1m)\u001b[22m\n",
      "  \u001b[90m    @ \u001b[39m\u001b[35mLinearAlgebra\u001b[39m \u001b[90m/opt/pub/eb/apps/all/Julia/1.7.0/share/julia/stdlib/v1.7/LinearAlgebra/src/\u001b[39m\u001b[90m\u001b[4mgeneric.jl:1706\u001b[24m\u001b[39m\n",
      "    [6] \u001b[0m\u001b[1meval_test\u001b[22m\u001b[0m\u001b[1m(\u001b[22m\u001b[90mevaluated\u001b[39m::\u001b[0mExpr, \u001b[90mquoted\u001b[39m::\u001b[0mExpr, \u001b[90msource\u001b[39m::\u001b[0mLineNumberNode, \u001b[90mnegate\u001b[39m::\u001b[0mBool\u001b[0m\u001b[1m)\u001b[22m\n",
      "  \u001b[90m    @ \u001b[39m\u001b[36mTest\u001b[39m \u001b[90m/opt/pub/eb/apps/all/Julia/1.7.0/share/julia/stdlib/v1.7/Test/src/\u001b[39m\u001b[90m\u001b[4mTest.jl:292\u001b[24m\u001b[39m\n",
      "    [7] \u001b[0m\u001b[1mmacro expansion\u001b[22m\n",
      "  \u001b[90m    @ \u001b[39m\u001b[90m/opt/pub/eb/apps/all/Julia/1.7.0/share/julia/stdlib/v1.7/Test/src/\u001b[39m\u001b[90m\u001b[4mTest.jl:445\u001b[24m\u001b[39m\u001b[90m [inlined]\u001b[39m\n",
      "    [8] \u001b[0m\u001b[1mmacro expansion\u001b[22m\n",
      "  \u001b[90m    @ \u001b[39m\u001b[90m./\u001b[39m\u001b[90m\u001b[4mIn[65]:7\u001b[24m\u001b[39m\u001b[90m [inlined]\u001b[39m\n",
      "    [9] \u001b[0m\u001b[1mmacro expansion\u001b[22m\n",
      "  \u001b[90m    @ \u001b[39m\u001b[90m/opt/pub/eb/apps/all/Julia/1.7.0/share/julia/stdlib/v1.7/Test/src/\u001b[39m\u001b[90m\u001b[4mTest.jl:1283\u001b[24m\u001b[39m\u001b[90m [inlined]\u001b[39m\n",
      "   [10] top-level scope\n",
      "  \u001b[90m    @ \u001b[39m\u001b[90m./\u001b[39m\u001b[90m\u001b[4mIn[65]:2\u001b[24m\u001b[39m\n",
      "vector_multiply: \u001b[91m\u001b[1mError During Test\u001b[22m\u001b[39m at \u001b[39m\u001b[1mIn[65]:7\u001b[22m\n",
      "  Test threw exception\n",
      "  Expression: isapprox(multiply(𝕄, v⃗), 𝕄 * v⃗)\n",
      "  DimensionMismatch(\"dimensions must match: a has dims (Base.OneTo(30),), b has dims (Base.OneTo(86),), mismatch at 1\")\n",
      "  Stacktrace:\n",
      "    [1] \u001b[0m\u001b[1mpromote_shape\u001b[22m\n",
      "  \u001b[90m    @ \u001b[39m\u001b[90m./\u001b[39m\u001b[90m\u001b[4mindices.jl:178\u001b[24m\u001b[39m\u001b[90m [inlined]\u001b[39m\n",
      "    [2] \u001b[0m\u001b[1mpromote_shape\u001b[22m\n",
      "  \u001b[90m    @ \u001b[39m\u001b[90m./\u001b[39m\u001b[90m\u001b[4mindices.jl:169\u001b[24m\u001b[39m\u001b[90m [inlined]\u001b[39m\n",
      "    [3] \u001b[0m\u001b[1m-\u001b[22m\u001b[0m\u001b[1m(\u001b[22m\u001b[90mA\u001b[39m::\u001b[0mVector\u001b[90m{Float64}\u001b[39m, \u001b[90mB\u001b[39m::\u001b[0mVector\u001b[90m{Float64}\u001b[39m\u001b[0m\u001b[1m)\u001b[22m\n",
      "  \u001b[90m    @ \u001b[39m\u001b[90mBase\u001b[39m \u001b[90m./\u001b[39m\u001b[90m\u001b[4marraymath.jl:38\u001b[24m\u001b[39m\n",
      "    [4] \u001b[0m\u001b[1misapprox\u001b[22m\u001b[0m\u001b[1m(\u001b[22m\u001b[90mx\u001b[39m::\u001b[0mVector\u001b[90m{Float64}\u001b[39m, \u001b[90my\u001b[39m::\u001b[0mVector\u001b[90m{Float64}\u001b[39m; \u001b[90matol\u001b[39m::\u001b[0mInt64, \u001b[90mrtol\u001b[39m::\u001b[0mFloat64, \u001b[90mnans\u001b[39m::\u001b[0mBool, \u001b[90mnorm\u001b[39m::\u001b[0mtypeof(norm)\u001b[0m\u001b[1m)\u001b[22m\n",
      "  \u001b[90m    @ \u001b[39m\u001b[35mLinearAlgebra\u001b[39m \u001b[90m/opt/pub/eb/apps/all/Julia/1.7.0/share/julia/stdlib/v1.7/LinearAlgebra/src/\u001b[39m\u001b[90m\u001b[4mgeneric.jl:1706\u001b[24m\u001b[39m\n",
      "    [5] \u001b[0m\u001b[1misapprox\u001b[22m\u001b[0m\u001b[1m(\u001b[22m\u001b[90mx\u001b[39m::\u001b[0mVector\u001b[90m{Float64}\u001b[39m, \u001b[90my\u001b[39m::\u001b[0mVector\u001b[90m{Float64}\u001b[39m\u001b[0m\u001b[1m)\u001b[22m\n",
      "  \u001b[90m    @ \u001b[39m\u001b[35mLinearAlgebra\u001b[39m \u001b[90m/opt/pub/eb/apps/all/Julia/1.7.0/share/julia/stdlib/v1.7/LinearAlgebra/src/\u001b[39m\u001b[90m\u001b[4mgeneric.jl:1706\u001b[24m\u001b[39m\n",
      "    [6] \u001b[0m\u001b[1meval_test\u001b[22m\u001b[0m\u001b[1m(\u001b[22m\u001b[90mevaluated\u001b[39m::\u001b[0mExpr, \u001b[90mquoted\u001b[39m::\u001b[0mExpr, \u001b[90msource\u001b[39m::\u001b[0mLineNumberNode, \u001b[90mnegate\u001b[39m::\u001b[0mBool\u001b[0m\u001b[1m)\u001b[22m\n",
      "  \u001b[90m    @ \u001b[39m\u001b[36mTest\u001b[39m \u001b[90m/opt/pub/eb/apps/all/Julia/1.7.0/share/julia/stdlib/v1.7/Test/src/\u001b[39m\u001b[90m\u001b[4mTest.jl:292\u001b[24m\u001b[39m\n",
      "    [7] \u001b[0m\u001b[1mmacro expansion\u001b[22m\n",
      "  \u001b[90m    @ \u001b[39m\u001b[90m/opt/pub/eb/apps/all/Julia/1.7.0/share/julia/stdlib/v1.7/Test/src/\u001b[39m\u001b[90m\u001b[4mTest.jl:445\u001b[24m\u001b[39m\u001b[90m [inlined]\u001b[39m\n",
      "    [8] \u001b[0m\u001b[1mmacro expansion\u001b[22m\n",
      "  \u001b[90m    @ \u001b[39m\u001b[90m./\u001b[39m\u001b[90m\u001b[4mIn[65]:7\u001b[24m\u001b[39m\u001b[90m [inlined]\u001b[39m\n",
      "    [9] \u001b[0m\u001b[1mmacro expansion\u001b[22m\n",
      "  \u001b[90m    @ \u001b[39m\u001b[90m/opt/pub/eb/apps/all/Julia/1.7.0/share/julia/stdlib/v1.7/Test/src/\u001b[39m\u001b[90m\u001b[4mTest.jl:1283\u001b[24m\u001b[39m\u001b[90m [inlined]\u001b[39m\n",
      "   [10] top-level scope\n",
      "  \u001b[90m    @ \u001b[39m\u001b[90m./\u001b[39m\u001b[90m\u001b[4mIn[65]:2\u001b[24m\u001b[39m\n",
      "\u001b[0m\u001b[1mTest Summary:   | \u001b[22m\u001b[32m\u001b[1mPass  \u001b[22m\u001b[39m\u001b[91m\u001b[1mError  \u001b[22m\u001b[39m\u001b[36m\u001b[1mTotal\u001b[22m\u001b[39m\n",
      "vector_multiply | \u001b[32m  11  \u001b[39m\u001b[91m   19  \u001b[39m\u001b[36m   30\u001b[39m\n"
     ]
    },
    {
     "ename": "LoadError",
     "evalue": "\u001b[91mSome tests did not pass: 11 passed, 0 failed, 19 errored, 0 broken.\u001b[39m",
     "output_type": "error",
     "traceback": [
      "\u001b[91mSome tests did not pass: 11 passed, 0 failed, 19 errored, 0 broken.\u001b[39m",
      "",
      "Stacktrace:",
      " [1] finish(ts::Test.DefaultTestSet)",
      "   @ Test /opt/pub/eb/apps/all/Julia/1.7.0/share/julia/stdlib/v1.7/Test/src/Test.jl:1044",
      " [2] macro expansion",
      "   @ /opt/pub/eb/apps/all/Julia/1.7.0/share/julia/stdlib/v1.7/Test/src/Test.jl:1294 [inlined]",
      " [3] top-level scope",
      "   @ ./In[65]:2",
      " [4] eval",
      "   @ ./boot.jl:373 [inlined]",
      " [5] include_string(mapexpr::typeof(REPL.softscope), mod::Module, code::String, filename::String)",
      "   @ Base ./loading.jl:1196"
     ]
    }
   ],
   "source": [
    "@testset \"vector_multiply\" begin\n",
    "    for i in 1:NUM_GOOD_TESTS\n",
    "        rows = rand(1:MAX_DIM)\n",
    "        cols = rand(1:MAX_DIM)\n",
    "        v⃗ = rand(Uniform(-100,100), cols)\n",
    "        𝕄 = rand(Uniform(-100,100), rows, cols)\n",
    "        @test isapprox(multiply(𝕄, v⃗), 𝕄*v⃗)\n",
    "    end\n",
    "    for i in 1:NUM_BAD_TESTS÷2\n",
    "        rows = rand(1:MAX_DIM)\n",
    "        cols = rand(1:MAX_DIM)\n",
    "        extra = rand(1:MAX_DIM)\n",
    "        v⃗₁ = rand(Uniform(-100,100), cols)\n",
    "        v⃗₂ = rand(Uniform(-100,100), cols+extra)\n",
    "        𝕄₁ = rand(Uniform(-100,100), rows, cols)\n",
    "        𝕄₂ = rand(Uniform(-100,100), rows, cols+extra)\n",
    "        @test_throws Exception multiply(𝕄₁,v⃗₂)\n",
    "        @test_throws Exception multiply(𝕄₂,v⃗₁)\n",
    "    end\n",
    "end\n",
    "\n"
   ]
  },
  {
   "cell_type": "code",
   "execution_count": 68,
   "id": "5cfe97ab-3807-4bcd-9427-e7a7ace39b9d",
   "metadata": {},
   "outputs": [
    {
     "data": {
      "text/plain": [
       "85×27 Matrix{Float64}:\n",
       " -19.7859     56.2054   -86.1531    …   33.2099   -11.4163    44.441\n",
       "  50.0199    -36.3382   -60.2536       -40.8576   -18.3342   -90.7855\n",
       "  61.2939     99.6453    82.1099       -19.8378    98.0117   -30.7436\n",
       "  -3.35841   -51.1963    42.2662        38.3052     7.40226   33.9567\n",
       " -97.6525     55.9706     4.16822      -52.5154   -20.919    -17.3273\n",
       " -70.6984     42.8991    34.8476    …  -37.4774     9.59924  -51.4295\n",
       " -49.5961    -59.2721   -17.4077       -47.6283   -13.6937    20.3427\n",
       " -15.362      12.4887    21.2271       -47.3818   -56.913     31.0712\n",
       "  78.6541     -6.38683   39.4379       -50.2814    15.9564   -39.3425\n",
       "  58.0734     -5.42559   11.713        -22.3655   -48.2146    27.623\n",
       " -79.7904    -87.0792   -65.7733    …  -65.6901   -75.5367   -50.9489\n",
       "  25.5162     41.6506     9.32216      -79.512     77.1073   -76.2989\n",
       " -28.5014    -24.3658    44.9666       -77.2366    51.5938   -38.8351\n",
       "   ⋮                                ⋱               ⋮        \n",
       " -17.8333     37.2012   -91.1225        79.3212   -58.4832    52.7873\n",
       "  89.8278     74.3629    36.1325       -79.568    -96.372     -5.75679\n",
       "  -0.125476  -55.1076    19.3048    …   73.1257    78.9718   -52.2957\n",
       " -62.6561     -2.28612   -0.750461     -71.5442   -89.1355   -40.3803\n",
       " -37.1295     53.1841   -55.1463       -84.9181   -64.3296    83.2561\n",
       "  24.0814    -32.1309   -20.4401       -54.7518   -69.3228    48.3285\n",
       " -75.1729    -89.224     -0.913831      64.571    -76.0362   -99.7077\n",
       " -71.9369     80.1429    47.9081    …   94.0917    56.4832    74.0673\n",
       " -53.8884     49.0944    85.2925       -19.9146   -97.578     22.5586\n",
       " -62.6616    -85.0199   -12.1028        -7.49016   68.8785    75.1736\n",
       "  98.4196     84.0433   -13.9023       -51.8374    96.7688   -92.2947\n",
       "  45.3089     92.0649    71.163        -92.5639   -79.7191   -55.0425"
      ]
     },
     "execution_count": 68,
     "metadata": {},
     "output_type": "execute_result"
    }
   ],
   "source": [
    "rows = rand(1:MAX_DIM)\n",
    "cols = rand(1:MAX_DIM)\n",
    "v⃗ = rand(Uniform(-100,100), cols)\n",
    "𝕄 = rand(Uniform(-100,100), rows, cols)"
   ]
  },
  {
   "cell_type": "code",
   "execution_count": 73,
   "id": "8d1d12b0-3094-41f9-8c3a-13e057131436",
   "metadata": {},
   "outputs": [
    {
     "data": {
      "text/plain": [
       "27-element Vector{Float64}:\n",
       "  30.765753317166002\n",
       "  18.65299134541884\n",
       "  58.585619059773705\n",
       " -20.017503843096137\n",
       " -46.6299538154989\n",
       " -12.395166509778704\n",
       "  27.048989241373846\n",
       "  60.88810983827665\n",
       "   6.914849701228505\n",
       "  77.13145831492116\n",
       " -43.19343151394746\n",
       "  55.82949393581288\n",
       " -27.303179279473014\n",
       "   ⋮\n",
       "  91.26834721614901\n",
       "  11.543179453701441\n",
       " -80.32038644831601\n",
       " -53.62576276889725\n",
       " -96.78234040096585\n",
       " -83.22871059285521\n",
       " -24.33217679707367\n",
       " -33.882946843675384\n",
       "  69.54476129327045\n",
       "  80.25648591469451\n",
       " -96.4424778255015\n",
       "  23.824554474556308"
      ]
     },
     "execution_count": 73,
     "metadata": {},
     "output_type": "execute_result"
    }
   ],
   "source": [
    "v⃗"
   ]
  },
  {
   "cell_type": "code",
   "execution_count": 69,
   "id": "b2e7aed5-4eb7-457e-a8f0-34e689c858ba",
   "metadata": {},
   "outputs": [
    {
     "ename": "LoadError",
     "evalue": "DimensionMismatch(\"dimensions must match: a has dims (Base.OneTo(27),), b has dims (Base.OneTo(85),), mismatch at 1\")",
     "output_type": "error",
     "traceback": [
      "DimensionMismatch(\"dimensions must match: a has dims (Base.OneTo(27),), b has dims (Base.OneTo(85),), mismatch at 1\")",
      "",
      "Stacktrace:",
      " [1] promote_shape",
      "   @ ./indices.jl:178 [inlined]",
      " [2] promote_shape",
      "   @ ./indices.jl:169 [inlined]",
      " [3] -(A::Vector{Float64}, B::Vector{Float64})",
      "   @ Base ./arraymath.jl:38",
      " [4] isapprox(x::Vector{Float64}, y::Vector{Float64}; atol::Int64, rtol::Float64, nans::Bool, norm::typeof(norm))",
      "   @ LinearAlgebra /opt/pub/eb/apps/all/Julia/1.7.0/share/julia/stdlib/v1.7/LinearAlgebra/src/generic.jl:1706",
      " [5] isapprox(x::Vector{Float64}, y::Vector{Float64})",
      "   @ LinearAlgebra /opt/pub/eb/apps/all/Julia/1.7.0/share/julia/stdlib/v1.7/LinearAlgebra/src/generic.jl:1706",
      " [6] top-level scope",
      "   @ In[69]:1",
      " [7] eval",
      "   @ ./boot.jl:373 [inlined]",
      " [8] include_string(mapexpr::typeof(REPL.softscope), mod::Module, code::String, filename::String)",
      "   @ Base ./loading.jl:1196"
     ]
    }
   ],
   "source": [
    "isapprox(multiply(𝕄, v⃗), 𝕄*v⃗)"
   ]
  },
  {
   "cell_type": "code",
   "execution_count": 71,
   "id": "f2b1b419-d51b-4c13-a62e-4e239870c436",
   "metadata": {},
   "outputs": [
    {
     "data": {
      "text/plain": [
       "27-element Vector{Float64}:\n",
       " -15545.718874017646\n",
       " -12370.9253209653\n",
       "  -9593.385793321304\n",
       "  -6262.849406142683\n",
       "  28990.41469734518\n",
       " -19548.06750187244\n",
       "  23964.18925554551\n",
       " -21588.98931989649\n",
       "  -5346.856413992011\n",
       "  -1539.7993932221848\n",
       " -25293.052671912494\n",
       " -20440.944639087516\n",
       "   8431.533829572978\n",
       "      ⋮\n",
       " -11278.25660682862\n",
       "  12965.940453512521\n",
       "   1917.9498896819234\n",
       "  28238.24971529218\n",
       "  17771.464317012647\n",
       "  -4387.725664785756\n",
       "  26834.496106633233\n",
       " -13370.648262755654\n",
       " -13937.34651424951\n",
       "   6540.611489945436\n",
       "   1775.4433567224692\n",
       " -42634.63771763967"
      ]
     },
     "execution_count": 71,
     "metadata": {},
     "output_type": "execute_result"
    }
   ],
   "source": [
    "multiply(𝕄, v⃗)"
   ]
  },
  {
   "cell_type": "code",
   "execution_count": 72,
   "id": "90571f2e-45ac-4b01-8915-1b3b9d7d616a",
   "metadata": {},
   "outputs": [
    {
     "data": {
      "text/plain": [
       "85-element Vector{Float64}:\n",
       " -15545.71887401765\n",
       " -12370.9253209653\n",
       "  -9593.385793321304\n",
       "  -6262.849406142684\n",
       "  28990.414697345175\n",
       " -19548.067501872443\n",
       "  23964.1892555455\n",
       " -21588.989319896493\n",
       "  -5346.856413992008\n",
       "  -1539.7993932221857\n",
       " -25293.052671912497\n",
       " -20440.94463908752\n",
       "   8431.53382957298\n",
       "      ⋮\n",
       "   5290.430588724988\n",
       "  19675.526301176236\n",
       "   -748.3571980694107\n",
       "  -4920.4144609651785\n",
       "  -1030.7889881707554\n",
       " -23762.02302974539\n",
       "   6007.23984435469\n",
       "    996.114059362782\n",
       "   4650.241686619151\n",
       " -15141.350063473308\n",
       " -26509.11761479971\n",
       "   7736.69170675647"
      ]
     },
     "execution_count": 72,
     "metadata": {},
     "output_type": "execute_result"
    }
   ],
   "source": [
    "𝕄*v⃗"
   ]
  },
  {
   "cell_type": "code",
   "execution_count": 79,
   "id": "dfa72f32-31bb-4133-9cf8-672a3fadf56e",
   "metadata": {},
   "outputs": [
    {
     "data": {
      "text/plain": [
       "33×26 Matrix{Float64}:\n",
       "  -0.60607   -3.94645   -1.32449   …   39.9843    -45.004     57.2073\n",
       "  16.1038   -74.7604    67.0655        38.1959     37.265    -65.5337\n",
       "  68.9963    -7.10165  -54.4705       -40.2707     37.7529    28.4158\n",
       "   1.2755   -54.9423    27.6009       -70.0936      1.13713   62.7485\n",
       "   4.32557   55.5341    97.4063       -97.8428     36.7249    20.1369\n",
       " -65.9082   -23.056    -21.4531    …   99.8677    -80.2391    51.3468\n",
       " -65.6688    96.3783   -63.2055       -90.2015    -80.5028   -73.2885\n",
       "  31.6885   -31.5698   -50.8671        -8.53331   -16.4505    53.3287\n",
       " -12.2743   -34.3329    -0.615106      44.7504     71.1285   -46.3226\n",
       " -94.6165   -53.7419   -18.8867       -59.5602    -58.2387    -2.19624\n",
       " -95.5421    72.0919   -76.087     …   10.5848     22.3355    73.5577\n",
       "  42.1159    -1.18522   31.6472        65.2062     65.4407    27.4274\n",
       "  41.7135    20.2805    43.0934        -5.28732   -36.4694    62.9155\n",
       "   ⋮                               ⋱                           ⋮\n",
       "  72.4967    35.1691   -92.336        -26.6247    -22.3798    68.6906\n",
       "  78.8318   -98.4581   -89.9963       -58.4576     90.8774    51.746\n",
       "  98.7197   -27.7287   -41.9581        -0.561264   81.5281   -59.9804\n",
       "  66.1408    11.381     47.597         -2.16311   -38.7447    -6.62016\n",
       "  60.1687   -53.8111    16.5247    …  -63.7799    -64.7573    78.552\n",
       " -18.9855   -37.6883   -10.9229        53.1001     22.8603     5.65075\n",
       " -34.8613    21.1173    43.6136       -95.1014     37.4787    95.7627\n",
       " -57.5598   -54.0575    54.4158       -89.8703     84.0111    78.4423\n",
       "  16.6874    78.5919    53.6536       -27.1575    -21.2885    62.6554\n",
       "  42.0203    90.5993   -18.8674    …  -32.0147     46.4421   -47.6258\n",
       "  45.6706   -23.175     67.5699        -5.44685    76.6197   -32.1108\n",
       " -31.4674   -60.1246    85.1139       -68.3753    -58.8759   -30.833"
      ]
     },
     "execution_count": 79,
     "metadata": {},
     "output_type": "execute_result"
    }
   ],
   "source": [
    "dim1 = rand(1:MAX_DIM)\n",
    "dim2 = rand(1:MAX_DIM)\n",
    "dim3 = rand(1:MAX_DIM)\n",
    "𝕄₁ = rand(Uniform(-100,100), dim1, dim2)\n",
    "𝕄₂ = rand(Uniform(-100,100), dim2, dim3)"
   ]
  },
  {
   "cell_type": "code",
   "execution_count": 83,
   "id": "03a7c1a5-d193-45b2-8505-0f9d89f6135c",
   "metadata": {},
   "outputs": [
    {
     "data": {
      "text/plain": [
       "29×33 Matrix{Float64}:\n",
       "  68.6574   -48.8602     54.2626   …  -76.8885    26.8986    73.9771\n",
       "  37.3505   -87.8101     79.6288       30.5542   -55.3335    88.5516\n",
       "  44.7883   -26.9071     37.5674       79.4874    99.9972   -82.0193\n",
       "  31.2354   -72.228     -85.3833       65.4425    20.6795    41.2269\n",
       " -80.4092   -39.6994     56.073       -26.0234    55.8118     7.80553\n",
       "  84.278     64.1453    -15.1399   …  -82.7819   -49.8367    55.9909\n",
       " -81.5143    65.098     -77.862       -93.01      71.2817   -43.0428\n",
       "  14.359    -69.4769     14.4197       12.0781   -82.2091    68.411\n",
       " -42.024     21.1964     97.4651      -83.1674    -9.02469  -41.6943\n",
       " -75.4876    -0.346284    9.23417      52.7245    95.0699    87.9338\n",
       " -86.2884   -20.3702     19.3787   …   71.2632    12.5483     7.56904\n",
       " -22.64     -32.541     -80.4109       74.4036   -53.1443    -9.91012\n",
       "  90.0966    69.276      77.2589       64.3323   -54.3436   -14.6246\n",
       "   ⋮                               ⋱    ⋮                   \n",
       " -81.7791   -44.7805     64.4683      -26.1656   -29.2965   -55.2224\n",
       "  78.2843   -51.9259     15.3331      -51.9653    55.1705    39.3387\n",
       "  59.0266   -86.7762    -24.5006       93.9449    91.2484    63.1976\n",
       " -38.6918   -34.1714     39.4145   …   98.4266   -66.3321   -57.1284\n",
       "  41.528    -16.1013     24.7642       84.6709   -36.4755     3.96386\n",
       " -32.9647    86.2369    -50.6329       67.3575    40.2736    95.1345\n",
       " -21.9246   -10.9886    -21.1628       -7.07177  -74.108     54.4951\n",
       " -36.6674   -88.8496     39.4054      -47.8189   -86.6865    30.0213\n",
       "  67.1919    48.8947    -99.7248   …  -71.8162    59.9831   -81.7411\n",
       " -65.3826   -22.2607    -30.4124       39.5096   -26.7415   -41.5487\n",
       "   6.16189  -41.2765    -39.834       -62.2455    58.5905   -81.4338\n",
       "   6.27212  -70.1303     78.5322      -24.0824    -5.4518   -83.4141"
      ]
     },
     "execution_count": 83,
     "metadata": {},
     "output_type": "execute_result"
    }
   ],
   "source": [
    "𝕄₁"
   ]
  },
  {
   "cell_type": "code",
   "execution_count": 84,
   "id": "d859a89b-9a8d-466c-90c8-f20e3d7150fd",
   "metadata": {},
   "outputs": [
    {
     "data": {
      "text/plain": [
       "33×26 Matrix{Float64}:\n",
       "  -0.60607   -3.94645   -1.32449   …   39.9843    -45.004     57.2073\n",
       "  16.1038   -74.7604    67.0655        38.1959     37.265    -65.5337\n",
       "  68.9963    -7.10165  -54.4705       -40.2707     37.7529    28.4158\n",
       "   1.2755   -54.9423    27.6009       -70.0936      1.13713   62.7485\n",
       "   4.32557   55.5341    97.4063       -97.8428     36.7249    20.1369\n",
       " -65.9082   -23.056    -21.4531    …   99.8677    -80.2391    51.3468\n",
       " -65.6688    96.3783   -63.2055       -90.2015    -80.5028   -73.2885\n",
       "  31.6885   -31.5698   -50.8671        -8.53331   -16.4505    53.3287\n",
       " -12.2743   -34.3329    -0.615106      44.7504     71.1285   -46.3226\n",
       " -94.6165   -53.7419   -18.8867       -59.5602    -58.2387    -2.19624\n",
       " -95.5421    72.0919   -76.087     …   10.5848     22.3355    73.5577\n",
       "  42.1159    -1.18522   31.6472        65.2062     65.4407    27.4274\n",
       "  41.7135    20.2805    43.0934        -5.28732   -36.4694    62.9155\n",
       "   ⋮                               ⋱                           ⋮\n",
       "  72.4967    35.1691   -92.336        -26.6247    -22.3798    68.6906\n",
       "  78.8318   -98.4581   -89.9963       -58.4576     90.8774    51.746\n",
       "  98.7197   -27.7287   -41.9581        -0.561264   81.5281   -59.9804\n",
       "  66.1408    11.381     47.597         -2.16311   -38.7447    -6.62016\n",
       "  60.1687   -53.8111    16.5247    …  -63.7799    -64.7573    78.552\n",
       " -18.9855   -37.6883   -10.9229        53.1001     22.8603     5.65075\n",
       " -34.8613    21.1173    43.6136       -95.1014     37.4787    95.7627\n",
       " -57.5598   -54.0575    54.4158       -89.8703     84.0111    78.4423\n",
       "  16.6874    78.5919    53.6536       -27.1575    -21.2885    62.6554\n",
       "  42.0203    90.5993   -18.8674    …  -32.0147     46.4421   -47.6258\n",
       "  45.6706   -23.175     67.5699        -5.44685    76.6197   -32.1108\n",
       " -31.4674   -60.1246    85.1139       -68.3753    -58.8759   -30.833"
      ]
     },
     "execution_count": 84,
     "metadata": {},
     "output_type": "execute_result"
    }
   ],
   "source": [
    "𝕄₂"
   ]
  },
  {
   "cell_type": "code",
   "execution_count": 88,
   "id": "05b74a4d-2daf-4c7a-a246-24684b0624af",
   "metadata": {},
   "outputs": [
    {
     "name": "stdout",
     "output_type": "stream",
     "text": [
      "29\n"
     ]
    },
    {
     "data": {
      "text/plain": [
       "29×26 Matrix{Float64}:\n",
       "  -7217.73        761.369   -7314.96   …  -12268.3   -21796.1     -15126.5\n",
       "  11954.6         563.014   14834.8       -29910.4   -27653.0     -31693.2\n",
       "  -2737.38      13651.1    -15015.3       -36569.5    -1213.31     37991.8\n",
       " -18509.9      -19835.0     -1220.94      -14507.2    12079.3      -6357.57\n",
       "   9406.07      16212.0     16813.8         8395.41  -25885.5      -8296.17\n",
       "     -8.18472  -25102.0      9842.23   …   25218.8   -30858.7     -10630.2\n",
       "    589.425     11314.9     19639.8         6047.98  -27205.4     -29201.4\n",
       " -19025.8        6569.77   -16634.5       -31733.5   -16747.7       7815.53\n",
       "  -4475.6      -26359.9      1112.63       -3312.08   10004.9      12319.3\n",
       "  -4516.24       1719.97   -17875.5       -13143.7   -20353.7        734.428\n",
       "   2626.4       14470.8     13670.2    …  -12959.0      652.36     -6196.1\n",
       " -10047.0       -5147.07    -6015.51      -15256.2    -2941.89      9344.1\n",
       "  -2517.26       -496.072  -15007.2         5077.28   -5347.57    -15647.9\n",
       "      ⋮                                ⋱                               ⋮\n",
       " -23772.6       14059.8    -35714.3        -4389.58  -36283.0      18869.9\n",
       "  -3494.34      -6184.02    11912.0        -9705.31   -8014.52      5998.45\n",
       " -23512.7       35935.1     -6661.71       -6434.82   -1101.17       516.233\n",
       "  15344.0      -12389.5      5248.34   …  -16477.8    31158.3      -3397.2\n",
       "  -6528.01      19801.4    -35889.4          797.02     -29.5396    4913.81\n",
       " -10123.2      -10676.4     -6914.91      -16078.1   -20920.5     -13993.7\n",
       " -13729.4        2031.05    -2247.17       10667.5   -28513.9     -31923.9\n",
       "  -1853.49      15429.1    -42355.2        -4561.78  -12153.2      37294.2\n",
       " -10755.7      -19412.6       800.626  …   -5246.48   -5164.09     34329.4\n",
       "  11236.9      -18563.3    -13052.9       -18561.3     7433.85      3298.73\n",
       "  19904.7      -11367.0      -762.891      -3947.2    20386.7       3353.57\n",
       " -12537.6       29184.1    -26990.4       -16271.2    17992.1      -5830.58"
      ]
     },
     "execution_count": 88,
     "metadata": {},
     "output_type": "execute_result"
    }
   ],
   "source": [
    "multiply(𝕄₁, 𝕄₂)"
   ]
  },
  {
   "cell_type": "code",
   "execution_count": 85,
   "id": "cf3aaea8-0904-4aa8-a222-1a1426f6faf4",
   "metadata": {},
   "outputs": [
    {
     "data": {
      "text/plain": [
       "29×26 Matrix{Float64}:\n",
       "  -7217.73        761.369   -7314.96   …  -12268.3   -21796.1     -15126.5\n",
       "  11954.6         563.014   14834.8       -29910.4   -27653.0     -31693.2\n",
       "  -2737.38      13651.1    -15015.3       -36569.5    -1213.31     37991.8\n",
       " -18509.9      -19835.0     -1220.94      -14507.2    12079.3      -6357.57\n",
       "   9406.07      16212.0     16813.8         8395.41  -25885.5      -8296.17\n",
       "     -8.18472  -25102.0      9842.23   …   25218.8   -30858.7     -10630.2\n",
       "    589.425     11314.9     19639.8         6047.98  -27205.4     -29201.4\n",
       " -19025.8        6569.77   -16634.5       -31733.5   -16747.7       7815.53\n",
       "  -4475.6      -26359.9      1112.63       -3312.08   10004.9      12319.3\n",
       "  -4516.24       1719.97   -17875.5       -13143.7   -20353.7        734.428\n",
       "   2626.4       14470.8     13670.2    …  -12959.0      652.36     -6196.1\n",
       " -10047.0       -5147.07    -6015.51      -15256.2    -2941.89      9344.1\n",
       "  -2517.26       -496.072  -15007.2         5077.28   -5347.57    -15647.9\n",
       "      ⋮                                ⋱                               ⋮\n",
       " -23772.6       14059.8    -35714.3        -4389.58  -36283.0      18869.9\n",
       "  -3494.34      -6184.02    11912.0        -9705.31   -8014.52      5998.45\n",
       " -23512.7       35935.1     -6661.71       -6434.82   -1101.17       516.233\n",
       "  15344.0      -12389.5      5248.34   …  -16477.8    31158.3      -3397.2\n",
       "  -6528.01      19801.4    -35889.4          797.02     -29.5396    4913.81\n",
       " -10123.2      -10676.4     -6914.91      -16078.1   -20920.5     -13993.7\n",
       " -13729.4        2031.05    -2247.17       10667.5   -28513.9     -31923.9\n",
       "  -1853.49      15429.1    -42355.2        -4561.78  -12153.2      37294.2\n",
       " -10755.7      -19412.6       800.626  …   -5246.48   -5164.09     34329.4\n",
       "  11236.9      -18563.3    -13052.9       -18561.3     7433.85      3298.73\n",
       "  19904.7      -11367.0      -762.891      -3947.2    20386.7       3353.57\n",
       " -12537.6       29184.1    -26990.4       -16271.2    17992.1      -5830.58"
      ]
     },
     "execution_count": 85,
     "metadata": {},
     "output_type": "execute_result"
    }
   ],
   "source": [
    "𝕄₁*𝕄₂"
   ]
  },
  {
   "cell_type": "code",
   "execution_count": 89,
   "id": "e8b4c1e7-a109-4995-8392-da2d81bbb426",
   "metadata": {},
   "outputs": [
    {
     "data": {
      "text/plain": [
       "(x, y, z)"
      ]
     },
     "execution_count": 89,
     "metadata": {},
     "output_type": "execute_result"
    }
   ],
   "source": [
    "@polyvar x y z"
   ]
  },
  {
   "cell_type": "code",
   "execution_count": 90,
   "id": "e05a361f-8565-4313-837b-67daedf9f05e",
   "metadata": {},
   "outputs": [
    {
     "data": {
      "text/latex": [
       "$$ -yz^{4} + 3.0x^{2}y^{2} + 2.0x $$"
      ],
      "text/plain": [
       "-yz⁴ + 3.0x²y² + 2.0x"
      ]
     },
     "execution_count": 90,
     "metadata": {},
     "output_type": "execute_result"
    }
   ],
   "source": [
    "p = 2x + 3.0x^2*y^2 - y*z^4"
   ]
  },
  {
   "cell_type": "code",
   "execution_count": 91,
   "id": "32596670-2178-4b0c-b4b2-fea08a151afe",
   "metadata": {},
   "outputs": [
    {
     "data": {
      "text/plain": [
       "438.000025"
      ]
     },
     "execution_count": 91,
     "metadata": {},
     "output_type": "execute_result"
    }
   ],
   "source": [
    "p(x=>3, y=>-4, z=>.05)"
   ]
  },
  {
   "cell_type": "code",
   "execution_count": 92,
   "id": "cf745178-72b1-4afa-a010-8bb7a9de2021",
   "metadata": {},
   "outputs": [
    {
     "data": {
      "text/latex": [
       "$$ 6.0xy^{2} + 2.0 $$"
      ],
      "text/plain": [
       "6.0xy² + 2.0"
      ]
     },
     "execution_count": 92,
     "metadata": {},
     "output_type": "execute_result"
    }
   ],
   "source": [
    "differentiate(p, x)"
   ]
  },
  {
   "cell_type": "code",
   "execution_count": 93,
   "id": "b5852337-1c51-4508-82a4-fb5fc592cf94",
   "metadata": {},
   "outputs": [
    {
     "data": {
      "text/plain": [
       "(x, y, z)"
      ]
     },
     "execution_count": 93,
     "metadata": {},
     "output_type": "execute_result"
    }
   ],
   "source": [
    "\n",
    "variables(p)\n",
    "\n"
   ]
  },
  {
   "cell_type": "code",
   "execution_count": 94,
   "id": "239bae71-c4cc-4972-87b7-f1fb3e51f826",
   "metadata": {},
   "outputs": [
    {
     "data": {
      "text/plain": [
       "3-element Vector{Term{Float64, Monomial{(x, y, z), 3}}}:\n",
       " -yz⁴\n",
       " 3.0x²y²\n",
       " 2.0x"
      ]
     },
     "execution_count": 94,
     "metadata": {},
     "output_type": "execute_result"
    }
   ],
   "source": [
    "p.terms\n"
   ]
  },
  {
   "cell_type": "code",
   "execution_count": 95,
   "id": "8ce65920-82b1-4125-9672-ab82a0274408",
   "metadata": {},
   "outputs": [
    {
     "data": {
      "text/plain": [
       "-1.0"
      ]
     },
     "execution_count": 95,
     "metadata": {},
     "output_type": "execute_result"
    }
   ],
   "source": [
    "p.terms[1].coefficient\n"
   ]
  },
  {
   "cell_type": "code",
   "execution_count": 96,
   "id": "214ba1db-b24b-42ba-9fc7-7e863e2b9b2e",
   "metadata": {},
   "outputs": [
    {
     "data": {
      "text/latex": [
       "$$ yz^{4} $$"
      ],
      "text/plain": [
       "yz⁴"
      ]
     },
     "execution_count": 96,
     "metadata": {},
     "output_type": "execute_result"
    }
   ],
   "source": [
    "p.terms[1].monomial\n"
   ]
  },
  {
   "cell_type": "code",
   "execution_count": 97,
   "id": "7875545b-c4eb-4d55-8df0-e52ffcba0989",
   "metadata": {},
   "outputs": [
    {
     "data": {
      "text/plain": [
       "(0, 1, 4)"
      ]
     },
     "execution_count": 97,
     "metadata": {},
     "output_type": "execute_result"
    }
   ],
   "source": [
    "\n",
    "p.terms[1].monomial.exponents"
   ]
  },
  {
   "cell_type": "code",
   "execution_count": 98,
   "id": "750179ea-550f-4b8a-a061-c9cf425a0898",
   "metadata": {},
   "outputs": [
    {
     "data": {
      "text/plain": [
       "(x₀, x₁, x₂, x₃, x₄, x₅, x₆, x₇, x₈, x₉)"
      ]
     },
     "execution_count": 98,
     "metadata": {},
     "output_type": "execute_result"
    }
   ],
   "source": [
    "NUM_TESTS = 20\n",
    "DEGREE_DISTR = Categorical([.4, .2, .05, .05, .05, .05, .05, .05, .05, .05])\n",
    "COEF_DISTR = Normal(0,10)\n",
    "ALL_VARIABLES = @polyvar x₀ x₁ x₂ x₃ x₄ x₅ x₆ x₇ x₈ x₉"
   ]
  },
  {
   "cell_type": "code",
   "execution_count": 106,
   "id": "cf28172c-661b-4989-816e-c2d8e4d08858",
   "metadata": {},
   "outputs": [
    {
     "data": {
      "text/plain": [
       "test_eval (generic function with 1 method)"
      ]
     },
     "execution_count": 106,
     "metadata": {},
     "output_type": "execute_result"
    }
   ],
   "source": [
    "function random_point(polynomial, point_distr=COEF_DISTR)\n",
    "    round.(rand(point_distr, length(variables(polynomial))), digits=2)\n",
    "end\n",
    "function random_polynomial(degree_distr=DEGREE_DISTR, nvars_distr=DEGREE_DISTR, nterms_distr=DEGREE_DISTR, coef_distr=COEF_DISTR)\n",
    "    num_vars = rand(nvars_distr)\n",
    "    num_terms = rand(nterms_distr)\n",
    "    variables = ALL_VARIABLES[1:num_vars]\n",
    "    polynomial = 0 * prod(variables)\n",
    "    for term in 1:num_terms\n",
    "        coef = round.(rand(coef_distr), digits=2)\n",
    "        exponents = rand(degree_distr, num_vars) .- 1\n",
    "        polynomial += coef * prod(variables .^ exponents)\n",
    "    end\n",
    "    return polynomial\n",
    "end\n",
    "function test_eval(polynomial, point)\n",
    "    polynomial([var=>val for (var,val) in zip(variables(polynomial), point)]...)\n",
    "end\n"
   ]
  },
  {
   "cell_type": "code",
   "execution_count": 107,
   "id": "26dbdd9e-3df5-46d6-a86c-9271cfc28e1b",
   "metadata": {},
   "outputs": [
    {
     "data": {
      "text/plain": [
       "7-element Vector{Float64}:\n",
       " 16.37\n",
       " -2.07\n",
       "  2.06\n",
       " -5.63\n",
       " 13.89\n",
       " 14.25\n",
       " -6.22"
      ]
     },
     "execution_count": 107,
     "metadata": {},
     "output_type": "execute_result"
    }
   ],
   "source": [
    "poly = random_polynomial()\n",
    "point = random_point(poly)"
   ]
  },
  {
   "cell_type": "code",
   "execution_count": 108,
   "id": "3e6b402b-8603-43a1-8e49-37bc3bcf089a",
   "metadata": {},
   "outputs": [
    {
     "name": "stdout",
     "output_type": "stream",
     "text": [
      "[16.37, -2.07, 2.06, -5.63, 13.89, 14.25, -6.22]\n"
     ]
    }
   ],
   "source": [
    "println(point)"
   ]
  },
  {
   "cell_type": "code",
   "execution_count": 112,
   "id": "06cd1116-0585-49c0-bc6f-96f5100f78fb",
   "metadata": {},
   "outputs": [
    {
     "data": {
      "text/latex": [
       "$$ 0.76x₂^{7}x₄^{8}x₆^{8} - 10.5x₂^{7}x₃x₄^{2}x₅^{7}x₆ + 6.85x₂x₄^{5}x₅^{7}x₆ - 5.33x₁x₂x₃x₅^{5}x₆ - 4.28x₄ - 6.92 $$"
      ],
      "text/plain": [
       "0.76x₂⁷x₄⁸x₆⁸ - 10.5x₂⁷x₃x₄²x₅⁷x₆ + 6.85x₂x₄⁵x₅⁷x₆ - 5.33x₁x₂x₃x₅⁵x₆ - 4.28x₄ - 6.92"
      ]
     },
     "execution_count": 112,
     "metadata": {},
     "output_type": "execute_result"
    }
   ],
   "source": [
    "poly"
   ]
  },
  {
   "cell_type": "code",
   "execution_count": 115,
   "id": "7b8faab5-3dcc-42b0-848d-1ee626719b00",
   "metadata": {},
   "outputs": [
    {
     "data": {
      "text/plain": [
       "-2.1241837592045853e17"
      ]
     },
     "execution_count": 115,
     "metadata": {},
     "output_type": "execute_result"
    }
   ],
   "source": [
    "0.76*(-2.07)^7*(-5.63)^8*(14.25)^8#"
   ]
  },
  {
   "cell_type": "code",
   "execution_count": 116,
   "id": "9d4da552-52a2-4f30-8f16-cd1fd30f9e7a",
   "metadata": {},
   "outputs": [
    {
     "data": {
      "text/plain": [
       "1.587070838637811e14"
      ]
     },
     "execution_count": 116,
     "metadata": {},
     "output_type": "execute_result"
    }
   ],
   "source": [
    "-10.5*(-2.07)^7*(2.06)*(-5.63)^2*(13.89)^7*14.25"
   ]
  },
  {
   "cell_type": "code",
   "execution_count": 117,
   "id": "dc6426ab-eb3d-49a1-be20-3602ba34c17e",
   "metadata": {},
   "outputs": [
    {
     "data": {
      "text/plain": [
       "1.363709311686849e14"
      ]
     },
     "execution_count": 117,
     "metadata": {},
     "output_type": "execute_result"
    }
   ],
   "source": [
    "6.85*(-2.07)*(-5.63)^5*(14.25)^7*(14.25)"
   ]
  },
  {
   "cell_type": "code",
   "execution_count": 118,
   "id": "7fadcc3a-5322-49ec-b9b9-e955b75ca454",
   "metadata": {},
   "outputs": [
    {
     "data": {
      "text/plain": [
       "2.741192578237207e9"
      ]
     },
     "execution_count": 118,
     "metadata": {},
     "output_type": "execute_result"
    }
   ],
   "source": [
    "-5.33*(16.37)*(-2.07)*(2.06)*(13.89)^5*(14.25)"
   ]
  },
  {
   "cell_type": "code",
   "execution_count": 119,
   "id": "58a07182-f758-4029-9e7b-61275b151fb4",
   "metadata": {},
   "outputs": [
    {
     "data": {
      "text/plain": [
       "17.1764"
      ]
     },
     "execution_count": 119,
     "metadata": {},
     "output_type": "execute_result"
    }
   ],
   "source": [
    "-4.28*(-5.63)-6.92"
   ]
  },
  {
   "cell_type": "code",
   "execution_count": 113,
   "id": "bf980781-893c-4105-adb0-c1dedcd5430e",
   "metadata": {},
   "outputs": [
    {
     "data": {
      "text/plain": [
       "3.646386377947649e17"
      ]
     },
     "execution_count": 113,
     "metadata": {},
     "output_type": "execute_result"
    }
   ],
   "source": [
    "test_eval(poly, point)"
   ]
  },
  {
   "cell_type": "code",
   "execution_count": 215,
   "id": "a3f7a9d8-f027-4ee8-81a1-7c3f7bcc7fe2",
   "metadata": {},
   "outputs": [
    {
     "data": {
      "text/latex": [
       "$$ 4x₁^{2}x₂ + x₂ + 4 $$"
      ],
      "text/plain": [
       "4x₁²x₂ + x₂ + 4"
      ]
     },
     "execution_count": 215,
     "metadata": {},
     "output_type": "execute_result"
    }
   ],
   "source": [
    "poly = 4x₁^2*x₂ + x₂ + 4"
   ]
  },
  {
   "cell_type": "code",
   "execution_count": 216,
   "id": "0bd51a45-7f17-4bfe-8eb5-2863d8136fb3",
   "metadata": {},
   "outputs": [
    {
     "data": {
      "text/plain": [
       "2-element Vector{Int64}:\n",
       " 1\n",
       " 2"
      ]
     },
     "execution_count": 216,
     "metadata": {},
     "output_type": "execute_result"
    }
   ],
   "source": [
    "point = [1, 2]"
   ]
  },
  {
   "cell_type": "code",
   "execution_count": 233,
   "id": "de91af0e-b8f4-496d-94ae-47dfe96d1d0d",
   "metadata": {},
   "outputs": [
    {
     "data": {
      "text/plain": [
       "14"
      ]
     },
     "execution_count": 233,
     "metadata": {},
     "output_type": "execute_result"
    }
   ],
   "source": [
    "test_eval(poly, point)"
   ]
  },
  {
   "cell_type": "code",
   "execution_count": 226,
   "id": "51299a26-fe32-41f6-a9d6-99557c3b65bb",
   "metadata": {},
   "outputs": [
    {
     "data": {
      "text/plain": [
       "8"
      ]
     },
     "execution_count": 226,
     "metadata": {},
     "output_type": "execute_result"
    }
   ],
   "source": [
    "4*1^2*2"
   ]
  },
  {
   "cell_type": "code",
   "execution_count": 218,
   "id": "aee047fe-760c-48ad-98fb-d783ceb3a24d",
   "metadata": {},
   "outputs": [
    {
     "data": {
      "text/plain": [
       "3-element Vector{Term{Int64, Monomial{(x₁, x₂), 2}}}:\n",
       " 4x₁²x₂\n",
       " x₂\n",
       " 4"
      ]
     },
     "execution_count": 218,
     "metadata": {},
     "output_type": "execute_result"
    }
   ],
   "source": [
    "poly.terms"
   ]
  },
  {
   "cell_type": "code",
   "execution_count": 299,
   "id": "56d934d3-7836-4243-a9e0-5b8be41ce5cf",
   "metadata": {},
   "outputs": [
    {
     "name": "stderr",
     "output_type": "stream",
     "text": [
      "┌ Error: Failed to revise /home/DAVIDSON/komateer/Workspace/CSC381/dl_f22_project-0-KostasMateerStudent/gradients.jl\n",
      "│   exception = (LoadError(\"/home/DAVIDSON/komateer/Workspace/CSC381/dl_f22_project-0-KostasMateerStudent/gradients.jl\", 39, \"unexpected \\\"end\\\"\"), Union{Ptr{Nothing}, Base.InterpreterIP}[Ptr{Nothing} @0x0000151024d659b0])\n",
      "└ @ Revise /home/DAVIDSON/komateer/.julia/packages/Revise/VskYC/src/packagedef.jl:710\n",
      "┌ Warning: The running code does not match the saved version for the following files:\n",
      "│ \n",
      "│   /home/DAVIDSON/komateer/Workspace/CSC381/dl_f22_project-0-KostasMateerStudent/gradients.jl\n",
      "│ \n",
      "│ If the error was due to evaluation order, it can sometimes be resolved by calling `Revise.retry()`.\n",
      "│ Use Revise.errors() to report errors again. Only the first error in each file is shown.\n",
      "│ Your prompt color may be yellow until the errors are resolved.\n",
      "└ @ Revise /home/DAVIDSON/komateer/.julia/packages/Revise/VskYC/src/packagedef.jl:818\n"
     ]
    },
    {
     "data": {
      "text/latex": [
       "$$ -8.98x₀x₁^{4}x₂x₃^{2} $$"
      ],
      "text/plain": [
       "-8.98x₀x₁⁴x₂x₃²"
      ]
     },
     "execution_count": 299,
     "metadata": {},
     "output_type": "execute_result"
    }
   ],
   "source": [
    "poly"
   ]
  },
  {
   "cell_type": "code",
   "execution_count": 300,
   "id": "e00c7dc8-895e-48dd-b4cd-e5ca791a3f3d",
   "metadata": {},
   "outputs": [
    {
     "data": {
      "text/latex": [
       "$$ -8.98x₀x₁^{4}x₂x₃^{2} $$"
      ],
      "text/plain": [
       "-8.98x₀x₁⁴x₂x₃²"
      ]
     },
     "execution_count": 300,
     "metadata": {},
     "output_type": "execute_result"
    }
   ],
   "source": []
  },
  {
   "cell_type": "code",
   "execution_count": 304,
   "id": "76b355da-4e8d-4018-9aa3-59824c88ec78",
   "metadata": {},
   "outputs": [
    {
     "ename": "LoadError",
     "evalue": "syntax: extra token \"poly\" after end of expression",
     "output_type": "error",
     "traceback": [
      "syntax: extra token \"poly\" after end of expression",
      "",
      "Stacktrace:",
      " [1] top-level scope",
      "   @ In[304]:1",
      " [2] eval",
      "   @ ./boot.jl:373 [inlined]",
      " [3] include_string(mapexpr::typeof(REPL.softscope), mod::Module, code::String, filename::String)",
      "   @ Base ./loading.jl:1196"
     ]
    }
   ],
   "source": [
    "x\\_0<tab> has poly.terms[1]"
   ]
  },
  {
   "cell_type": "code",
   "execution_count": 221,
   "id": "b03e660c-4a9a-41b5-9610-ea8ba249472b",
   "metadata": {},
   "outputs": [
    {
     "data": {
      "text/plain": [
       "(2, 1)"
      ]
     },
     "execution_count": 221,
     "metadata": {},
     "output_type": "execute_result"
    }
   ],
   "source": [
    "x.monomial.exponents"
   ]
  },
  {
   "cell_type": "code",
   "execution_count": 222,
   "id": "5ba532b7-e244-4e8c-9245-da9f1711878f",
   "metadata": {},
   "outputs": [
    {
     "data": {
      "text/plain": [
       "(0, 1)"
      ]
     },
     "execution_count": 222,
     "metadata": {},
     "output_type": "execute_result"
    }
   ],
   "source": [
    "poly.terms[2].monomial.exponents"
   ]
  },
  {
   "cell_type": "code",
   "execution_count": 223,
   "id": "cee0552e-1f39-4f1e-9357-843413feb35e",
   "metadata": {},
   "outputs": [
    {
     "data": {
      "text/plain": [
       "2"
      ]
     },
     "execution_count": 223,
     "metadata": {},
     "output_type": "execute_result"
    }
   ],
   "source": [
    "length(poly.terms[1].monomial.exponents)"
   ]
  },
  {
   "cell_type": "code",
   "execution_count": 203,
   "id": "dfe16bc1-d388-479d-9570-94691380d12a",
   "metadata": {},
   "outputs": [
    {
     "data": {
      "text/plain": [
       "(2, 0)"
      ]
     },
     "execution_count": 203,
     "metadata": {},
     "output_type": "execute_result"
    }
   ],
   "source": [
    "poly.terms[1].monomial.exponents"
   ]
  },
  {
   "cell_type": "code",
   "execution_count": 243,
   "id": "1b24f87e-dc9e-46fc-a2b9-9e9e0d4e5e20",
   "metadata": {},
   "outputs": [
    {
     "data": {
      "text/plain": [
       "4"
      ]
     },
     "execution_count": 243,
     "metadata": {},
     "output_type": "execute_result"
    }
   ],
   "source": [
    "poly.terms[1].coefficient * point[1]^(poly.terms[1].monomial.exponents[1]) * point[2]^(poly.terms[2].monomial.exponents[2]) \n",
    "+ poly.terms[2].coefficient * point[1]^(poly.terms[1].monomial.exponents[1]) * point[2]^(poly.terms[2].monomial.exponents[2]) \n",
    "+ poly.terms[3].coefficient * point[1]^(poly.terms[1].monomial.exponents[1])"
   ]
  },
  {
   "cell_type": "code",
   "execution_count": 189,
   "id": "fdb549df-429e-4b18-930f-0e76f617a360",
   "metadata": {},
   "outputs": [],
   "source": [
    "using TypedPolynomials"
   ]
  },
  {
   "cell_type": "code",
   "execution_count": 190,
   "id": "71f550e6-c23c-4f50-b243-af778d68ea8e",
   "metadata": {},
   "outputs": [
    {
     "ename": "LoadError",
     "evalue": "UndefVarError: Polynomials not defined",
     "output_type": "error",
     "traceback": [
      "UndefVarError: Polynomials not defined",
      "",
      "Stacktrace:",
      " [1] top-level scope",
      "   @ In[190]:1",
      " [2] eval",
      "   @ ./boot.jl:373 [inlined]",
      " [3] include_string(mapexpr::typeof(REPL.softscope), mod::Module, code::String, filename::String)",
      "   @ Base ./loading.jl:1196"
     ]
    }
   ],
   "source": [
    "collect(Polynomials.monomials(p))"
   ]
  },
  {
   "cell_type": "code",
   "execution_count": 267,
   "id": "3dc7c31e-86e7-4228-be0c-abd104f2e259",
   "metadata": {},
   "outputs": [
    {
     "data": {
      "text/plain": [
       "14"
      ]
     },
     "execution_count": 267,
     "metadata": {},
     "output_type": "execute_result"
    }
   ],
   "source": [
    "evaluate(poly, point)"
   ]
  },
  {
   "cell_type": "code",
   "execution_count": 268,
   "id": "8d03b9ec-54b2-4882-a186-9313b9cc7912",
   "metadata": {},
   "outputs": [
    {
     "data": {
      "text/plain": [
       "14"
      ]
     },
     "execution_count": 268,
     "metadata": {},
     "output_type": "execute_result"
    }
   ],
   "source": [
    "test_eval(poly, point)"
   ]
  },
  {
   "cell_type": "code",
   "execution_count": 269,
   "id": "64134bec-0e85-4383-8f5a-01ce4d3df7af",
   "metadata": {},
   "outputs": [
    {
     "data": {
      "text/plain": [
       "0"
      ]
     },
     "execution_count": 269,
     "metadata": {},
     "output_type": "execute_result"
    }
   ],
   "source": [
    "poly.terms[3].monomial.exponents[1]"
   ]
  },
  {
   "cell_type": "code",
   "execution_count": 272,
   "id": "eaa39631-71b9-4d8a-8587-9fa88f99b329",
   "metadata": {},
   "outputs": [
    {
     "data": {
      "text/plain": [
       "(x₀, x₁, x₂, x₃, x₄, x₅, x₆, x₇, x₈, x₉)"
      ]
     },
     "execution_count": 272,
     "metadata": {},
     "output_type": "execute_result"
    }
   ],
   "source": [
    "using Distributions\n",
    "NUM_TESTS = 20\n",
    "DEGREE_DISTR = Categorical([.4, .2, .05, .05, .05, .05, .05, .05, .05, .05])\n",
    "COEF_DISTR = Normal(0,10)\n",
    "ALL_VARIABLES = @polyvar x₀ x₁ x₂ x₃ x₄ x₅ x₆ x₇ x₈ x₉"
   ]
  },
  {
   "cell_type": "code",
   "execution_count": 277,
   "id": "e19786aa-00a7-474d-8daf-5a51644e9f07",
   "metadata": {},
   "outputs": [
    {
     "data": {
      "text/plain": [
       "random_point (generic function with 2 methods)"
      ]
     },
     "execution_count": 277,
     "metadata": {},
     "output_type": "execute_result"
    }
   ],
   "source": [
    "using Distributions\n",
    "\n",
    "\n",
    "\n",
    "NUM_TESTS = 20\n",
    "DEGREE_DISTR = Categorical([.4, .2, .05, .05, .05, .05, .05, .05, .05, .05])\n",
    "COEF_DISTR = Normal(0,10)\n",
    "ALL_VARIABLES = @polyvar x₀ x₁ x₂ x₃ x₄ x₅ x₆ x₇ x₈ x₉\n",
    "\n",
    "function test_eval(polynomial, point)\n",
    "    polynomial([var=>val for (var,val) in zip(variables(polynomial), point)]...)\n",
    "end\n",
    "\n",
    "function random_polynomial(degree_distr=DEGREE_DISTR, nvars_distr=DEGREE_DISTR, nterms_distr=DEGREE_DISTR, coef_distr=COEF_DISTR)\n",
    "    num_vars = rand(nvars_distr)\n",
    "    num_terms = rand(nterms_distr)\n",
    "    variables = ALL_VARIABLES[1:num_vars]\n",
    "    polynomial = 0 * prod(variables)\n",
    "    for term in 1:num_terms\n",
    "        coef = round.(rand(coef_distr), digits=2)\n",
    "        exponents = rand(degree_distr, num_vars) .- 1\n",
    "        polynomial += coef * prod(variables .^ exponents)\n",
    "    end\n",
    "    return polynomial\n",
    "end\n",
    "\n",
    "function random_point(polynomial, point_distr=COEF_DISTR)\n",
    "    round.(rand(point_distr, length(variables(polynomial))), digits=2)\n",
    "end"
   ]
  },
  {
   "cell_type": "code",
   "execution_count": 289,
   "id": "6c865e90-ba70-4957-a532-f884d6b50f82",
   "metadata": {},
   "outputs": [
    {
     "data": {
      "text/latex": [
       "$$ -8.98x₀x₁^{4}x₂x₃^{2} $$"
      ],
      "text/plain": [
       "-8.98x₀x₁⁴x₂x₃²"
      ]
     },
     "execution_count": 289,
     "metadata": {},
     "output_type": "execute_result"
    }
   ],
   "source": [
    "poly = random_polynomial()"
   ]
  },
  {
   "cell_type": "code",
   "execution_count": 297,
   "id": "c87d2dc9-5489-4661-beb2-ee7c0a9dcc03",
   "metadata": {},
   "outputs": [
    {
     "data": {
      "text/plain": [
       "5-element Vector{Float64}:\n",
       "  19.15\n",
       "   9.49\n",
       " -11.26\n",
       "  -9.93\n",
       " -12.09"
      ]
     },
     "execution_count": 297,
     "metadata": {},
     "output_type": "execute_result"
    }
   ],
   "source": [
    "point"
   ]
  },
  {
   "cell_type": "code",
   "execution_count": 296,
   "id": "ec325dcd-7145-47fb-a134-8dc8216bd1b5",
   "metadata": {},
   "outputs": [
    {
     "data": {
      "text/plain": [
       "(19.15, 1)"
      ]
     },
     "execution_count": 296,
     "metadata": {},
     "output_type": "execute_result"
    }
   ],
   "source": [
    "point[1],(poly.terms[1].monomial.exponents[1])"
   ]
  },
  {
   "cell_type": "code",
   "execution_count": 298,
   "id": "87356e37-ad3b-4f20-9e4a-6716be278df3",
   "metadata": {},
   "outputs": [
    {
     "data": {
      "text/plain": [
       "1.5486270904185028e9"
      ]
     },
     "execution_count": 298,
     "metadata": {},
     "output_type": "execute_result"
    }
   ],
   "source": [
    "evaluate(poly, point)"
   ]
  },
  {
   "cell_type": "code",
   "execution_count": 292,
   "id": "a215afc5-06af-4cad-a1e6-ebc6dc576910",
   "metadata": {},
   "outputs": [
    {
     "data": {
      "text/plain": [
       "1.5486270904185026e9"
      ]
     },
     "execution_count": 292,
     "metadata": {},
     "output_type": "execute_result"
    }
   ],
   "source": [
    "test_eval(poly, point)"
   ]
  },
  {
   "cell_type": "code",
   "execution_count": 551,
   "id": "deab4128-1e00-4042-af3d-8cc9e106983a",
   "metadata": {},
   "outputs": [
    {
     "data": {
      "text/latex": [
       "$$ -0.55x₀^{6}x₂^{7}x₃^{9} - 4.33x₀^{6}x₁x₃^{2}x₄^{8}x₅ - 2.88x₂^{4}x₃^{9}x₄x₅ + 9.16x₀^{9}x₁x₄^{4} + 1.05x₀^{6}x₂x₃^{3}x₄ - 10.08x₃x₄^{5}x₅^{5} $$"
      ],
      "text/plain": [
       "-0.55x₀⁶x₂⁷x₃⁹ - 4.33x₀⁶x₁x₃²x₄⁸x₅ - 2.88x₂⁴x₃⁹x₄x₅ + 9.16x₀⁹x₁x₄⁴ + 1.05x₀⁶x₂x₃³x₄ - 10.08x₃x₄⁵x₅⁵"
      ]
     },
     "execution_count": 551,
     "metadata": {},
     "output_type": "execute_result"
    }
   ],
   "source": [
    "poly = random_polynomial()"
   ]
  },
  {
   "cell_type": "code",
   "execution_count": 552,
   "id": "252a24d5-53c4-4953-8f35-f941f79b8530",
   "metadata": {},
   "outputs": [
    {
     "data": {
      "text/plain": [
       "6-element Vector{Float64}:\n",
       "   6.7\n",
       "  10.31\n",
       "  -9.79\n",
       "  -1.66\n",
       " -10.56\n",
       "  -9.64"
      ]
     },
     "execution_count": 552,
     "metadata": {},
     "output_type": "execute_result"
    }
   ],
   "source": [
    "point = random_point(poly)"
   ]
  },
  {
   "cell_type": "code",
   "execution_count": 553,
   "id": "8d68120e-7341-4378-badd-414f1d8349e9",
   "metadata": {},
   "outputs": [
    {
     "data": {
      "text/latex": [
       "$$ -3.3000000000000003x₀^{5}x₂^{7}x₃^{9} - 25.98x₀^{5}x₁x₃^{2}x₄^{8}x₅ + 82.44x₀^{8}x₁x₄^{4} + 6.300000000000001x₀^{5}x₂x₃^{3}x₄ $$"
      ],
      "text/plain": [
       "-3.3000000000000003x₀⁵x₂⁷x₃⁹ - 25.98x₀⁵x₁x₃²x₄⁸x₅ + 82.44x₀⁸x₁x₄⁴ + 6.300000000000001x₀⁵x₂x₃³x₄"
      ]
     },
     "execution_count": 553,
     "metadata": {},
     "output_type": "execute_result"
    }
   ],
   "source": [
    "vectory(poly, variables(poly)[1])"
   ]
  },
  {
   "cell_type": "code",
   "execution_count": 554,
   "id": "8cdc3bdc-1f6f-41c0-aa85-e8b660161742",
   "metadata": {},
   "outputs": [
    {
     "data": {
      "text/latex": [
       "$$ -3.3000000000000003x₀^{5}x₂^{7}x₃^{9} - 25.98x₀^{5}x₁x₃^{2}x₄^{8}x₅ + 82.44x₀^{8}x₁x₄^{4} + 6.300000000000001x₀^{5}x₂x₃^{3}x₄ $$"
      ],
      "text/plain": [
       "-3.3000000000000003x₀⁵x₂⁷x₃⁹ - 25.98x₀⁵x₁x₃²x₄⁸x₅ + 82.44x₀⁸x₁x₄⁴ + 6.300000000000001x₀⁵x₂x₃³x₄"
      ]
     },
     "execution_count": 554,
     "metadata": {},
     "output_type": "execute_result"
    }
   ],
   "source": [
    "differentiate(poly, variables(poly)[1])"
   ]
  },
  {
   "cell_type": "code",
   "execution_count": 464,
   "id": "bf9d0564-e697-4bdf-8794-edc37f289c92",
   "metadata": {},
   "outputs": [
    {
     "data": {
      "text/latex": [
       "$$ x₀ + x₁ $$"
      ],
      "text/plain": [
       "x₀ + x₁"
      ]
     },
     "execution_count": 464,
     "metadata": {},
     "output_type": "execute_result"
    }
   ],
   "source": [
    "variables(poly)[1]+variables(poly)[2]"
   ]
  },
  {
   "cell_type": "code",
   "execution_count": 435,
   "id": "2b26506f-cfbe-45b6-b791-a19f642cefb1",
   "metadata": {},
   "outputs": [
    {
     "data": {
      "text/plain": [
       "(234, 333, 23)"
      ]
     },
     "execution_count": 435,
     "metadata": {},
     "output_type": "execute_result"
    }
   ],
   "source": [
    "x = (234, 333, 23)"
   ]
  },
  {
   "cell_type": "code",
   "execution_count": 429,
   "id": "1f131a95-4364-445b-82a5-0ea0d9bb999f",
   "metadata": {},
   "outputs": [
    {
     "data": {
      "text/plain": [
       "1"
      ]
     },
     "execution_count": 429,
     "metadata": {},
     "output_type": "execute_result"
    }
   ],
   "source": [
    "getindex(x, 1)"
   ]
  },
  {
   "cell_type": "code",
   "execution_count": 431,
   "id": "a5fbe448-7c7f-4481-9115-5a9b4dedfd6e",
   "metadata": {},
   "outputs": [
    {
     "data": {
      "text/latex": [
       "$$ x₀ $$"
      ],
      "text/plain": [
       "x₀"
      ]
     },
     "execution_count": 431,
     "metadata": {},
     "output_type": "execute_result"
    }
   ],
   "source": [
    "find"
   ]
  },
  {
   "cell_type": "code",
   "execution_count": 387,
   "id": "ee4cf421-7b38-421a-89c5-570157582602",
   "metadata": {},
   "outputs": [
    {
     "ename": "LoadError",
     "evalue": "MethodError: no method matching setindex!(::NTuple{7, Int64}, ::Int64, ::Int64)",
     "output_type": "error",
     "traceback": [
      "MethodError: no method matching setindex!(::NTuple{7, Int64}, ::Int64, ::Int64)",
      "",
      "Stacktrace:",
      " [1] top-level scope",
      "   @ In[387]:1",
      " [2] eval",
      "   @ ./boot.jl:373 [inlined]",
      " [3] include_string(mapexpr::typeof(REPL.softscope), mod::Module, code::String, filename::String)",
      "   @ Base ./loading.jl:1196"
     ]
    }
   ],
   "source": [
    "poly.terms[1].monomial.exponents[1] = 1"
   ]
  },
  {
   "cell_type": "code",
   "execution_count": 343,
   "id": "6f537b99-19d9-43d6-aecc-1e7af88262f3",
   "metadata": {},
   "outputs": [
    {
     "data": {
      "text/latex": [
       "$$ x₀ $$"
      ],
      "text/plain": [
       "x₀"
      ]
     },
     "execution_count": 343,
     "metadata": {},
     "output_type": "execute_result"
    }
   ],
   "source": [
    "y = variables(poly)[1]"
   ]
  },
  {
   "cell_type": "code",
   "execution_count": 344,
   "id": "48bca582-9cf8-4a75-92a2-ab87ba8ce374",
   "metadata": {},
   "outputs": [
    {
     "data": {
      "text/plain": [
       "1-element Vector{Int64}:\n",
       " 1"
      ]
     },
     "execution_count": 344,
     "metadata": {},
     "output_type": "execute_result"
    }
   ],
   "source": [
    "findall(x->x==y, variables(poly))"
   ]
  },
  {
   "cell_type": "code",
   "execution_count": 345,
   "id": "60ca76f5-9019-4ebc-9969-96b15a5d79cf",
   "metadata": {},
   "outputs": [
    {
     "data": {
      "text/plain": [
       "7-element Vector{Term{Float64, Monomial{(x₀, x₁, x₂, x₃, x₄, x₅, x₆), 7}}}:\n",
       " 10.01x₀⁴x₃⁹x₅⁷\n",
       " 14.74x₀⁵x₄⁷x₅⁷\n",
       " 15.41x₀⁹x₂²x₃⁶x₅\n",
       " -12.41x₁x₂x₃⁷x₄⁶x₆²\n",
       " 13.24x₀x₃⁶x₅⁶\n",
       " 5.95x₀x₁x₂x₃³x₄x₅x₆²\n",
       " -1.74x₁x₂x₄"
      ]
     },
     "execution_count": 345,
     "metadata": {},
     "output_type": "execute_result"
    }
   ],
   "source": [
    "poly.terms"
   ]
  },
  {
   "cell_type": "code",
   "execution_count": 382,
   "id": "610f1d22-387e-43e6-9fbc-95528f335ab6",
   "metadata": {},
   "outputs": [
    {
     "ename": "LoadError",
     "evalue": "setfield!: immutable struct of type Term cannot be changed",
     "output_type": "error",
     "traceback": [
      "setfield!: immutable struct of type Term cannot be changed",
      "",
      "Stacktrace:",
      " [1] setproperty!(x::Term{Float64, Monomial{(x₀, x₁, x₂, x₃, x₄, x₅, x₆), 7}}, f::Symbol, v::Int64)",
      "   @ Base ./Base.jl:43",
      " [2] top-level scope",
      "   @ In[382]:1",
      " [3] eval",
      "   @ ./boot.jl:373 [inlined]",
      " [4] include_string(mapexpr::typeof(REPL.softscope), mod::Module, code::String, filename::String)",
      "   @ Base ./loading.jl:1196"
     ]
    }
   ],
   "source": [
    "poly.terms[1].coefficient = 11"
   ]
  },
  {
   "cell_type": "code",
   "execution_count": 393,
   "id": "a445d2ba-3848-4852-9499-5ad96e7dd385",
   "metadata": {},
   "outputs": [
    {
     "data": {
      "text/latex": [
       "$$ x₀ + 3 $$"
      ],
      "text/plain": [
       "x₀ + 3"
      ]
     },
     "execution_count": 393,
     "metadata": {},
     "output_type": "execute_result"
    }
   ],
   "source": [
    "poly = x^1 + 3"
   ]
  },
  {
   "cell_type": "code",
   "execution_count": 396,
   "id": "5bc7f607-2e57-4bdc-9946-d37d87648332",
   "metadata": {},
   "outputs": [
    {
     "data": {
      "text/latex": [
       "$$ x₀^{6} + x₀ + 3 $$"
      ],
      "text/plain": [
       "x₀⁶ + x₀ + 3"
      ]
     },
     "execution_count": 396,
     "metadata": {},
     "output_type": "execute_result"
    }
   ],
   "source": [
    "poly + y^6"
   ]
  },
  {
   "cell_type": "code",
   "execution_count": 399,
   "id": "25cd09f7-3285-49d2-aa48-c7de977f6b82",
   "metadata": {},
   "outputs": [
    {
     "data": {
      "text/plain": [
       "(q, r, s, z)"
      ]
     },
     "execution_count": 399,
     "metadata": {},
     "output_type": "execute_result"
    }
   ],
   "source": [
    "@polyvar q r s z"
   ]
  },
  {
   "cell_type": "code",
   "execution_count": 400,
   "id": "ff2ddc65-31eb-4508-aa09-70a9c8710bea",
   "metadata": {},
   "outputs": [
    {
     "data": {
      "text/latex": [
       "$$ s^{7} + q^{2} + r $$"
      ],
      "text/plain": [
       "s⁷ + q² + r"
      ]
     },
     "execution_count": 400,
     "metadata": {},
     "output_type": "execute_result"
    }
   ],
   "source": [
    "poly = q^2 + r + s^7"
   ]
  },
  {
   "cell_type": "code",
   "execution_count": 401,
   "id": "f90d737b-5be6-494e-b6a9-cf5f386a5188",
   "metadata": {},
   "outputs": [
    {
     "data": {
      "text/latex": [
       "$$ z^{34} + s^{7} + q^{2} + r $$"
      ],
      "text/plain": [
       "z³⁴ + s⁷ + q² + r"
      ]
     },
     "execution_count": 401,
     "metadata": {},
     "output_type": "execute_result"
    }
   ],
   "source": [
    "poly + z^34"
   ]
  },
  {
   "cell_type": "code",
   "execution_count": 402,
   "id": "da655436-d7c7-4a57-9389-875aa5442e71",
   "metadata": {},
   "outputs": [
    {
     "data": {
      "text/plain": [
       "(q, r, s)"
      ]
     },
     "execution_count": 402,
     "metadata": {},
     "output_type": "execute_result"
    }
   ],
   "source": [
    "variables(poly)"
   ]
  },
  {
   "cell_type": "code",
   "execution_count": 403,
   "id": "81a20dc5-d4af-44d6-ac29-4d7db9911867",
   "metadata": {},
   "outputs": [
    {
     "ename": "LoadError",
     "evalue": "LoadError: Unsupported syntax. Expected x[a:b] for literal integers a and b\nin expression starting at In[403]:1",
     "output_type": "error",
     "traceback": [
      "LoadError: Unsupported syntax. Expected x[a:b] for literal integers a and b\nin expression starting at In[403]:1",
      "",
      "Stacktrace:",
      " [1] error(s::String)",
      "   @ Base ./error.jl:33",
      " [2] _split(expr::Expr)",
      "   @ TypedPolynomials ~/.julia/packages/TypedPolynomials/4RbPQ/src/macros.jl:5",
      " [3] _makevar(expr::Expr)",
      "   @ TypedPolynomials ~/.julia/packages/TypedPolynomials/4RbPQ/src/macros.jl:10",
      " [4] var\"@polyvar\"(__source__::LineNumberNode, __module__::Module, name::Any)",
      "   @ TypedPolynomials ~/.julia/packages/TypedPolynomials/4RbPQ/src/macros.jl:52",
      " [5] eval",
      "   @ ./boot.jl:373 [inlined]",
      " [6] include_string(mapexpr::typeof(REPL.softscope), mod::Module, code::String, filename::String)",
      "   @ Base ./loading.jl:1196"
     ]
    }
   ],
   "source": [
    "@polyvar variables(poly)"
   ]
  },
  {
   "cell_type": "code",
   "execution_count": 557,
   "id": "50957b66-9900-4f64-956a-1ede1a154558",
   "metadata": {},
   "outputs": [
    {
     "data": {
      "text/latex": [
       "$$ 8.07x₀^{6}x₁^{8}x₄^{7}x₆^{5}x₇x₈x₉ $$"
      ],
      "text/plain": [
       "8.07x₀⁶x₁⁸x₄⁷x₆⁵x₇x₈x₉"
      ]
     },
     "execution_count": 557,
     "metadata": {},
     "output_type": "execute_result"
    }
   ],
   "source": [
    "poly = random_polynomial()\n",
    "        "
   ]
  },
  {
   "cell_type": "code",
   "execution_count": 558,
   "id": "4cb85c14-fcc2-4c4b-a4ba-56eb44739ea1",
   "metadata": {},
   "outputs": [
    {
     "data": {
      "text/plain": [
       "10-element Vector{Float64}:\n",
       "  -8.03\n",
       " -16.93\n",
       " -24.33\n",
       "   2.1\n",
       " -14.1\n",
       "   9.44\n",
       "  -2.12\n",
       "  15.66\n",
       " -18.65\n",
       "  -2.57"
      ]
     },
     "execution_count": 558,
     "metadata": {},
     "output_type": "execute_result"
    }
   ],
   "source": [
    "point = random_point(poly)"
   ]
  },
  {
   "cell_type": "code",
   "execution_count": 566,
   "id": "15a7fbcb-983d-40c5-a764-252e37973f43",
   "metadata": {},
   "outputs": [
    {
     "ename": "LoadError",
     "evalue": "UndefVarError: new_exponent not defined",
     "output_type": "error",
     "traceback": [
      "UndefVarError: new_exponent not defined",
      "",
      "Stacktrace:",
      " [1] partial_derivative(polynomial::Polynomial{Float64, Term{Float64, Monomial{(x₀, x₁, x₂, x₃, x₄, x₅, x₆, x₇, x₈, x₉), 10}}, Vector{Term{Float64, Monomial{(x₀, x₁, x₂, x₃, x₄, x₅, x₆, x₇, x₈, x₉), 10}}}}, variable::Variable{:x₂})",
      "   @ Main ~/Workspace/CSC381/dl_f22_project-0-KostasMateerStudent/gradients.jl:50",
      " [2] symbolic_gradient(polynomial::Polynomial{Float64, Term{Float64, Monomial{(x₀, x₁, x₂, x₃, x₄, x₅, x₆, x₇, x₈, x₉), 10}}, Vector{Term{Float64, Monomial{(x₀, x₁, x₂, x₃, x₄, x₅, x₆, x₇, x₈, x₉), 10}}}})",
      "   @ Main ~/Workspace/CSC381/dl_f22_project-0-KostasMateerStudent/gradients.jl:62",
      " [3] top-level scope",
      "   @ In[566]:1",
      " [4] eval",
      "   @ ./boot.jl:373 [inlined]",
      " [5] include_string(mapexpr::typeof(REPL.softscope), mod::Module, code::String, filename::String)",
      "   @ Base ./loading.jl:1196"
     ]
    }
   ],
   "source": [
    "symbolic_gradient(poly)\n"
   ]
  },
  {
   "cell_type": "code",
   "execution_count": 560,
   "id": "8fbe0743-da6c-4ee5-b8d0-fa91d9ad220e",
   "metadata": {},
   "outputs": [
    {
     "data": {
      "text/plain": [
       "10-element Vector{Polynomial{Float64, Term{Float64, Monomial{(x₀, x₁, x₂, x₃, x₄, x₅, x₆, x₇, x₈, x₉), 10}}, Vector{Term{Float64, Monomial{(x₀, x₁, x₂, x₃, x₄, x₅, x₆, x₇, x₈, x₉), 10}}}}}:\n",
       " 48.42x₀⁵x₁⁸x₄⁷x₆⁵x₇x₈x₉\n",
       " 64.56x₀⁶x₁⁷x₄⁷x₆⁵x₇x₈x₉\n",
       " 0.0\n",
       " 0.0\n",
       " 56.49x₀⁶x₁⁸x₄⁶x₆⁵x₇x₈x₉\n",
       " 0.0\n",
       " 40.35x₀⁶x₁⁸x₄⁷x₆⁴x₇x₈x₉\n",
       " 8.07x₀⁶x₁⁸x₄⁷x₆⁵x₈x₉\n",
       " 8.07x₀⁶x₁⁸x₄⁷x₆⁵x₇x₉\n",
       " 8.07x₀⁶x₁⁸x₄⁷x₆⁵x₇x₈"
      ]
     },
     "execution_count": 560,
     "metadata": {},
     "output_type": "execute_result"
    }
   ],
   "source": [
    "differentiate(poly, variables(poly))"
   ]
  },
  {
   "cell_type": "code",
   "execution_count": null,
   "id": "91f08af2-e977-4ce6-a08e-925bf66f1851",
   "metadata": {},
   "outputs": [],
   "source": []
  }
 ],
 "metadata": {
  "kernelspec": {
   "display_name": "Julia 1.7",
   "language": "julia",
   "name": "julia-1.7"
  },
  "language_info": {
   "file_extension": ".jl",
   "mimetype": "application/julia",
   "name": "julia",
   "version": "1.7.0"
  }
 },
 "nbformat": 4,
 "nbformat_minor": 5
}
